{
 "cells": [
  {
   "cell_type": "markdown",
   "id": "89bf42da",
   "metadata": {},
   "source": [
    "# Data Prepration (Data Munging)"
   ]
  },
  {
   "cell_type": "markdown",
   "id": "1648176d",
   "metadata": {},
   "source": [
    "\n",
    "### Import Libraries"
   ]
  },
  {
   "cell_type": "code",
   "execution_count": 1,
   "id": "ad7303ea",
   "metadata": {},
   "outputs": [],
   "source": [
    "# Import libraries \n",
    "\n",
    "import numpy as np\n",
    "import pandas as pd\n",
    "import matplotlib.pyplot as plt\n",
    "import seaborn as sns"
   ]
  },
  {
   "cell_type": "markdown",
   "id": "ad0f9501",
   "metadata": {},
   "source": [
    "### Import CSV Files"
   ]
  },
  {
   "cell_type": "code",
   "execution_count": 2,
   "id": "e5783ffd",
   "metadata": {},
   "outputs": [],
   "source": [
    "#Import the data from Csv files\n",
    "#Feature, sales and stores file - just for analysis purpose.\n",
    "#feature_sales_store_combine_data file - combine csv file from sql - need cleaning and some Feature engineering"
   ]
  },
  {
   "cell_type": "code",
   "execution_count": 3,
   "id": "93ba0cb8",
   "metadata": {},
   "outputs": [],
   "source": [
    "Feature = pd.read_csv('C:/Users/pooja/OneDrive/Desktop/Sales Forecasting/1. Data_Collection/Features data set.csv')\n",
    "Sales = pd.read_csv('C:/Users/pooja/OneDrive/Desktop/Sales Forecasting/1. Data_Collection/sales data-set.csv')\n",
    "Store = pd.read_csv('C:/Users/pooja/OneDrive/Desktop/Sales Forecasting/1. Data_Collection/stores data-set.csv')\n",
    "#feature_sales_store_combine_data = pd.read_csv('C:/Users/pooja/OneDrive/Desktop/We cloud/ML/Project #2/2. Data_Prepration/Retail_Stores_Data.csv')"
   ]
  },
  {
   "cell_type": "code",
   "execution_count": 4,
   "id": "b504a320",
   "metadata": {},
   "outputs": [],
   "source": [
    "#Feature"
   ]
  },
  {
   "cell_type": "markdown",
   "id": "8953cf61",
   "metadata": {},
   "source": [
    "### Combine the Data"
   ]
  },
  {
   "cell_type": "code",
   "execution_count": 5,
   "id": "adb22433",
   "metadata": {},
   "outputs": [],
   "source": [
    "#check the header of Feature Table\n",
    "Feature.head()\n",
    "Feature.shape\n",
    "Feature.Date=pd.to_datetime(Feature.Date, dayfirst=True)\n",
    "#Feature"
   ]
  },
  {
   "cell_type": "code",
   "execution_count": 6,
   "id": "369b0037",
   "metadata": {},
   "outputs": [],
   "source": [
    "#check the header of Sales table\n",
    "Sales.tail()\n",
    "Sales.shape\n",
    "Sales.Date=pd.to_datetime(Sales.Date, dayfirst=True)\n",
    "#Sales"
   ]
  },
  {
   "cell_type": "code",
   "execution_count": 7,
   "id": "05b18b5a",
   "metadata": {},
   "outputs": [],
   "source": [
    "#check the header of Store table\n",
    "#Store"
   ]
  },
  {
   "cell_type": "code",
   "execution_count": 8,
   "id": "55e472cc",
   "metadata": {},
   "outputs": [],
   "source": [
    "#now, sales table has data for every week\n",
    "#let's combine feature table with sales table\n",
    "#to combine both table we have to perform join function \n",
    "feature_sales_combine_data = pd.merge(Feature,Sales,on = ['Date','Store','IsHoliday'])"
   ]
  },
  {
   "cell_type": "code",
   "execution_count": 9,
   "id": "c4f7a7aa",
   "metadata": {},
   "outputs": [],
   "source": [
    "#feature_sales_combine_data"
   ]
  },
  {
   "cell_type": "code",
   "execution_count": 10,
   "id": "ea1b780d",
   "metadata": {},
   "outputs": [],
   "source": [
    "#now join store table with feature_sales table \n",
    "feature_sales_combine_data = pd.merge(Feature,Sales,on = ['Date','Store','IsHoliday'])\n",
    "feature_sales_store_combine_data = pd.merge(feature_sales_combine_data,Store,on=['Store'])"
   ]
  },
  {
   "cell_type": "code",
   "execution_count": 11,
   "id": "0ef036fc",
   "metadata": {},
   "outputs": [],
   "source": [
    "#Analys the combine table \n",
    "#feature_sales_store_combine_data"
   ]
  },
  {
   "cell_type": "code",
   "execution_count": 12,
   "id": "d9d591fb",
   "metadata": {},
   "outputs": [],
   "source": [
    "#Save the file as backup data\n",
    "feature_sales_store_combine_data.to_csv(r'C:\\Users\\pooja\\OneDrive\\Desktop\\Sales Forecasting\\2. Data_Prepration\\RetailAnalysis_Data_prepration.csv')"
   ]
  },
  {
   "cell_type": "markdown",
   "id": "dea0da7c",
   "metadata": {},
   "source": [
    "### Let's Handle Null Values"
   ]
  },
  {
   "cell_type": "code",
   "execution_count": 13,
   "id": "d76ce443",
   "metadata": {},
   "outputs": [],
   "source": [
    "#Need to handel null values\n",
    "#feature_sales_store_combine_data.isna().sum()"
   ]
  },
  {
   "cell_type": "code",
   "execution_count": 14,
   "id": "cebe76d5",
   "metadata": {},
   "outputs": [],
   "source": [
    "#use heat map to see the null value columns visually\n",
    "#sns.heatmap(feature_sales_store_combine_data.isnull())"
   ]
  },
  {
   "cell_type": "code",
   "execution_count": 15,
   "id": "a80a97bf",
   "metadata": {},
   "outputs": [
    {
     "data": {
      "text/plain": [
       "(421570, 16)"
      ]
     },
     "execution_count": 15,
     "metadata": {},
     "output_type": "execute_result"
    }
   ],
   "source": [
    "#count of rows and column detail\n",
    "feature_sales_store_combine_data.shape"
   ]
  },
  {
   "cell_type": "code",
   "execution_count": 16,
   "id": "28ec1c39",
   "metadata": {},
   "outputs": [],
   "source": [
    "# to handle null values we will replace nan to 0\n",
    "feature_sales_store_combine_data = feature_sales_store_combine_data.fillna(0)"
   ]
  },
  {
   "cell_type": "code",
   "execution_count": 17,
   "id": "cb78b4b8",
   "metadata": {},
   "outputs": [],
   "source": [
    "#feature_sales_store_combine_data"
   ]
  },
  {
   "cell_type": "code",
   "execution_count": 18,
   "id": "86e2b58a",
   "metadata": {},
   "outputs": [],
   "source": [
    "# Check the table information with data type\n",
    "#feature_sales_store_combine_data.info()"
   ]
  },
  {
   "cell_type": "code",
   "execution_count": 19,
   "id": "a3472f0a",
   "metadata": {},
   "outputs": [],
   "source": [
    "#save and use this file for data analysis and feature engineering purpose\n",
    "feature_sales_store_combine_data.to_csv(r'C:\\Users\\pooja\\OneDrive\\Desktop\\Sales Forecasting\\3. Data_Exploration & Feature_Engineering\\Retail Analysis_Data Exploration FE.csv',)"
   ]
  },
  {
   "cell_type": "code",
   "execution_count": null,
   "id": "2bed417f",
   "metadata": {},
   "outputs": [],
   "source": []
  }
 ],
 "metadata": {
  "kernelspec": {
   "display_name": "Python 3 (ipykernel)",
   "language": "python",
   "name": "python3"
  },
  "language_info": {
   "codemirror_mode": {
    "name": "ipython",
    "version": 3
   },
   "file_extension": ".py",
   "mimetype": "text/x-python",
   "name": "python",
   "nbconvert_exporter": "python",
   "pygments_lexer": "ipython3",
   "version": "3.9.7"
  }
 },
 "nbformat": 4,
 "nbformat_minor": 5
}
