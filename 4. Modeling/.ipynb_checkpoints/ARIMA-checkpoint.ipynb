{
 "cells": [
  {
   "cell_type": "code",
   "execution_count": 1,
   "id": "826e117c",
   "metadata": {},
   "outputs": [],
   "source": [
    "# import the different libraries \n",
    "\n",
    "import numpy as np\n",
    "import pandas as pd\n",
    "import matplotlib.pyplot as plt\n",
    "%matplotlib inline\n",
    "import seaborn as sns"
   ]
  },
  {
   "cell_type": "code",
   "execution_count": 2,
   "id": "f6963c14",
   "metadata": {},
   "outputs": [],
   "source": [
    "Data = pd.read_csv('C:/Users/pooja/OneDrive/Desktop/We cloud/ML/Project #2/3. Data_Exploration & Feature_Engineering/Data_Preprocessing1.csv')"
   ]
  },
  {
   "cell_type": "code",
   "execution_count": 3,
   "id": "8927992f",
   "metadata": {},
   "outputs": [],
   "source": [
    "Data=Data.drop(columns=['Unnamed: 0','Store_id'])"
   ]
  },
  {
   "cell_type": "code",
   "execution_count": 4,
   "id": "2e86e4cc",
   "metadata": {},
   "outputs": [
    {
     "data": {
      "text/html": [
       "<div>\n",
       "<style scoped>\n",
       "    .dataframe tbody tr th:only-of-type {\n",
       "        vertical-align: middle;\n",
       "    }\n",
       "\n",
       "    .dataframe tbody tr th {\n",
       "        vertical-align: top;\n",
       "    }\n",
       "\n",
       "    .dataframe thead th {\n",
       "        text-align: right;\n",
       "    }\n",
       "</style>\n",
       "<table border=\"1\" class=\"dataframe\">\n",
       "  <thead>\n",
       "    <tr style=\"text-align: right;\">\n",
       "      <th></th>\n",
       "      <th>Sales_Date</th>\n",
       "      <th>Temperature</th>\n",
       "      <th>MarkDown1</th>\n",
       "      <th>MarkDown2</th>\n",
       "      <th>MarkDown3</th>\n",
       "      <th>MarkDown4</th>\n",
       "      <th>MarkDown5</th>\n",
       "      <th>CPI</th>\n",
       "      <th>Unemployment</th>\n",
       "      <th>IsHoliday</th>\n",
       "      <th>Store_Dept</th>\n",
       "      <th>Weekly_Sales</th>\n",
       "      <th>Store_Type</th>\n",
       "      <th>Store_Size</th>\n",
       "      <th>Sales_Month</th>\n",
       "      <th>Sales_Year</th>\n",
       "      <th>Fuel_Price</th>\n",
       "      <th>Year-Month</th>\n",
       "      <th>Temperature_r</th>\n",
       "      <th>SalesDate</th>\n",
       "    </tr>\n",
       "  </thead>\n",
       "  <tbody>\n",
       "    <tr>\n",
       "      <th>0</th>\n",
       "      <td>2010-01-10</td>\n",
       "      <td>68.74</td>\n",
       "      <td>0.00</td>\n",
       "      <td>0.0</td>\n",
       "      <td>0.00</td>\n",
       "      <td>0.00</td>\n",
       "      <td>0.00</td>\n",
       "      <td>126.234600</td>\n",
       "      <td>7.795</td>\n",
       "      <td>False</td>\n",
       "      <td>14</td>\n",
       "      <td>20922.18</td>\n",
       "      <td>A</td>\n",
       "      <td>219622</td>\n",
       "      <td>1</td>\n",
       "      <td>2010</td>\n",
       "      <td>2.853</td>\n",
       "      <td>2010-01</td>\n",
       "      <td>65.0</td>\n",
       "      <td>2010-01-10</td>\n",
       "    </tr>\n",
       "    <tr>\n",
       "      <th>1</th>\n",
       "      <td>2010-01-10</td>\n",
       "      <td>62.01</td>\n",
       "      <td>0.00</td>\n",
       "      <td>0.0</td>\n",
       "      <td>0.00</td>\n",
       "      <td>0.00</td>\n",
       "      <td>0.00</td>\n",
       "      <td>132.756800</td>\n",
       "      <td>5.287</td>\n",
       "      <td>False</td>\n",
       "      <td>74</td>\n",
       "      <td>9872.41</td>\n",
       "      <td>A</td>\n",
       "      <td>155083</td>\n",
       "      <td>1</td>\n",
       "      <td>2010</td>\n",
       "      <td>2.717</td>\n",
       "      <td>2010-01</td>\n",
       "      <td>60.0</td>\n",
       "      <td>2010-01-10</td>\n",
       "    </tr>\n",
       "    <tr>\n",
       "      <th>2</th>\n",
       "      <td>2010-01-10</td>\n",
       "      <td>62.01</td>\n",
       "      <td>0.00</td>\n",
       "      <td>0.0</td>\n",
       "      <td>0.00</td>\n",
       "      <td>0.00</td>\n",
       "      <td>0.00</td>\n",
       "      <td>132.756800</td>\n",
       "      <td>5.287</td>\n",
       "      <td>False</td>\n",
       "      <td>79</td>\n",
       "      <td>10840.77</td>\n",
       "      <td>A</td>\n",
       "      <td>155083</td>\n",
       "      <td>1</td>\n",
       "      <td>2010</td>\n",
       "      <td>2.717</td>\n",
       "      <td>2010-01</td>\n",
       "      <td>60.0</td>\n",
       "      <td>2010-01-10</td>\n",
       "    </tr>\n",
       "    <tr>\n",
       "      <th>3</th>\n",
       "      <td>2010-01-10</td>\n",
       "      <td>70.19</td>\n",
       "      <td>0.00</td>\n",
       "      <td>0.0</td>\n",
       "      <td>0.00</td>\n",
       "      <td>0.00</td>\n",
       "      <td>0.00</td>\n",
       "      <td>136.629757</td>\n",
       "      <td>8.021</td>\n",
       "      <td>False</td>\n",
       "      <td>98</td>\n",
       "      <td>9837.86</td>\n",
       "      <td>A</td>\n",
       "      <td>204184</td>\n",
       "      <td>1</td>\n",
       "      <td>2010</td>\n",
       "      <td>2.840</td>\n",
       "      <td>2010-01</td>\n",
       "      <td>70.0</td>\n",
       "      <td>2010-01-10</td>\n",
       "    </tr>\n",
       "    <tr>\n",
       "      <th>4</th>\n",
       "      <td>2010-01-10</td>\n",
       "      <td>70.19</td>\n",
       "      <td>0.00</td>\n",
       "      <td>0.0</td>\n",
       "      <td>0.00</td>\n",
       "      <td>0.00</td>\n",
       "      <td>0.00</td>\n",
       "      <td>136.629757</td>\n",
       "      <td>8.021</td>\n",
       "      <td>False</td>\n",
       "      <td>97</td>\n",
       "      <td>19095.76</td>\n",
       "      <td>A</td>\n",
       "      <td>204184</td>\n",
       "      <td>1</td>\n",
       "      <td>2010</td>\n",
       "      <td>2.840</td>\n",
       "      <td>2010-01</td>\n",
       "      <td>70.0</td>\n",
       "      <td>2010-01-10</td>\n",
       "    </tr>\n",
       "    <tr>\n",
       "      <th>...</th>\n",
       "      <td>...</td>\n",
       "      <td>...</td>\n",
       "      <td>...</td>\n",
       "      <td>...</td>\n",
       "      <td>...</td>\n",
       "      <td>...</td>\n",
       "      <td>...</td>\n",
       "      <td>...</td>\n",
       "      <td>...</td>\n",
       "      <td>...</td>\n",
       "      <td>...</td>\n",
       "      <td>...</td>\n",
       "      <td>...</td>\n",
       "      <td>...</td>\n",
       "      <td>...</td>\n",
       "      <td>...</td>\n",
       "      <td>...</td>\n",
       "      <td>...</td>\n",
       "      <td>...</td>\n",
       "      <td>...</td>\n",
       "    </tr>\n",
       "    <tr>\n",
       "      <th>421565</th>\n",
       "      <td>2012-12-10</td>\n",
       "      <td>65.43</td>\n",
       "      <td>1905.34</td>\n",
       "      <td>0.0</td>\n",
       "      <td>13.83</td>\n",
       "      <td>559.50</td>\n",
       "      <td>8706.87</td>\n",
       "      <td>225.005473</td>\n",
       "      <td>5.329</td>\n",
       "      <td>False</td>\n",
       "      <td>83</td>\n",
       "      <td>3690.95</td>\n",
       "      <td>A</td>\n",
       "      <td>202505</td>\n",
       "      <td>12</td>\n",
       "      <td>2012</td>\n",
       "      <td>3.601</td>\n",
       "      <td>2012-12</td>\n",
       "      <td>65.0</td>\n",
       "      <td>2012-12-10</td>\n",
       "    </tr>\n",
       "    <tr>\n",
       "      <th>421566</th>\n",
       "      <td>2012-12-10</td>\n",
       "      <td>65.43</td>\n",
       "      <td>1905.34</td>\n",
       "      <td>0.0</td>\n",
       "      <td>13.83</td>\n",
       "      <td>559.50</td>\n",
       "      <td>8706.87</td>\n",
       "      <td>225.005473</td>\n",
       "      <td>5.329</td>\n",
       "      <td>False</td>\n",
       "      <td>85</td>\n",
       "      <td>1645.71</td>\n",
       "      <td>A</td>\n",
       "      <td>202505</td>\n",
       "      <td>12</td>\n",
       "      <td>2012</td>\n",
       "      <td>3.601</td>\n",
       "      <td>2012-12</td>\n",
       "      <td>65.0</td>\n",
       "      <td>2012-12-10</td>\n",
       "    </tr>\n",
       "    <tr>\n",
       "      <th>421567</th>\n",
       "      <td>2012-12-10</td>\n",
       "      <td>65.43</td>\n",
       "      <td>1905.34</td>\n",
       "      <td>0.0</td>\n",
       "      <td>13.83</td>\n",
       "      <td>559.50</td>\n",
       "      <td>8706.87</td>\n",
       "      <td>225.005473</td>\n",
       "      <td>5.329</td>\n",
       "      <td>False</td>\n",
       "      <td>87</td>\n",
       "      <td>44915.71</td>\n",
       "      <td>A</td>\n",
       "      <td>202505</td>\n",
       "      <td>12</td>\n",
       "      <td>2012</td>\n",
       "      <td>3.601</td>\n",
       "      <td>2012-12</td>\n",
       "      <td>65.0</td>\n",
       "      <td>2012-12-10</td>\n",
       "    </tr>\n",
       "    <tr>\n",
       "      <th>421568</th>\n",
       "      <td>2012-12-10</td>\n",
       "      <td>65.43</td>\n",
       "      <td>1905.34</td>\n",
       "      <td>0.0</td>\n",
       "      <td>13.83</td>\n",
       "      <td>559.50</td>\n",
       "      <td>8706.87</td>\n",
       "      <td>225.005473</td>\n",
       "      <td>5.329</td>\n",
       "      <td>False</td>\n",
       "      <td>91</td>\n",
       "      <td>44775.89</td>\n",
       "      <td>A</td>\n",
       "      <td>202505</td>\n",
       "      <td>12</td>\n",
       "      <td>2012</td>\n",
       "      <td>3.601</td>\n",
       "      <td>2012-12</td>\n",
       "      <td>65.0</td>\n",
       "      <td>2012-12-10</td>\n",
       "    </tr>\n",
       "    <tr>\n",
       "      <th>421569</th>\n",
       "      <td>2012-12-10</td>\n",
       "      <td>47.35</td>\n",
       "      <td>1686.43</td>\n",
       "      <td>0.0</td>\n",
       "      <td>13.85</td>\n",
       "      <td>589.97</td>\n",
       "      <td>6365.02</td>\n",
       "      <td>138.911700</td>\n",
       "      <td>4.145</td>\n",
       "      <td>False</td>\n",
       "      <td>2</td>\n",
       "      <td>25868.29</td>\n",
       "      <td>A</td>\n",
       "      <td>155083</td>\n",
       "      <td>12</td>\n",
       "      <td>2012</td>\n",
       "      <td>4.029</td>\n",
       "      <td>2012-12</td>\n",
       "      <td>45.0</td>\n",
       "      <td>2012-12-10</td>\n",
       "    </tr>\n",
       "  </tbody>\n",
       "</table>\n",
       "<p>421570 rows × 20 columns</p>\n",
       "</div>"
      ],
      "text/plain": [
       "        Sales_Date  Temperature  MarkDown1  MarkDown2  MarkDown3  MarkDown4  \\\n",
       "0       2010-01-10        68.74       0.00        0.0       0.00       0.00   \n",
       "1       2010-01-10        62.01       0.00        0.0       0.00       0.00   \n",
       "2       2010-01-10        62.01       0.00        0.0       0.00       0.00   \n",
       "3       2010-01-10        70.19       0.00        0.0       0.00       0.00   \n",
       "4       2010-01-10        70.19       0.00        0.0       0.00       0.00   \n",
       "...            ...          ...        ...        ...        ...        ...   \n",
       "421565  2012-12-10        65.43    1905.34        0.0      13.83     559.50   \n",
       "421566  2012-12-10        65.43    1905.34        0.0      13.83     559.50   \n",
       "421567  2012-12-10        65.43    1905.34        0.0      13.83     559.50   \n",
       "421568  2012-12-10        65.43    1905.34        0.0      13.83     559.50   \n",
       "421569  2012-12-10        47.35    1686.43        0.0      13.85     589.97   \n",
       "\n",
       "        MarkDown5         CPI  Unemployment  IsHoliday  Store_Dept  \\\n",
       "0            0.00  126.234600         7.795      False          14   \n",
       "1            0.00  132.756800         5.287      False          74   \n",
       "2            0.00  132.756800         5.287      False          79   \n",
       "3            0.00  136.629757         8.021      False          98   \n",
       "4            0.00  136.629757         8.021      False          97   \n",
       "...           ...         ...           ...        ...         ...   \n",
       "421565    8706.87  225.005473         5.329      False          83   \n",
       "421566    8706.87  225.005473         5.329      False          85   \n",
       "421567    8706.87  225.005473         5.329      False          87   \n",
       "421568    8706.87  225.005473         5.329      False          91   \n",
       "421569    6365.02  138.911700         4.145      False           2   \n",
       "\n",
       "        Weekly_Sales Store_Type  Store_Size  Sales_Month  Sales_Year  \\\n",
       "0           20922.18          A      219622            1        2010   \n",
       "1            9872.41          A      155083            1        2010   \n",
       "2           10840.77          A      155083            1        2010   \n",
       "3            9837.86          A      204184            1        2010   \n",
       "4           19095.76          A      204184            1        2010   \n",
       "...              ...        ...         ...          ...         ...   \n",
       "421565       3690.95          A      202505           12        2012   \n",
       "421566       1645.71          A      202505           12        2012   \n",
       "421567      44915.71          A      202505           12        2012   \n",
       "421568      44775.89          A      202505           12        2012   \n",
       "421569      25868.29          A      155083           12        2012   \n",
       "\n",
       "        Fuel_Price Year-Month  Temperature_r  SalesDate  \n",
       "0            2.853    2010-01           65.0 2010-01-10  \n",
       "1            2.717    2010-01           60.0 2010-01-10  \n",
       "2            2.717    2010-01           60.0 2010-01-10  \n",
       "3            2.840    2010-01           70.0 2010-01-10  \n",
       "4            2.840    2010-01           70.0 2010-01-10  \n",
       "...            ...        ...            ...        ...  \n",
       "421565       3.601    2012-12           65.0 2012-12-10  \n",
       "421566       3.601    2012-12           65.0 2012-12-10  \n",
       "421567       3.601    2012-12           65.0 2012-12-10  \n",
       "421568       3.601    2012-12           65.0 2012-12-10  \n",
       "421569       4.029    2012-12           45.0 2012-12-10  \n",
       "\n",
       "[421570 rows x 20 columns]"
      ]
     },
     "execution_count": 4,
     "metadata": {},
     "output_type": "execute_result"
    }
   ],
   "source": [
    "Data['SalesDate']=pd.to_datetime(Data['Sales_Date'])\n",
    "Data"
   ]
  },
  {
   "cell_type": "code",
   "execution_count": 5,
   "id": "4db3b6d5",
   "metadata": {},
   "outputs": [],
   "source": [
    "Data1 = Data[[\"SalesDate\",\"Weekly_Sales\"]]"
   ]
  },
  {
   "cell_type": "code",
   "execution_count": 6,
   "id": "b07d329d",
   "metadata": {},
   "outputs": [
    {
     "name": "stdout",
     "output_type": "stream",
     "text": [
      "<class 'pandas.core.frame.DataFrame'>\n",
      "RangeIndex: 421570 entries, 0 to 421569\n",
      "Data columns (total 2 columns):\n",
      " #   Column        Non-Null Count   Dtype         \n",
      "---  ------        --------------   -----         \n",
      " 0   SalesDate     421570 non-null  datetime64[ns]\n",
      " 1   Weekly_Sales  421570 non-null  float64       \n",
      "dtypes: datetime64[ns](1), float64(1)\n",
      "memory usage: 6.4 MB\n"
     ]
    }
   ],
   "source": [
    "Data1.info()"
   ]
  },
  {
   "cell_type": "code",
   "execution_count": 7,
   "id": "aab855ed",
   "metadata": {},
   "outputs": [],
   "source": [
    "Data1.set_index('SalesDate',inplace=True)"
   ]
  },
  {
   "cell_type": "code",
   "execution_count": 23,
   "id": "565458c3",
   "metadata": {},
   "outputs": [
    {
     "data": {
      "text/plain": [
       "(421570, 1)"
      ]
     },
     "execution_count": 23,
     "metadata": {},
     "output_type": "execute_result"
    }
   ],
   "source": [
    "Data1.shape"
   ]
  },
  {
   "cell_type": "code",
   "execution_count": 76,
   "id": "aa1f8043",
   "metadata": {
    "collapsed": true
   },
   "outputs": [
    {
     "data": {
      "text/plain": [
       "<AxesSubplot:xlabel='SalesDate'>"
      ]
     },
     "execution_count": 76,
     "metadata": {},
     "output_type": "execute_result"
    },
    {
     "data": {
      "image/png": "[encoded data removed]",
      "text/plain": [
       "<Figure size 1080x432 with 1 Axes>"
      ]
     },
     "metadata": {
      "needs_background": "light"
     },
     "output_type": "display_data"
    }
   ],
   "source": [
    "Data1.plot(figsize=(15,6))"
   ]
  },
  {
   "cell_type": "markdown",
   "id": "68961ad3",
   "metadata": {},
   "source": [
    "### Check for Stationary DataSet"
   ]
  },
  {
   "cell_type": "code",
   "execution_count": 10,
   "id": "01808776",
   "metadata": {},
   "outputs": [],
   "source": [
    "### Dickey-Fuller Test"
   ]
  },
  {
   "cell_type": "code",
   "execution_count": 11,
   "id": "79b86ae7",
   "metadata": {},
   "outputs": [],
   "source": [
    "from statsmodels.tsa.stattools import adfuller"
   ]
  },
  {
   "cell_type": "code",
   "execution_count": 12,
   "id": "9d7829d5",
   "metadata": {},
   "outputs": [],
   "source": [
    "test_result = adfuller(Data1['Weekly_Sales'])"
   ]
  },
  {
   "cell_type": "code",
   "execution_count": 13,
   "id": "5dce1f58",
   "metadata": {},
   "outputs": [],
   "source": [
    "#Ho : it is not stationary\n",
    "#H1 : it is stationary\n",
    "\n",
    "def adfuller_test(Weekly_Sales):\n",
    "    result = adfuller(Weekly_Sales)\n",
    "    labels=['ADF Test Statistic','P-value','#lags used','Number of observation used']\n",
    "    for value,labels in zip(result,labels):\n",
    "        print(labels+' : '+str(value) )\n",
    "    if result[1]<=0.05:\n",
    "        print(\"Reject null hypothesis(- it is stationary) \")\n",
    "    else:\n",
    "        print(\"Accept null hypothesis (- it is not stationary)\")"
   ]
  },
  {
   "cell_type": "code",
   "execution_count": 14,
   "id": "c7d93594",
   "metadata": {
    "collapsed": true
   },
   "outputs": [
    {
     "name": "stdout",
     "output_type": "stream",
     "text": [
      "ADF Test Statistic : -62.93734616971541\n",
      "P-value : 0.0\n",
      "#lags used : 74\n",
      "Number of observation used : 421495\n",
      "Reject null hypothesis(- it is stationary) \n"
     ]
    }
   ],
   "source": [
    "adfuller_test(Data1[\"Weekly_Sales\"])"
   ]
  },
  {
   "cell_type": "code",
   "execution_count": 15,
   "id": "7103f89c",
   "metadata": {},
   "outputs": [],
   "source": [
    "### if p-value is >=0.05 then we have to do differencing\n",
    "### in here our data is stationary so we don't have to do differencing"
   ]
  },
  {
   "cell_type": "markdown",
   "id": "d085173a",
   "metadata": {},
   "source": [
    "### Auto Regressive Model"
   ]
  },
  {
   "cell_type": "code",
   "execution_count": null,
   "id": "5a1e746f",
   "metadata": {},
   "outputs": [],
   "source": [
    "from pandas.plotting import autocorrelation_plot\n",
    "autocorrelation_plot(Data1['Weekly_Sales'])\n",
    "plt.show()"
   ]
  },
  {
   "cell_type": "code",
   "execution_count": 20,
   "id": "415a7006",
   "metadata": {
    "collapsed": true
   },
   "outputs": [
    {
     "name": "stdout",
     "output_type": "stream",
     "text": [
      "Requirement already satisfied: statsmodels in c:\\users\\pooja\\anaconda3\\lib\\site-packages (0.13.2)\n",
      "Collecting packaging>=21.3\n",
      "  Downloading packaging-21.3-py3-none-any.whl (40 kB)\n",
      "Requirement already satisfied: pandas>=0.25 in c:\\users\\pooja\\anaconda3\\lib\\site-packages (from statsmodels) (1.3.4)\n",
      "Requirement already satisfied: patsy>=0.5.2 in c:\\users\\pooja\\anaconda3\\lib\\site-packages (from statsmodels) (0.5.2)\n",
      "Requirement already satisfied: numpy>=1.17 in c:\\users\\pooja\\anaconda3\\lib\\site-packages (from statsmodels) (1.22.3)\n",
      "Requirement already satisfied: scipy>=1.3 in c:\\users\\pooja\\anaconda3\\lib\\site-packages (from statsmodels) (1.7.1)\n",
      "Requirement already satisfied: pyparsing!=3.0.5,>=2.0.2 in c:\\users\\pooja\\anaconda3\\lib\\site-packages (from packaging>=21.3->statsmodels) (3.0.7)\n",
      "Requirement already satisfied: python-dateutil>=2.7.3 in c:\\users\\pooja\\anaconda3\\lib\\site-packages (from pandas>=0.25->statsmodels) (2.8.2)\n",
      "Requirement already satisfied: pytz>=2017.3 in c:\\users\\pooja\\anaconda3\\lib\\site-packages (from pandas>=0.25->statsmodels) (2021.3)\n",
      "Requirement already satisfied: six in c:\\users\\pooja\\anaconda3\\lib\\site-packages (from patsy>=0.5.2->statsmodels) (1.16.0)\n",
      "Installing collected packages: packaging\n",
      "  Attempting uninstall: packaging\n",
      "    Found existing installation: packaging 21.0\n",
      "    Uninstalling packaging-21.0:\n",
      "      Successfully uninstalled packaging-21.0\n",
      "Successfully installed packaging-21.3\n",
      "Note: you may need to restart the kernel to use updated packages.\n"
     ]
    }
   ],
   "source": [
    "pip install statsmodels"
   ]
  },
  {
   "cell_type": "code",
   "execution_count": 24,
   "id": "7dd7cff9",
   "metadata": {
    "collapsed": true
   },
   "outputs": [
    {
     "name": "stdout",
     "output_type": "stream",
     "text": [
      "Requirement already satisfied: patsy in c:\\users\\pooja\\anaconda3\\lib\\site-packages (0.5.2)\n",
      "Requirement already satisfied: six in c:\\users\\pooja\\anaconda3\\lib\\site-packages (from patsy) (1.16.0)\n",
      "Requirement already satisfied: numpy>=1.4 in c:\\users\\pooja\\anaconda3\\lib\\site-packages (from patsy) (1.22.3)\n",
      "Note: you may need to restart the kernel to use updated packages.\n"
     ]
    }
   ],
   "source": [
    "pip install patsy"
   ]
  },
  {
   "cell_type": "code",
   "execution_count": 10,
   "id": "407d6fe1",
   "metadata": {},
   "outputs": [
    {
     "data": {
      "text/plain": [
       "<pandas.core.groupby.generic.DataFrameGroupBy object at 0x0000024B24E910A0>"
      ]
     },
     "execution_count": 10,
     "metadata": {},
     "output_type": "execute_result"
    }
   ],
   "source": [
    "Data2=Data.groupby(by=['SalesDate'],as_index=False)['Weekly_Sales']\n",
    "Data2"
   ]
  },
  {
   "cell_type": "code",
   "execution_count": 11,
   "id": "a7800bfc",
   "metadata": {},
   "outputs": [],
   "source": [
    "df_average_sales_week = Data.groupby(by=['SalesDate'], as_index=False)['Weekly_Sales'].mean()\n",
    "#df_average_sales = df_average_sales_week.sort_values('Weekly_Sales', ascending=False)"
   ]
  },
  {
   "cell_type": "code",
   "execution_count": 12,
   "id": "7e3e0c6e",
   "metadata": {
    "collapsed": true
   },
   "outputs": [
    {
     "data": {
      "text/html": [
       "<div>\n",
       "<style scoped>\n",
       "    .dataframe tbody tr th:only-of-type {\n",
       "        vertical-align: middle;\n",
       "    }\n",
       "\n",
       "    .dataframe tbody tr th {\n",
       "        vertical-align: top;\n",
       "    }\n",
       "\n",
       "    .dataframe thead th {\n",
       "        text-align: right;\n",
       "    }\n",
       "</style>\n",
       "<table border=\"1\" class=\"dataframe\">\n",
       "  <thead>\n",
       "    <tr style=\"text-align: right;\">\n",
       "      <th></th>\n",
       "      <th>SalesDate</th>\n",
       "      <th>Weekly_Sales</th>\n",
       "    </tr>\n",
       "  </thead>\n",
       "  <tbody>\n",
       "    <tr>\n",
       "      <th>0</th>\n",
       "      <td>2010-01-10</td>\n",
       "      <td>14391.780535</td>\n",
       "    </tr>\n",
       "    <tr>\n",
       "      <th>1</th>\n",
       "      <td>2010-02-04</td>\n",
       "      <td>17098.620298</td>\n",
       "    </tr>\n",
       "    <tr>\n",
       "      <th>2</th>\n",
       "      <td>2010-02-07</td>\n",
       "      <td>16769.792424</td>\n",
       "    </tr>\n",
       "    <tr>\n",
       "      <th>3</th>\n",
       "      <td>2010-02-19</td>\n",
       "      <td>16216.658979</td>\n",
       "    </tr>\n",
       "    <tr>\n",
       "      <th>4</th>\n",
       "      <td>2010-02-26</td>\n",
       "      <td>14899.549688</td>\n",
       "    </tr>\n",
       "    <tr>\n",
       "      <th>...</th>\n",
       "      <td>...</td>\n",
       "      <td>...</td>\n",
       "    </tr>\n",
       "    <tr>\n",
       "      <th>138</th>\n",
       "      <td>2012-10-08</td>\n",
       "      <td>16030.926967</td>\n",
       "    </tr>\n",
       "    <tr>\n",
       "      <th>139</th>\n",
       "      <td>2012-10-19</td>\n",
       "      <td>15295.732397</td>\n",
       "    </tr>\n",
       "    <tr>\n",
       "      <th>140</th>\n",
       "      <td>2012-10-26</td>\n",
       "      <td>15391.725681</td>\n",
       "    </tr>\n",
       "    <tr>\n",
       "      <th>141</th>\n",
       "      <td>2012-11-05</td>\n",
       "      <td>15784.015806</td>\n",
       "    </tr>\n",
       "    <tr>\n",
       "      <th>142</th>\n",
       "      <td>2012-12-10</td>\n",
       "      <td>15427.596739</td>\n",
       "    </tr>\n",
       "  </tbody>\n",
       "</table>\n",
       "<p>143 rows × 2 columns</p>\n",
       "</div>"
      ],
      "text/plain": [
       "     SalesDate  Weekly_Sales\n",
       "0   2010-01-10  14391.780535\n",
       "1   2010-02-04  17098.620298\n",
       "2   2010-02-07  16769.792424\n",
       "3   2010-02-19  16216.658979\n",
       "4   2010-02-26  14899.549688\n",
       "..         ...           ...\n",
       "138 2012-10-08  16030.926967\n",
       "139 2012-10-19  15295.732397\n",
       "140 2012-10-26  15391.725681\n",
       "141 2012-11-05  15784.015806\n",
       "142 2012-12-10  15427.596739\n",
       "\n",
       "[143 rows x 2 columns]"
      ]
     },
     "execution_count": 12,
     "metadata": {},
     "output_type": "execute_result"
    }
   ],
   "source": [
    "df_average_sales_week"
   ]
  },
  {
   "cell_type": "code",
   "execution_count": 13,
   "id": "24fbac34",
   "metadata": {},
   "outputs": [],
   "source": [
    "ts = df_average_sales_week.set_index('SalesDate')"
   ]
  },
  {
   "cell_type": "code",
   "execution_count": 21,
   "id": "d44769fe",
   "metadata": {},
   "outputs": [
    {
     "data": {
      "text/html": [
       "<div>\n",
       "<style scoped>\n",
       "    .dataframe tbody tr th:only-of-type {\n",
       "        vertical-align: middle;\n",
       "    }\n",
       "\n",
       "    .dataframe tbody tr th {\n",
       "        vertical-align: top;\n",
       "    }\n",
       "\n",
       "    .dataframe thead th {\n",
       "        text-align: right;\n",
       "    }\n",
       "</style>\n",
       "<table border=\"1\" class=\"dataframe\">\n",
       "  <thead>\n",
       "    <tr style=\"text-align: right;\">\n",
       "      <th></th>\n",
       "      <th>Sales_Date</th>\n",
       "      <th>Temperature</th>\n",
       "      <th>MarkDown1</th>\n",
       "      <th>MarkDown2</th>\n",
       "      <th>MarkDown3</th>\n",
       "      <th>MarkDown4</th>\n",
       "      <th>MarkDown5</th>\n",
       "      <th>CPI</th>\n",
       "      <th>Unemployment</th>\n",
       "      <th>IsHoliday</th>\n",
       "      <th>...</th>\n",
       "      <th>Weekly_Sales</th>\n",
       "      <th>Store_Type</th>\n",
       "      <th>Store_Size</th>\n",
       "      <th>Sales_Month</th>\n",
       "      <th>Sales_Year</th>\n",
       "      <th>Fuel_Price</th>\n",
       "      <th>Year-Month</th>\n",
       "      <th>Temperature_r</th>\n",
       "      <th>SalesDate</th>\n",
       "      <th>forecast</th>\n",
       "    </tr>\n",
       "  </thead>\n",
       "  <tbody>\n",
       "    <tr>\n",
       "      <th>0</th>\n",
       "      <td>2010-01-10</td>\n",
       "      <td>68.74</td>\n",
       "      <td>0.0</td>\n",
       "      <td>0.0</td>\n",
       "      <td>0.0</td>\n",
       "      <td>0.0</td>\n",
       "      <td>0.0</td>\n",
       "      <td>126.234600</td>\n",
       "      <td>7.795</td>\n",
       "      <td>False</td>\n",
       "      <td>...</td>\n",
       "      <td>20922.18</td>\n",
       "      <td>A</td>\n",
       "      <td>219622</td>\n",
       "      <td>1</td>\n",
       "      <td>2010</td>\n",
       "      <td>2.853</td>\n",
       "      <td>2010-01</td>\n",
       "      <td>65.0</td>\n",
       "      <td>2010-01-10</td>\n",
       "      <td>NaN</td>\n",
       "    </tr>\n",
       "    <tr>\n",
       "      <th>1</th>\n",
       "      <td>2010-01-10</td>\n",
       "      <td>62.01</td>\n",
       "      <td>0.0</td>\n",
       "      <td>0.0</td>\n",
       "      <td>0.0</td>\n",
       "      <td>0.0</td>\n",
       "      <td>0.0</td>\n",
       "      <td>132.756800</td>\n",
       "      <td>5.287</td>\n",
       "      <td>False</td>\n",
       "      <td>...</td>\n",
       "      <td>9872.41</td>\n",
       "      <td>A</td>\n",
       "      <td>155083</td>\n",
       "      <td>1</td>\n",
       "      <td>2010</td>\n",
       "      <td>2.717</td>\n",
       "      <td>2010-01</td>\n",
       "      <td>60.0</td>\n",
       "      <td>2010-01-10</td>\n",
       "      <td>NaN</td>\n",
       "    </tr>\n",
       "    <tr>\n",
       "      <th>2</th>\n",
       "      <td>2010-01-10</td>\n",
       "      <td>62.01</td>\n",
       "      <td>0.0</td>\n",
       "      <td>0.0</td>\n",
       "      <td>0.0</td>\n",
       "      <td>0.0</td>\n",
       "      <td>0.0</td>\n",
       "      <td>132.756800</td>\n",
       "      <td>5.287</td>\n",
       "      <td>False</td>\n",
       "      <td>...</td>\n",
       "      <td>10840.77</td>\n",
       "      <td>A</td>\n",
       "      <td>155083</td>\n",
       "      <td>1</td>\n",
       "      <td>2010</td>\n",
       "      <td>2.717</td>\n",
       "      <td>2010-01</td>\n",
       "      <td>60.0</td>\n",
       "      <td>2010-01-10</td>\n",
       "      <td>NaN</td>\n",
       "    </tr>\n",
       "    <tr>\n",
       "      <th>3</th>\n",
       "      <td>2010-01-10</td>\n",
       "      <td>70.19</td>\n",
       "      <td>0.0</td>\n",
       "      <td>0.0</td>\n",
       "      <td>0.0</td>\n",
       "      <td>0.0</td>\n",
       "      <td>0.0</td>\n",
       "      <td>136.629757</td>\n",
       "      <td>8.021</td>\n",
       "      <td>False</td>\n",
       "      <td>...</td>\n",
       "      <td>9837.86</td>\n",
       "      <td>A</td>\n",
       "      <td>204184</td>\n",
       "      <td>1</td>\n",
       "      <td>2010</td>\n",
       "      <td>2.840</td>\n",
       "      <td>2010-01</td>\n",
       "      <td>70.0</td>\n",
       "      <td>2010-01-10</td>\n",
       "      <td>NaN</td>\n",
       "    </tr>\n",
       "    <tr>\n",
       "      <th>4</th>\n",
       "      <td>2010-01-10</td>\n",
       "      <td>70.19</td>\n",
       "      <td>0.0</td>\n",
       "      <td>0.0</td>\n",
       "      <td>0.0</td>\n",
       "      <td>0.0</td>\n",
       "      <td>0.0</td>\n",
       "      <td>136.629757</td>\n",
       "      <td>8.021</td>\n",
       "      <td>False</td>\n",
       "      <td>...</td>\n",
       "      <td>19095.76</td>\n",
       "      <td>A</td>\n",
       "      <td>204184</td>\n",
       "      <td>1</td>\n",
       "      <td>2010</td>\n",
       "      <td>2.840</td>\n",
       "      <td>2010-01</td>\n",
       "      <td>70.0</td>\n",
       "      <td>2010-01-10</td>\n",
       "      <td>NaN</td>\n",
       "    </tr>\n",
       "  </tbody>\n",
       "</table>\n",
       "<p>5 rows × 21 columns</p>\n",
       "</div>"
      ],
      "text/plain": [
       "   Sales_Date  Temperature  MarkDown1  MarkDown2  MarkDown3  MarkDown4  \\\n",
       "0  2010-01-10        68.74        0.0        0.0        0.0        0.0   \n",
       "1  2010-01-10        62.01        0.0        0.0        0.0        0.0   \n",
       "2  2010-01-10        62.01        0.0        0.0        0.0        0.0   \n",
       "3  2010-01-10        70.19        0.0        0.0        0.0        0.0   \n",
       "4  2010-01-10        70.19        0.0        0.0        0.0        0.0   \n",
       "\n",
       "   MarkDown5         CPI  Unemployment  IsHoliday  ...  Weekly_Sales  \\\n",
       "0        0.0  126.234600         7.795      False  ...      20922.18   \n",
       "1        0.0  132.756800         5.287      False  ...       9872.41   \n",
       "2        0.0  132.756800         5.287      False  ...      10840.77   \n",
       "3        0.0  136.629757         8.021      False  ...       9837.86   \n",
       "4        0.0  136.629757         8.021      False  ...      19095.76   \n",
       "\n",
       "   Store_Type Store_Size  Sales_Month  Sales_Year  Fuel_Price  Year-Month  \\\n",
       "0           A     219622            1        2010       2.853     2010-01   \n",
       "1           A     155083            1        2010       2.717     2010-01   \n",
       "2           A     155083            1        2010       2.717     2010-01   \n",
       "3           A     204184            1        2010       2.840     2010-01   \n",
       "4           A     204184            1        2010       2.840     2010-01   \n",
       "\n",
       "  Temperature_r  SalesDate forecast  \n",
       "0          65.0 2010-01-10      NaN  \n",
       "1          60.0 2010-01-10      NaN  \n",
       "2          60.0 2010-01-10      NaN  \n",
       "3          70.0 2010-01-10      NaN  \n",
       "4          70.0 2010-01-10      NaN  \n",
       "\n",
       "[5 rows x 21 columns]"
      ]
     },
     "execution_count": 21,
     "metadata": {},
     "output_type": "execute_result"
    }
   ],
   "source": [
    "Data.head()"
   ]
  },
  {
   "cell_type": "code",
   "execution_count": 32,
   "id": "29ec6f01",
   "metadata": {},
   "outputs": [],
   "source": [
    "from statsmodels.graphics.tsaplots import acf,pacf,plot_acf,plot_pacf"
   ]
  },
  {
   "cell_type": "code",
   "execution_count": 33,
   "id": "8583e8c6",
   "metadata": {
    "scrolled": true
   },
   "outputs": [
    {
     "name": "stderr",
     "output_type": "stream",
     "text": [
      "C:\\Users\\pooja\\anaconda3\\lib\\site-packages\\statsmodels\\graphics\\tsaplots.py:348: FutureWarning: The default method 'yw' can produce PACF values outside of the [-1,1] interval. After 0.13, the default will change tounadjusted Yule-Walker ('ywm'). You can use this method now by setting method='ywm'.\n",
      "  warnings.warn(\n"
     ]
    },
    {
     "data": {
      "image/png": "[encoded data removed]",
      "text/plain": [
       "<Figure size 1440x360 with 2 Axes>"
      ]
     },
     "metadata": {
      "needs_background": "light"
     },
     "output_type": "display_data"
    }
   ],
   "source": [
    "fig, axes = plt.subplots(1,2, figsize=(20,5))\n",
    "plot_acf(ts, lags=70, ax=axes[0])\n",
    "plot_pacf(ts, lags=70, ax=axes[1])\n",
    "plt.show()"
   ]
  },
  {
   "cell_type": "code",
   "execution_count": 24,
   "id": "dbbb88ba",
   "metadata": {},
   "outputs": [],
   "source": [
    "from statsmodels.tsa.arima_model import ARIMA"
   ]
  },
  {
   "cell_type": "code",
   "execution_count": 28,
   "id": "b204535e",
   "metadata": {},
   "outputs": [
    {
     "name": "stderr",
     "output_type": "stream",
     "text": [
      "C:\\Users\\pooja\\anaconda3\\lib\\site-packages\\statsmodels\\tsa\\base\\tsa_model.py:471: ValueWarning: A date index has been provided, but it has no associated frequency information and so will be ignored when e.g. forecasting.\n",
      "  self._init_dates(dates, freq)\n",
      "C:\\Users\\pooja\\anaconda3\\lib\\site-packages\\statsmodels\\tsa\\base\\tsa_model.py:471: ValueWarning: A date index has been provided, but it has no associated frequency information and so will be ignored when e.g. forecasting.\n",
      "  self._init_dates(dates, freq)\n",
      "C:\\Users\\pooja\\anaconda3\\lib\\site-packages\\statsmodels\\tsa\\base\\tsa_model.py:471: ValueWarning: A date index has been provided, but it has no associated frequency information and so will be ignored when e.g. forecasting.\n",
      "  self._init_dates(dates, freq)\n"
     ]
    }
   ],
   "source": [
    "model1 = sm.tsa.arima.ARIMA(Data1['Weekly_Sales'],order=(1,1,1))\n",
    "model_fit1 = model1.fit()"
   ]
  },
  {
   "cell_type": "code",
   "execution_count": 29,
   "id": "a021331e",
   "metadata": {},
   "outputs": [
    {
     "data": {
      "text/html": [
       "<table class=\"simpletable\">\n",
       "<caption>SARIMAX Results</caption>\n",
       "<tr>\n",
       "  <th>Dep. Variable:</th>     <td>Weekly_Sales</td>   <th>  No. Observations:  </th>    <td>421570</td>   \n",
       "</tr>\n",
       "<tr>\n",
       "  <th>Model:</th>            <td>ARIMA(1, 1, 1)</td>  <th>  Log Likelihood     </th> <td>-4803902.793</td>\n",
       "</tr>\n",
       "<tr>\n",
       "  <th>Date:</th>            <td>Tue, 29 Mar 2022</td> <th>  AIC                </th>  <td>9607811.585</td>\n",
       "</tr>\n",
       "<tr>\n",
       "  <th>Time:</th>                <td>06:06:19</td>     <th>  BIC                </th>  <td>9607844.440</td>\n",
       "</tr>\n",
       "<tr>\n",
       "  <th>Sample:</th>                  <td>0</td>        <th>  HQIC               </th>  <td>9607820.953</td>\n",
       "</tr>\n",
       "<tr>\n",
       "  <th></th>                     <td> - 421570</td>    <th>                     </th>       <td> </td>     \n",
       "</tr>\n",
       "<tr>\n",
       "  <th>Covariance Type:</th>        <td>opg</td>       <th>                     </th>       <td> </td>     \n",
       "</tr>\n",
       "</table>\n",
       "<table class=\"simpletable\">\n",
       "<tr>\n",
       "     <td></td>       <th>coef</th>     <th>std err</th>      <th>z</th>      <th>P>|z|</th>  <th>[0.025</th>    <th>0.975]</th>  \n",
       "</tr>\n",
       "<tr>\n",
       "  <th>ar.L1</th>  <td>    0.2950</td> <td>    0.001</td> <td>  288.825</td> <td> 0.000</td> <td>    0.293</td> <td>    0.297</td>\n",
       "</tr>\n",
       "<tr>\n",
       "  <th>ma.L1</th>  <td>   -0.9839</td> <td>    0.000</td> <td>-3509.115</td> <td> 0.000</td> <td>   -0.984</td> <td>   -0.983</td>\n",
       "</tr>\n",
       "<tr>\n",
       "  <th>sigma2</th> <td> 5.163e+08</td> <td> 1.28e-13</td> <td> 4.03e+21</td> <td> 0.000</td> <td> 5.16e+08</td> <td> 5.16e+08</td>\n",
       "</tr>\n",
       "</table>\n",
       "<table class=\"simpletable\">\n",
       "<tr>\n",
       "  <th>Ljung-Box (L1) (Q):</th>     <td>583.23</td> <th>  Jarque-Bera (JB):  </th> <td>9512281.77</td>\n",
       "</tr>\n",
       "<tr>\n",
       "  <th>Prob(Q):</th>                 <td>0.00</td>  <th>  Prob(JB):          </th>    <td>0.00</td>   \n",
       "</tr>\n",
       "<tr>\n",
       "  <th>Heteroskedasticity (H):</th>  <td>0.96</td>  <th>  Skew:              </th>    <td>3.03</td>   \n",
       "</tr>\n",
       "<tr>\n",
       "  <th>Prob(H) (two-sided):</th>     <td>0.00</td>  <th>  Kurtosis:          </th>    <td>25.47</td>  \n",
       "</tr>\n",
       "</table><br/><br/>Warnings:<br/>[1] Covariance matrix calculated using the outer product of gradients (complex-step).<br/>[2] Covariance matrix is singular or near-singular, with condition number    inf. Standard errors may be unstable."
      ],
      "text/plain": [
       "<class 'statsmodels.iolib.summary.Summary'>\n",
       "\"\"\"\n",
       "                               SARIMAX Results                                \n",
       "==============================================================================\n",
       "Dep. Variable:           Weekly_Sales   No. Observations:               421570\n",
       "Model:                 ARIMA(1, 1, 1)   Log Likelihood            -4803902.793\n",
       "Date:                Tue, 29 Mar 2022   AIC                        9607811.585\n",
       "Time:                        06:06:19   BIC                        9607844.440\n",
       "Sample:                             0   HQIC                       9607820.953\n",
       "                             - 421570                                         \n",
       "Covariance Type:                  opg                                         \n",
       "==============================================================================\n",
       "                 coef    std err          z      P>|z|      [0.025      0.975]\n",
       "------------------------------------------------------------------------------\n",
       "ar.L1          0.2950      0.001    288.825      0.000       0.293       0.297\n",
       "ma.L1         -0.9839      0.000  -3509.115      0.000      -0.984      -0.983\n",
       "sigma2      5.163e+08   1.28e-13   4.03e+21      0.000    5.16e+08    5.16e+08\n",
       "===================================================================================\n",
       "Ljung-Box (L1) (Q):                 583.23   Jarque-Bera (JB):           9512281.77\n",
       "Prob(Q):                              0.00   Prob(JB):                         0.00\n",
       "Heteroskedasticity (H):               0.96   Skew:                             3.03\n",
       "Prob(H) (two-sided):                  0.00   Kurtosis:                        25.47\n",
       "===================================================================================\n",
       "\n",
       "Warnings:\n",
       "[1] Covariance matrix calculated using the outer product of gradients (complex-step).\n",
       "[2] Covariance matrix is singular or near-singular, with condition number    inf. Standard errors may be unstable.\n",
       "\"\"\""
      ]
     },
     "execution_count": 29,
     "metadata": {},
     "output_type": "execute_result"
    }
   ],
   "source": [
    "model_fit1.summary()"
   ]
  },
  {
   "cell_type": "code",
   "execution_count": 31,
   "id": "5230f751",
   "metadata": {
    "scrolled": true
   },
   "outputs": [
    {
     "ename": "ValueError",
     "evalue": "cannot reindex from a duplicate axis",
     "output_type": "error",
     "traceback": [
      "\u001b[1;31m---------------------------------------------------------------------------\u001b[0m",
      "\u001b[1;31mValueError\u001b[0m                                Traceback (most recent call last)",
      "\u001b[1;32m~\\AppData\\Local\\Temp/ipykernel_19064/2999569522.py\u001b[0m in \u001b[0;36m<module>\u001b[1;34m\u001b[0m\n\u001b[1;32m----> 1\u001b[1;33m \u001b[0mData1\u001b[0m\u001b[1;33m[\u001b[0m\u001b[1;34m'forecast1'\u001b[0m\u001b[1;33m]\u001b[0m \u001b[1;33m=\u001b[0m \u001b[0mmodel_fit1\u001b[0m\u001b[1;33m.\u001b[0m\u001b[0mpredict\u001b[0m\u001b[1;33m(\u001b[0m\u001b[0mstart\u001b[0m\u001b[1;33m=\u001b[0m\u001b[1;36m90\u001b[0m\u001b[1;33m,\u001b[0m\u001b[0mend\u001b[0m\u001b[1;33m=\u001b[0m\u001b[1;36m103\u001b[0m\u001b[1;33m,\u001b[0m\u001b[0mdynamic\u001b[0m\u001b[1;33m=\u001b[0m\u001b[1;32mTrue\u001b[0m\u001b[1;33m)\u001b[0m\u001b[1;33m\u001b[0m\u001b[1;33m\u001b[0m\u001b[0m\n\u001b[0m\u001b[0;32m      2\u001b[0m \u001b[0mData1\u001b[0m\u001b[1;33m[\u001b[0m\u001b[1;33m[\u001b[0m\u001b[1;34m'Weekly_Sales'\u001b[0m\u001b[1;33m,\u001b[0m\u001b[1;34m'forecast1'\u001b[0m\u001b[1;33m]\u001b[0m\u001b[1;33m]\u001b[0m\u001b[1;33m.\u001b[0m\u001b[0mplot\u001b[0m\u001b[1;33m(\u001b[0m\u001b[0mfigsize\u001b[0m\u001b[1;33m=\u001b[0m\u001b[1;33m(\u001b[0m\u001b[1;36m12\u001b[0m\u001b[1;33m,\u001b[0m\u001b[1;36m8\u001b[0m\u001b[1;33m)\u001b[0m\u001b[1;33m)\u001b[0m\u001b[1;33m\u001b[0m\u001b[1;33m\u001b[0m\u001b[0m\n",
      "\u001b[1;32m~\\anaconda3\\lib\\site-packages\\pandas\\core\\frame.py\u001b[0m in \u001b[0;36m__setitem__\u001b[1;34m(self, key, value)\u001b[0m\n\u001b[0;32m   3610\u001b[0m         \u001b[1;32melse\u001b[0m\u001b[1;33m:\u001b[0m\u001b[1;33m\u001b[0m\u001b[1;33m\u001b[0m\u001b[0m\n\u001b[0;32m   3611\u001b[0m             \u001b[1;31m# set column\u001b[0m\u001b[1;33m\u001b[0m\u001b[1;33m\u001b[0m\u001b[0m\n\u001b[1;32m-> 3612\u001b[1;33m             \u001b[0mself\u001b[0m\u001b[1;33m.\u001b[0m\u001b[0m_set_item\u001b[0m\u001b[1;33m(\u001b[0m\u001b[0mkey\u001b[0m\u001b[1;33m,\u001b[0m \u001b[0mvalue\u001b[0m\u001b[1;33m)\u001b[0m\u001b[1;33m\u001b[0m\u001b[1;33m\u001b[0m\u001b[0m\n\u001b[0m\u001b[0;32m   3613\u001b[0m \u001b[1;33m\u001b[0m\u001b[0m\n\u001b[0;32m   3614\u001b[0m     \u001b[1;32mdef\u001b[0m \u001b[0m_setitem_slice\u001b[0m\u001b[1;33m(\u001b[0m\u001b[0mself\u001b[0m\u001b[1;33m,\u001b[0m \u001b[0mkey\u001b[0m\u001b[1;33m:\u001b[0m \u001b[0mslice\u001b[0m\u001b[1;33m,\u001b[0m \u001b[0mvalue\u001b[0m\u001b[1;33m)\u001b[0m\u001b[1;33m:\u001b[0m\u001b[1;33m\u001b[0m\u001b[1;33m\u001b[0m\u001b[0m\n",
      "\u001b[1;32m~\\anaconda3\\lib\\site-packages\\pandas\\core\\frame.py\u001b[0m in \u001b[0;36m_set_item\u001b[1;34m(self, key, value)\u001b[0m\n\u001b[0;32m   3782\u001b[0m         \u001b[0mensure\u001b[0m \u001b[0mhomogeneity\u001b[0m\u001b[1;33m.\u001b[0m\u001b[1;33m\u001b[0m\u001b[1;33m\u001b[0m\u001b[0m\n\u001b[0;32m   3783\u001b[0m         \"\"\"\n\u001b[1;32m-> 3784\u001b[1;33m         \u001b[0mvalue\u001b[0m \u001b[1;33m=\u001b[0m \u001b[0mself\u001b[0m\u001b[1;33m.\u001b[0m\u001b[0m_sanitize_column\u001b[0m\u001b[1;33m(\u001b[0m\u001b[0mvalue\u001b[0m\u001b[1;33m)\u001b[0m\u001b[1;33m\u001b[0m\u001b[1;33m\u001b[0m\u001b[0m\n\u001b[0m\u001b[0;32m   3785\u001b[0m \u001b[1;33m\u001b[0m\u001b[0m\n\u001b[0;32m   3786\u001b[0m         if (\n",
      "\u001b[1;32m~\\anaconda3\\lib\\site-packages\\pandas\\core\\frame.py\u001b[0m in \u001b[0;36m_sanitize_column\u001b[1;34m(self, value)\u001b[0m\n\u001b[0;32m   4504\u001b[0m         \u001b[1;31m# We should never get here with DataFrame value\u001b[0m\u001b[1;33m\u001b[0m\u001b[1;33m\u001b[0m\u001b[0m\n\u001b[0;32m   4505\u001b[0m         \u001b[1;32mif\u001b[0m \u001b[0misinstance\u001b[0m\u001b[1;33m(\u001b[0m\u001b[0mvalue\u001b[0m\u001b[1;33m,\u001b[0m \u001b[0mSeries\u001b[0m\u001b[1;33m)\u001b[0m\u001b[1;33m:\u001b[0m\u001b[1;33m\u001b[0m\u001b[1;33m\u001b[0m\u001b[0m\n\u001b[1;32m-> 4506\u001b[1;33m             \u001b[1;32mreturn\u001b[0m \u001b[0m_reindex_for_setitem\u001b[0m\u001b[1;33m(\u001b[0m\u001b[0mvalue\u001b[0m\u001b[1;33m,\u001b[0m \u001b[0mself\u001b[0m\u001b[1;33m.\u001b[0m\u001b[0mindex\u001b[0m\u001b[1;33m)\u001b[0m\u001b[1;33m\u001b[0m\u001b[1;33m\u001b[0m\u001b[0m\n\u001b[0m\u001b[0;32m   4507\u001b[0m \u001b[1;33m\u001b[0m\u001b[0m\n\u001b[0;32m   4508\u001b[0m         \u001b[1;32mif\u001b[0m \u001b[0mis_list_like\u001b[0m\u001b[1;33m(\u001b[0m\u001b[0mvalue\u001b[0m\u001b[1;33m)\u001b[0m\u001b[1;33m:\u001b[0m\u001b[1;33m\u001b[0m\u001b[1;33m\u001b[0m\u001b[0m\n",
      "\u001b[1;32m~\\anaconda3\\lib\\site-packages\\pandas\\core\\frame.py\u001b[0m in \u001b[0;36m_reindex_for_setitem\u001b[1;34m(value, index)\u001b[0m\n\u001b[0;32m  10778\u001b[0m         \u001b[1;32mif\u001b[0m \u001b[1;32mnot\u001b[0m \u001b[0mvalue\u001b[0m\u001b[1;33m.\u001b[0m\u001b[0mindex\u001b[0m\u001b[1;33m.\u001b[0m\u001b[0mis_unique\u001b[0m\u001b[1;33m:\u001b[0m\u001b[1;33m\u001b[0m\u001b[1;33m\u001b[0m\u001b[0m\n\u001b[0;32m  10779\u001b[0m             \u001b[1;31m# duplicate axis\u001b[0m\u001b[1;33m\u001b[0m\u001b[1;33m\u001b[0m\u001b[0m\n\u001b[1;32m> 10780\u001b[1;33m             \u001b[1;32mraise\u001b[0m \u001b[0merr\u001b[0m\u001b[1;33m\u001b[0m\u001b[1;33m\u001b[0m\u001b[0m\n\u001b[0m\u001b[0;32m  10781\u001b[0m \u001b[1;33m\u001b[0m\u001b[0m\n\u001b[0;32m  10782\u001b[0m         raise TypeError(\n",
      "\u001b[1;32m~\\anaconda3\\lib\\site-packages\\pandas\\core\\frame.py\u001b[0m in \u001b[0;36m_reindex_for_setitem\u001b[1;34m(value, index)\u001b[0m\n\u001b[0;32m  10773\u001b[0m     \u001b[1;31m# GH#4107\u001b[0m\u001b[1;33m\u001b[0m\u001b[1;33m\u001b[0m\u001b[0m\n\u001b[0;32m  10774\u001b[0m     \u001b[1;32mtry\u001b[0m\u001b[1;33m:\u001b[0m\u001b[1;33m\u001b[0m\u001b[1;33m\u001b[0m\u001b[0m\n\u001b[1;32m> 10775\u001b[1;33m         \u001b[0mreindexed_value\u001b[0m \u001b[1;33m=\u001b[0m \u001b[0mvalue\u001b[0m\u001b[1;33m.\u001b[0m\u001b[0mreindex\u001b[0m\u001b[1;33m(\u001b[0m\u001b[0mindex\u001b[0m\u001b[1;33m)\u001b[0m\u001b[1;33m.\u001b[0m\u001b[0m_values\u001b[0m\u001b[1;33m\u001b[0m\u001b[1;33m\u001b[0m\u001b[0m\n\u001b[0m\u001b[0;32m  10776\u001b[0m     \u001b[1;32mexcept\u001b[0m \u001b[0mValueError\u001b[0m \u001b[1;32mas\u001b[0m \u001b[0merr\u001b[0m\u001b[1;33m:\u001b[0m\u001b[1;33m\u001b[0m\u001b[1;33m\u001b[0m\u001b[0m\n\u001b[0;32m  10777\u001b[0m         \u001b[1;31m# raised in MultiIndex.from_tuples, see test_insert_error_msmgs\u001b[0m\u001b[1;33m\u001b[0m\u001b[1;33m\u001b[0m\u001b[0m\n",
      "\u001b[1;32m~\\anaconda3\\lib\\site-packages\\pandas\\core\\series.py\u001b[0m in \u001b[0;36mreindex\u001b[1;34m(self, index, **kwargs)\u001b[0m\n\u001b[0;32m   4578\u001b[0m     )\n\u001b[0;32m   4579\u001b[0m     \u001b[1;32mdef\u001b[0m \u001b[0mreindex\u001b[0m\u001b[1;33m(\u001b[0m\u001b[0mself\u001b[0m\u001b[1;33m,\u001b[0m \u001b[0mindex\u001b[0m\u001b[1;33m=\u001b[0m\u001b[1;32mNone\u001b[0m\u001b[1;33m,\u001b[0m \u001b[1;33m**\u001b[0m\u001b[0mkwargs\u001b[0m\u001b[1;33m)\u001b[0m\u001b[1;33m:\u001b[0m\u001b[1;33m\u001b[0m\u001b[1;33m\u001b[0m\u001b[0m\n\u001b[1;32m-> 4580\u001b[1;33m         \u001b[1;32mreturn\u001b[0m \u001b[0msuper\u001b[0m\u001b[1;33m(\u001b[0m\u001b[1;33m)\u001b[0m\u001b[1;33m.\u001b[0m\u001b[0mreindex\u001b[0m\u001b[1;33m(\u001b[0m\u001b[0mindex\u001b[0m\u001b[1;33m=\u001b[0m\u001b[0mindex\u001b[0m\u001b[1;33m,\u001b[0m \u001b[1;33m**\u001b[0m\u001b[0mkwargs\u001b[0m\u001b[1;33m)\u001b[0m\u001b[1;33m\u001b[0m\u001b[1;33m\u001b[0m\u001b[0m\n\u001b[0m\u001b[0;32m   4581\u001b[0m \u001b[1;33m\u001b[0m\u001b[0m\n\u001b[0;32m   4582\u001b[0m     \u001b[1;33m@\u001b[0m\u001b[0mdeprecate_nonkeyword_arguments\u001b[0m\u001b[1;33m(\u001b[0m\u001b[0mversion\u001b[0m\u001b[1;33m=\u001b[0m\u001b[1;32mNone\u001b[0m\u001b[1;33m,\u001b[0m \u001b[0mallowed_args\u001b[0m\u001b[1;33m=\u001b[0m\u001b[1;33m[\u001b[0m\u001b[1;34m\"self\"\u001b[0m\u001b[1;33m,\u001b[0m \u001b[1;34m\"labels\"\u001b[0m\u001b[1;33m]\u001b[0m\u001b[1;33m)\u001b[0m\u001b[1;33m\u001b[0m\u001b[1;33m\u001b[0m\u001b[0m\n",
      "\u001b[1;32m~\\anaconda3\\lib\\site-packages\\pandas\\core\\generic.py\u001b[0m in \u001b[0;36mreindex\u001b[1;34m(self, *args, **kwargs)\u001b[0m\n\u001b[0;32m   4816\u001b[0m \u001b[1;33m\u001b[0m\u001b[0m\n\u001b[0;32m   4817\u001b[0m         \u001b[1;31m# perform the reindex on the axes\u001b[0m\u001b[1;33m\u001b[0m\u001b[1;33m\u001b[0m\u001b[0m\n\u001b[1;32m-> 4818\u001b[1;33m         return self._reindex_axes(\n\u001b[0m\u001b[0;32m   4819\u001b[0m             \u001b[0maxes\u001b[0m\u001b[1;33m,\u001b[0m \u001b[0mlevel\u001b[0m\u001b[1;33m,\u001b[0m \u001b[0mlimit\u001b[0m\u001b[1;33m,\u001b[0m \u001b[0mtolerance\u001b[0m\u001b[1;33m,\u001b[0m \u001b[0mmethod\u001b[0m\u001b[1;33m,\u001b[0m \u001b[0mfill_value\u001b[0m\u001b[1;33m,\u001b[0m \u001b[0mcopy\u001b[0m\u001b[1;33m\u001b[0m\u001b[1;33m\u001b[0m\u001b[0m\n\u001b[0;32m   4820\u001b[0m         ).__finalize__(self, method=\"reindex\")\n",
      "\u001b[1;32m~\\anaconda3\\lib\\site-packages\\pandas\\core\\generic.py\u001b[0m in \u001b[0;36m_reindex_axes\u001b[1;34m(self, axes, level, limit, tolerance, method, fill_value, copy)\u001b[0m\n\u001b[0;32m   4837\u001b[0m \u001b[1;33m\u001b[0m\u001b[0m\n\u001b[0;32m   4838\u001b[0m             \u001b[0maxis\u001b[0m \u001b[1;33m=\u001b[0m \u001b[0mself\u001b[0m\u001b[1;33m.\u001b[0m\u001b[0m_get_axis_number\u001b[0m\u001b[1;33m(\u001b[0m\u001b[0ma\u001b[0m\u001b[1;33m)\u001b[0m\u001b[1;33m\u001b[0m\u001b[1;33m\u001b[0m\u001b[0m\n\u001b[1;32m-> 4839\u001b[1;33m             obj = obj._reindex_with_indexers(\n\u001b[0m\u001b[0;32m   4840\u001b[0m                 \u001b[1;33m{\u001b[0m\u001b[0maxis\u001b[0m\u001b[1;33m:\u001b[0m \u001b[1;33m[\u001b[0m\u001b[0mnew_index\u001b[0m\u001b[1;33m,\u001b[0m \u001b[0mindexer\u001b[0m\u001b[1;33m]\u001b[0m\u001b[1;33m}\u001b[0m\u001b[1;33m,\u001b[0m\u001b[1;33m\u001b[0m\u001b[1;33m\u001b[0m\u001b[0m\n\u001b[0;32m   4841\u001b[0m                 \u001b[0mfill_value\u001b[0m\u001b[1;33m=\u001b[0m\u001b[0mfill_value\u001b[0m\u001b[1;33m,\u001b[0m\u001b[1;33m\u001b[0m\u001b[1;33m\u001b[0m\u001b[0m\n",
      "\u001b[1;32m~\\anaconda3\\lib\\site-packages\\pandas\\core\\generic.py\u001b[0m in \u001b[0;36m_reindex_with_indexers\u001b[1;34m(self, reindexers, fill_value, copy, allow_dups)\u001b[0m\n\u001b[0;32m   4881\u001b[0m \u001b[1;33m\u001b[0m\u001b[0m\n\u001b[0;32m   4882\u001b[0m             \u001b[1;31m# TODO: speed up on homogeneous DataFrame objects\u001b[0m\u001b[1;33m\u001b[0m\u001b[1;33m\u001b[0m\u001b[0m\n\u001b[1;32m-> 4883\u001b[1;33m             new_data = new_data.reindex_indexer(\n\u001b[0m\u001b[0;32m   4884\u001b[0m                 \u001b[0mindex\u001b[0m\u001b[1;33m,\u001b[0m\u001b[1;33m\u001b[0m\u001b[1;33m\u001b[0m\u001b[0m\n\u001b[0;32m   4885\u001b[0m                 \u001b[0mindexer\u001b[0m\u001b[1;33m,\u001b[0m\u001b[1;33m\u001b[0m\u001b[1;33m\u001b[0m\u001b[0m\n",
      "\u001b[1;32m~\\anaconda3\\lib\\site-packages\\pandas\\core\\internals\\managers.py\u001b[0m in \u001b[0;36mreindex_indexer\u001b[1;34m(self, new_axis, indexer, axis, fill_value, allow_dups, copy, consolidate, only_slice)\u001b[0m\n\u001b[0;32m    668\u001b[0m         \u001b[1;31m# some axes don't allow reindexing with dups\u001b[0m\u001b[1;33m\u001b[0m\u001b[1;33m\u001b[0m\u001b[0m\n\u001b[0;32m    669\u001b[0m         \u001b[1;32mif\u001b[0m \u001b[1;32mnot\u001b[0m \u001b[0mallow_dups\u001b[0m\u001b[1;33m:\u001b[0m\u001b[1;33m\u001b[0m\u001b[1;33m\u001b[0m\u001b[0m\n\u001b[1;32m--> 670\u001b[1;33m             \u001b[0mself\u001b[0m\u001b[1;33m.\u001b[0m\u001b[0maxes\u001b[0m\u001b[1;33m[\u001b[0m\u001b[0maxis\u001b[0m\u001b[1;33m]\u001b[0m\u001b[1;33m.\u001b[0m\u001b[0m_validate_can_reindex\u001b[0m\u001b[1;33m(\u001b[0m\u001b[0mindexer\u001b[0m\u001b[1;33m)\u001b[0m\u001b[1;33m\u001b[0m\u001b[1;33m\u001b[0m\u001b[0m\n\u001b[0m\u001b[0;32m    671\u001b[0m \u001b[1;33m\u001b[0m\u001b[0m\n\u001b[0;32m    672\u001b[0m         \u001b[1;32mif\u001b[0m \u001b[0maxis\u001b[0m \u001b[1;33m>=\u001b[0m \u001b[0mself\u001b[0m\u001b[1;33m.\u001b[0m\u001b[0mndim\u001b[0m\u001b[1;33m:\u001b[0m\u001b[1;33m\u001b[0m\u001b[1;33m\u001b[0m\u001b[0m\n",
      "\u001b[1;32m~\\anaconda3\\lib\\site-packages\\pandas\\core\\indexes\\base.py\u001b[0m in \u001b[0;36m_validate_can_reindex\u001b[1;34m(self, indexer)\u001b[0m\n\u001b[0;32m   3783\u001b[0m         \u001b[1;31m# trying to reindex on an axis with duplicates\u001b[0m\u001b[1;33m\u001b[0m\u001b[1;33m\u001b[0m\u001b[0m\n\u001b[0;32m   3784\u001b[0m         \u001b[1;32mif\u001b[0m \u001b[1;32mnot\u001b[0m \u001b[0mself\u001b[0m\u001b[1;33m.\u001b[0m\u001b[0m_index_as_unique\u001b[0m \u001b[1;32mand\u001b[0m \u001b[0mlen\u001b[0m\u001b[1;33m(\u001b[0m\u001b[0mindexer\u001b[0m\u001b[1;33m)\u001b[0m\u001b[1;33m:\u001b[0m\u001b[1;33m\u001b[0m\u001b[1;33m\u001b[0m\u001b[0m\n\u001b[1;32m-> 3785\u001b[1;33m             \u001b[1;32mraise\u001b[0m \u001b[0mValueError\u001b[0m\u001b[1;33m(\u001b[0m\u001b[1;34m\"cannot reindex from a duplicate axis\"\u001b[0m\u001b[1;33m)\u001b[0m\u001b[1;33m\u001b[0m\u001b[1;33m\u001b[0m\u001b[0m\n\u001b[0m\u001b[0;32m   3786\u001b[0m \u001b[1;33m\u001b[0m\u001b[0m\n\u001b[0;32m   3787\u001b[0m     def reindex(\n",
      "\u001b[1;31mValueError\u001b[0m: cannot reindex from a duplicate axis"
     ]
    }
   ],
   "source": [
    "Data1['forecast'] = model_fit1.predict(start=90,end=103,dynamic=True)\n",
    "Data1[['Weekly_Sales','forecast']].plot(figsize=(12,8))"
   ]
  },
  {
   "cell_type": "code",
   "execution_count": null,
   "id": "01dfd206",
   "metadata": {},
   "outputs": [],
   "source": []
  },
  {
   "cell_type": "code",
   "execution_count": 31,
   "id": "573c305c",
   "metadata": {},
   "outputs": [],
   "source": [
    "import statsmodels.api as sm"
   ]
  },
  {
   "cell_type": "code",
   "execution_count": 33,
   "id": "165fe567",
   "metadata": {},
   "outputs": [],
   "source": [
    "model = sm.tsa.statespace.SARIMAX(Data['Weekly_Sales'],order=(1,1,1))\n",
    "result = model.fit()"
   ]
  },
  {
   "cell_type": "code",
   "execution_count": null,
   "id": "8b27344b",
   "metadata": {},
   "outputs": [],
   "source": [
    "result.summary()"
   ]
  },
  {
   "cell_type": "code",
   "execution_count": 49,
   "id": "8d60fe3a",
   "metadata": {
    "collapsed": true
   },
   "outputs": [
    {
     "data": {
      "text/plain": [
       "<AxesSubplot:>"
      ]
     },
     "execution_count": 49,
     "metadata": {},
     "output_type": "execute_result"
    },
    {
     "data": {
      "image/png": "[encoded data removed]",
      "text/plain": [
       "<Figure size 864x576 with 1 Axes>"
      ]
     },
     "metadata": {
      "needs_background": "light"
     },
     "output_type": "display_data"
    }
   ],
   "source": [
    "Data['forecast'] = result.predict(start=90,end=103,dynamic=True)\n",
    "Data[['Weekly_Sales','forecast']].plot(figsize=(12,8))"
   ]
  },
  {
   "cell_type": "code",
   "execution_count": null,
   "id": "63deb7a0",
   "metadata": {},
   "outputs": [],
   "source": []
  }
 ],
 "metadata": {
  "kernelspec": {
   "display_name": "Python 3 (ipykernel)",
   "language": "python",
   "name": "python3"
  },
  "language_info": {
   "codemirror_mode": {
    "name": "ipython",
    "version": 3
   },
   "file_extension": ".py",
   "mimetype": "text/x-python",
   "name": "python",
   "nbconvert_exporter": "python",
   "pygments_lexer": "ipython3",
   "version": "3.9.7"
  }
 },
 "nbformat": 4,
 "nbformat_minor": 5
}
