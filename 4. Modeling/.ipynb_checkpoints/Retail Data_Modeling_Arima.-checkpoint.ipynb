{
 "cells": [
  {
   "cell_type": "code",
   "execution_count": 150,
   "id": "826e117c",
   "metadata": {},
   "outputs": [],
   "source": [
    "# import the different libraries \n",
    "import numpy as np\n",
    "import pandas as pd\n",
    "import matplotlib.pyplot as plt\n",
    "%matplotlib inline\n",
    "import seaborn as sns"
   ]
  },
  {
   "cell_type": "code",
   "execution_count": 151,
   "id": "f6963c14",
   "metadata": {},
   "outputs": [
    {
     "data": {
      "text/html": [
       "<div>\n",
       "<style scoped>\n",
       "    .dataframe tbody tr th:only-of-type {\n",
       "        vertical-align: middle;\n",
       "    }\n",
       "\n",
       "    .dataframe tbody tr th {\n",
       "        vertical-align: top;\n",
       "    }\n",
       "\n",
       "    .dataframe thead th {\n",
       "        text-align: right;\n",
       "    }\n",
       "</style>\n",
       "<table border=\"1\" class=\"dataframe\">\n",
       "  <thead>\n",
       "    <tr style=\"text-align: right;\">\n",
       "      <th></th>\n",
       "      <th>Unnamed: 0</th>\n",
       "      <th>Store_id</th>\n",
       "      <th>Sales_Date</th>\n",
       "      <th>Temperature</th>\n",
       "      <th>MarkDown1</th>\n",
       "      <th>MarkDown2</th>\n",
       "      <th>MarkDown3</th>\n",
       "      <th>MarkDown4</th>\n",
       "      <th>MarkDown5</th>\n",
       "      <th>CPI</th>\n",
       "      <th>...</th>\n",
       "      <th>IsHoliday</th>\n",
       "      <th>Store_Dept</th>\n",
       "      <th>Weekly_Sales</th>\n",
       "      <th>Store_Type</th>\n",
       "      <th>Store_Size</th>\n",
       "      <th>Sales_Month</th>\n",
       "      <th>Sales_Year</th>\n",
       "      <th>Fuel_Price</th>\n",
       "      <th>Year-Month</th>\n",
       "      <th>Temperature_r</th>\n",
       "    </tr>\n",
       "  </thead>\n",
       "  <tbody>\n",
       "    <tr>\n",
       "      <th>0</th>\n",
       "      <td>0</td>\n",
       "      <td>1</td>\n",
       "      <td>2010-02-05</td>\n",
       "      <td>42.31</td>\n",
       "      <td>0.00</td>\n",
       "      <td>0.00</td>\n",
       "      <td>0.0</td>\n",
       "      <td>0.00</td>\n",
       "      <td>0.00</td>\n",
       "      <td>211.096358</td>\n",
       "      <td>...</td>\n",
       "      <td>False</td>\n",
       "      <td>1</td>\n",
       "      <td>24924.50</td>\n",
       "      <td>A</td>\n",
       "      <td>151315</td>\n",
       "      <td>2</td>\n",
       "      <td>2010</td>\n",
       "      <td>2.572</td>\n",
       "      <td>2010-02</td>\n",
       "      <td>40.0</td>\n",
       "    </tr>\n",
       "    <tr>\n",
       "      <th>1</th>\n",
       "      <td>1965</td>\n",
       "      <td>17</td>\n",
       "      <td>2010-02-05</td>\n",
       "      <td>23.11</td>\n",
       "      <td>0.00</td>\n",
       "      <td>0.00</td>\n",
       "      <td>0.0</td>\n",
       "      <td>0.00</td>\n",
       "      <td>0.00</td>\n",
       "      <td>126.442065</td>\n",
       "      <td>...</td>\n",
       "      <td>False</td>\n",
       "      <td>74</td>\n",
       "      <td>10218.96</td>\n",
       "      <td>B</td>\n",
       "      <td>93188</td>\n",
       "      <td>2</td>\n",
       "      <td>2010</td>\n",
       "      <td>2.666</td>\n",
       "      <td>2010-02</td>\n",
       "      <td>20.0</td>\n",
       "    </tr>\n",
       "    <tr>\n",
       "      <th>2</th>\n",
       "      <td>1966</td>\n",
       "      <td>17</td>\n",
       "      <td>2010-02-05</td>\n",
       "      <td>23.11</td>\n",
       "      <td>0.00</td>\n",
       "      <td>0.00</td>\n",
       "      <td>0.0</td>\n",
       "      <td>0.00</td>\n",
       "      <td>0.00</td>\n",
       "      <td>126.442065</td>\n",
       "      <td>...</td>\n",
       "      <td>False</td>\n",
       "      <td>78</td>\n",
       "      <td>1.00</td>\n",
       "      <td>B</td>\n",
       "      <td>93188</td>\n",
       "      <td>2</td>\n",
       "      <td>2010</td>\n",
       "      <td>2.666</td>\n",
       "      <td>2010-02</td>\n",
       "      <td>20.0</td>\n",
       "    </tr>\n",
       "    <tr>\n",
       "      <th>3</th>\n",
       "      <td>1967</td>\n",
       "      <td>17</td>\n",
       "      <td>2010-02-05</td>\n",
       "      <td>23.11</td>\n",
       "      <td>0.00</td>\n",
       "      <td>0.00</td>\n",
       "      <td>0.0</td>\n",
       "      <td>0.00</td>\n",
       "      <td>0.00</td>\n",
       "      <td>126.442065</td>\n",
       "      <td>...</td>\n",
       "      <td>False</td>\n",
       "      <td>79</td>\n",
       "      <td>31042.73</td>\n",
       "      <td>B</td>\n",
       "      <td>93188</td>\n",
       "      <td>2</td>\n",
       "      <td>2010</td>\n",
       "      <td>2.666</td>\n",
       "      <td>2010-02</td>\n",
       "      <td>20.0</td>\n",
       "    </tr>\n",
       "    <tr>\n",
       "      <th>4</th>\n",
       "      <td>1968</td>\n",
       "      <td>17</td>\n",
       "      <td>2010-02-05</td>\n",
       "      <td>23.11</td>\n",
       "      <td>0.00</td>\n",
       "      <td>0.00</td>\n",
       "      <td>0.0</td>\n",
       "      <td>0.00</td>\n",
       "      <td>0.00</td>\n",
       "      <td>126.442065</td>\n",
       "      <td>...</td>\n",
       "      <td>False</td>\n",
       "      <td>80</td>\n",
       "      <td>842.00</td>\n",
       "      <td>B</td>\n",
       "      <td>93188</td>\n",
       "      <td>2</td>\n",
       "      <td>2010</td>\n",
       "      <td>2.666</td>\n",
       "      <td>2010-02</td>\n",
       "      <td>20.0</td>\n",
       "    </tr>\n",
       "    <tr>\n",
       "      <th>...</th>\n",
       "      <td>...</td>\n",
       "      <td>...</td>\n",
       "      <td>...</td>\n",
       "      <td>...</td>\n",
       "      <td>...</td>\n",
       "      <td>...</td>\n",
       "      <td>...</td>\n",
       "      <td>...</td>\n",
       "      <td>...</td>\n",
       "      <td>...</td>\n",
       "      <td>...</td>\n",
       "      <td>...</td>\n",
       "      <td>...</td>\n",
       "      <td>...</td>\n",
       "      <td>...</td>\n",
       "      <td>...</td>\n",
       "      <td>...</td>\n",
       "      <td>...</td>\n",
       "      <td>...</td>\n",
       "      <td>...</td>\n",
       "      <td>...</td>\n",
       "    </tr>\n",
       "    <tr>\n",
       "      <th>421565</th>\n",
       "      <td>419599</td>\n",
       "      <td>5</td>\n",
       "      <td>2012-10-26</td>\n",
       "      <td>71.70</td>\n",
       "      <td>1547.61</td>\n",
       "      <td>1.74</td>\n",
       "      <td>0.0</td>\n",
       "      <td>133.31</td>\n",
       "      <td>598.74</td>\n",
       "      <td>224.037814</td>\n",
       "      <td>...</td>\n",
       "      <td>False</td>\n",
       "      <td>36</td>\n",
       "      <td>370.04</td>\n",
       "      <td>B</td>\n",
       "      <td>34875</td>\n",
       "      <td>10</td>\n",
       "      <td>2012</td>\n",
       "      <td>3.506</td>\n",
       "      <td>2012-10</td>\n",
       "      <td>70.0</td>\n",
       "    </tr>\n",
       "    <tr>\n",
       "      <th>421566</th>\n",
       "      <td>419600</td>\n",
       "      <td>5</td>\n",
       "      <td>2012-10-26</td>\n",
       "      <td>71.70</td>\n",
       "      <td>1547.61</td>\n",
       "      <td>1.74</td>\n",
       "      <td>0.0</td>\n",
       "      <td>133.31</td>\n",
       "      <td>598.74</td>\n",
       "      <td>224.037814</td>\n",
       "      <td>...</td>\n",
       "      <td>False</td>\n",
       "      <td>38</td>\n",
       "      <td>56913.22</td>\n",
       "      <td>B</td>\n",
       "      <td>34875</td>\n",
       "      <td>10</td>\n",
       "      <td>2012</td>\n",
       "      <td>3.506</td>\n",
       "      <td>2012-10</td>\n",
       "      <td>70.0</td>\n",
       "    </tr>\n",
       "    <tr>\n",
       "      <th>421567</th>\n",
       "      <td>419601</td>\n",
       "      <td>5</td>\n",
       "      <td>2012-10-26</td>\n",
       "      <td>71.70</td>\n",
       "      <td>1547.61</td>\n",
       "      <td>1.74</td>\n",
       "      <td>0.0</td>\n",
       "      <td>133.31</td>\n",
       "      <td>598.74</td>\n",
       "      <td>224.037814</td>\n",
       "      <td>...</td>\n",
       "      <td>False</td>\n",
       "      <td>40</td>\n",
       "      <td>19823.71</td>\n",
       "      <td>B</td>\n",
       "      <td>34875</td>\n",
       "      <td>10</td>\n",
       "      <td>2012</td>\n",
       "      <td>3.506</td>\n",
       "      <td>2012-10</td>\n",
       "      <td>70.0</td>\n",
       "    </tr>\n",
       "    <tr>\n",
       "      <th>421568</th>\n",
       "      <td>419592</td>\n",
       "      <td>5</td>\n",
       "      <td>2012-10-26</td>\n",
       "      <td>71.70</td>\n",
       "      <td>1547.61</td>\n",
       "      <td>1.74</td>\n",
       "      <td>0.0</td>\n",
       "      <td>133.31</td>\n",
       "      <td>598.74</td>\n",
       "      <td>224.037814</td>\n",
       "      <td>...</td>\n",
       "      <td>False</td>\n",
       "      <td>29</td>\n",
       "      <td>1029.90</td>\n",
       "      <td>B</td>\n",
       "      <td>34875</td>\n",
       "      <td>10</td>\n",
       "      <td>2012</td>\n",
       "      <td>3.506</td>\n",
       "      <td>2012-10</td>\n",
       "      <td>70.0</td>\n",
       "    </tr>\n",
       "    <tr>\n",
       "      <th>421569</th>\n",
       "      <td>421569</td>\n",
       "      <td>45</td>\n",
       "      <td>2012-10-26</td>\n",
       "      <td>58.85</td>\n",
       "      <td>4018.91</td>\n",
       "      <td>58.08</td>\n",
       "      <td>100.0</td>\n",
       "      <td>211.94</td>\n",
       "      <td>858.33</td>\n",
       "      <td>192.308899</td>\n",
       "      <td>...</td>\n",
       "      <td>False</td>\n",
       "      <td>98</td>\n",
       "      <td>1076.80</td>\n",
       "      <td>B</td>\n",
       "      <td>118221</td>\n",
       "      <td>10</td>\n",
       "      <td>2012</td>\n",
       "      <td>3.882</td>\n",
       "      <td>2012-10</td>\n",
       "      <td>55.0</td>\n",
       "    </tr>\n",
       "  </tbody>\n",
       "</table>\n",
       "<p>421570 rows × 21 columns</p>\n",
       "</div>"
      ],
      "text/plain": [
       "        Unnamed: 0  Store_id  Sales_Date  Temperature  MarkDown1  MarkDown2  \\\n",
       "0                0         1  2010-02-05        42.31       0.00       0.00   \n",
       "1             1965        17  2010-02-05        23.11       0.00       0.00   \n",
       "2             1966        17  2010-02-05        23.11       0.00       0.00   \n",
       "3             1967        17  2010-02-05        23.11       0.00       0.00   \n",
       "4             1968        17  2010-02-05        23.11       0.00       0.00   \n",
       "...            ...       ...         ...          ...        ...        ...   \n",
       "421565      419599         5  2012-10-26        71.70    1547.61       1.74   \n",
       "421566      419600         5  2012-10-26        71.70    1547.61       1.74   \n",
       "421567      419601         5  2012-10-26        71.70    1547.61       1.74   \n",
       "421568      419592         5  2012-10-26        71.70    1547.61       1.74   \n",
       "421569      421569        45  2012-10-26        58.85    4018.91      58.08   \n",
       "\n",
       "        MarkDown3  MarkDown4  MarkDown5         CPI  ...  IsHoliday  \\\n",
       "0             0.0       0.00       0.00  211.096358  ...      False   \n",
       "1             0.0       0.00       0.00  126.442065  ...      False   \n",
       "2             0.0       0.00       0.00  126.442065  ...      False   \n",
       "3             0.0       0.00       0.00  126.442065  ...      False   \n",
       "4             0.0       0.00       0.00  126.442065  ...      False   \n",
       "...           ...        ...        ...         ...  ...        ...   \n",
       "421565        0.0     133.31     598.74  224.037814  ...      False   \n",
       "421566        0.0     133.31     598.74  224.037814  ...      False   \n",
       "421567        0.0     133.31     598.74  224.037814  ...      False   \n",
       "421568        0.0     133.31     598.74  224.037814  ...      False   \n",
       "421569      100.0     211.94     858.33  192.308899  ...      False   \n",
       "\n",
       "        Store_Dept  Weekly_Sales  Store_Type Store_Size  Sales_Month  \\\n",
       "0                1      24924.50           A     151315            2   \n",
       "1               74      10218.96           B      93188            2   \n",
       "2               78          1.00           B      93188            2   \n",
       "3               79      31042.73           B      93188            2   \n",
       "4               80        842.00           B      93188            2   \n",
       "...            ...           ...         ...        ...          ...   \n",
       "421565          36        370.04           B      34875           10   \n",
       "421566          38      56913.22           B      34875           10   \n",
       "421567          40      19823.71           B      34875           10   \n",
       "421568          29       1029.90           B      34875           10   \n",
       "421569          98       1076.80           B     118221           10   \n",
       "\n",
       "        Sales_Year  Fuel_Price  Year-Month Temperature_r  \n",
       "0             2010       2.572     2010-02          40.0  \n",
       "1             2010       2.666     2010-02          20.0  \n",
       "2             2010       2.666     2010-02          20.0  \n",
       "3             2010       2.666     2010-02          20.0  \n",
       "4             2010       2.666     2010-02          20.0  \n",
       "...            ...         ...         ...           ...  \n",
       "421565        2012       3.506     2012-10          70.0  \n",
       "421566        2012       3.506     2012-10          70.0  \n",
       "421567        2012       3.506     2012-10          70.0  \n",
       "421568        2012       3.506     2012-10          70.0  \n",
       "421569        2012       3.882     2012-10          55.0  \n",
       "\n",
       "[421570 rows x 21 columns]"
      ]
     },
     "execution_count": 151,
     "metadata": {},
     "output_type": "execute_result"
    }
   ],
   "source": [
    "Data = pd.read_csv('C:/Users/pooja/OneDrive/Desktop/We cloud/ML/Project #2/4. Modeling/Retail Data_Modeling_Arima.csv')\n",
    "Data"
   ]
  },
  {
   "cell_type": "code",
   "execution_count": 152,
   "id": "0faac8a2",
   "metadata": {},
   "outputs": [],
   "source": [
    "Data['Sales_Date']=pd.to_datetime(Data['Sales_Date'])"
   ]
  },
  {
   "cell_type": "code",
   "execution_count": 153,
   "id": "1e60fe8f",
   "metadata": {},
   "outputs": [],
   "source": [
    "Data = Data.drop(['Unnamed: 0'],axis=1)"
   ]
  },
  {
   "cell_type": "code",
   "execution_count": 154,
   "id": "cb5e54ff",
   "metadata": {},
   "outputs": [
    {
     "data": {
      "text/html": [
       "<div>\n",
       "<style scoped>\n",
       "    .dataframe tbody tr th:only-of-type {\n",
       "        vertical-align: middle;\n",
       "    }\n",
       "\n",
       "    .dataframe tbody tr th {\n",
       "        vertical-align: top;\n",
       "    }\n",
       "\n",
       "    .dataframe thead th {\n",
       "        text-align: right;\n",
       "    }\n",
       "</style>\n",
       "<table border=\"1\" class=\"dataframe\">\n",
       "  <thead>\n",
       "    <tr style=\"text-align: right;\">\n",
       "      <th></th>\n",
       "      <th>Sales_Date</th>\n",
       "      <th>Weekly_Sales</th>\n",
       "    </tr>\n",
       "  </thead>\n",
       "  <tbody>\n",
       "    <tr>\n",
       "      <th>0</th>\n",
       "      <td>2010-02-05</td>\n",
       "      <td>24924.50</td>\n",
       "    </tr>\n",
       "    <tr>\n",
       "      <th>1</th>\n",
       "      <td>2010-02-05</td>\n",
       "      <td>10218.96</td>\n",
       "    </tr>\n",
       "    <tr>\n",
       "      <th>2</th>\n",
       "      <td>2010-02-05</td>\n",
       "      <td>1.00</td>\n",
       "    </tr>\n",
       "    <tr>\n",
       "      <th>3</th>\n",
       "      <td>2010-02-05</td>\n",
       "      <td>31042.73</td>\n",
       "    </tr>\n",
       "    <tr>\n",
       "      <th>4</th>\n",
       "      <td>2010-02-05</td>\n",
       "      <td>842.00</td>\n",
       "    </tr>\n",
       "    <tr>\n",
       "      <th>...</th>\n",
       "      <td>...</td>\n",
       "      <td>...</td>\n",
       "    </tr>\n",
       "    <tr>\n",
       "      <th>421565</th>\n",
       "      <td>2012-10-26</td>\n",
       "      <td>370.04</td>\n",
       "    </tr>\n",
       "    <tr>\n",
       "      <th>421566</th>\n",
       "      <td>2012-10-26</td>\n",
       "      <td>56913.22</td>\n",
       "    </tr>\n",
       "    <tr>\n",
       "      <th>421567</th>\n",
       "      <td>2012-10-26</td>\n",
       "      <td>19823.71</td>\n",
       "    </tr>\n",
       "    <tr>\n",
       "      <th>421568</th>\n",
       "      <td>2012-10-26</td>\n",
       "      <td>1029.90</td>\n",
       "    </tr>\n",
       "    <tr>\n",
       "      <th>421569</th>\n",
       "      <td>2012-10-26</td>\n",
       "      <td>1076.80</td>\n",
       "    </tr>\n",
       "  </tbody>\n",
       "</table>\n",
       "<p>421570 rows × 2 columns</p>\n",
       "</div>"
      ],
      "text/plain": [
       "       Sales_Date  Weekly_Sales\n",
       "0      2010-02-05      24924.50\n",
       "1      2010-02-05      10218.96\n",
       "2      2010-02-05          1.00\n",
       "3      2010-02-05      31042.73\n",
       "4      2010-02-05        842.00\n",
       "...           ...           ...\n",
       "421565 2012-10-26        370.04\n",
       "421566 2012-10-26      56913.22\n",
       "421567 2012-10-26      19823.71\n",
       "421568 2012-10-26       1029.90\n",
       "421569 2012-10-26       1076.80\n",
       "\n",
       "[421570 rows x 2 columns]"
      ]
     },
     "execution_count": 154,
     "metadata": {},
     "output_type": "execute_result"
    }
   ],
   "source": [
    "Data1 = Data[[\"Sales_Date\",\"Weekly_Sales\"]]\n",
    "Data1"
   ]
  },
  {
   "cell_type": "code",
   "execution_count": 155,
   "id": "b07d329d",
   "metadata": {},
   "outputs": [
    {
     "name": "stdout",
     "output_type": "stream",
     "text": [
      "<class 'pandas.core.frame.DataFrame'>\n",
      "RangeIndex: 421570 entries, 0 to 421569\n",
      "Data columns (total 2 columns):\n",
      " #   Column        Non-Null Count   Dtype         \n",
      "---  ------        --------------   -----         \n",
      " 0   Sales_Date    421570 non-null  datetime64[ns]\n",
      " 1   Weekly_Sales  421570 non-null  float64       \n",
      "dtypes: datetime64[ns](1), float64(1)\n",
      "memory usage: 6.4 MB\n"
     ]
    }
   ],
   "source": [
    "Data1.info()"
   ]
  },
  {
   "cell_type": "code",
   "execution_count": 156,
   "id": "f3f985b6",
   "metadata": {},
   "outputs": [
    {
     "data": {
      "text/plain": [
       "<AxesSubplot:>"
      ]
     },
     "execution_count": 156,
     "metadata": {},
     "output_type": "execute_result"
    },
    {
     "data": {
      "image/png": "[encoded data removed]",
      "text/plain": [
       "<Figure size 432x288 with 1 Axes>"
      ]
     },
     "metadata": {
      "needs_background": "light"
     },
     "output_type": "display_data"
    }
   ],
   "source": [
    "#Make sure there are no null values\n",
    "sns.heatmap(Data1.isnull(),yticklabels=False,cbar=False,cmap='viridis')"
   ]
  },
  {
   "cell_type": "code",
   "execution_count": 157,
   "id": "aab855ed",
   "metadata": {},
   "outputs": [],
   "source": [
    "#Data1.set_index('Sales_Date',inplace=True)"
   ]
  },
  {
   "cell_type": "code",
   "execution_count": 158,
   "id": "565458c3",
   "metadata": {},
   "outputs": [],
   "source": [
    "#Data1.shape"
   ]
  },
  {
   "cell_type": "code",
   "execution_count": 159,
   "id": "f0415e06",
   "metadata": {
    "scrolled": true
   },
   "outputs": [],
   "source": [
    "#Data1"
   ]
  },
  {
   "cell_type": "code",
   "execution_count": 160,
   "id": "2cdb344b",
   "metadata": {},
   "outputs": [],
   "source": [
    "df_average_sales_week = Data.groupby(by=['Sales_Date'], as_index=False)['Weekly_Sales'].sum()\n",
    "df_average_sales = df_average_sales_week.sort_values('Sales_Date', ascending=False)"
   ]
  },
  {
   "cell_type": "code",
   "execution_count": 161,
   "id": "d2c73ba6",
   "metadata": {},
   "outputs": [
    {
     "data": {
      "text/html": [
       "<div>\n",
       "<style scoped>\n",
       "    .dataframe tbody tr th:only-of-type {\n",
       "        vertical-align: middle;\n",
       "    }\n",
       "\n",
       "    .dataframe tbody tr th {\n",
       "        vertical-align: top;\n",
       "    }\n",
       "\n",
       "    .dataframe thead th {\n",
       "        text-align: right;\n",
       "    }\n",
       "</style>\n",
       "<table border=\"1\" class=\"dataframe\">\n",
       "  <thead>\n",
       "    <tr style=\"text-align: right;\">\n",
       "      <th></th>\n",
       "      <th>Sales_Date</th>\n",
       "      <th>Weekly_Sales</th>\n",
       "    </tr>\n",
       "  </thead>\n",
       "  <tbody>\n",
       "    <tr>\n",
       "      <th>142</th>\n",
       "      <td>2012-10-26</td>\n",
       "      <td>45544116.29</td>\n",
       "    </tr>\n",
       "    <tr>\n",
       "      <th>141</th>\n",
       "      <td>2012-10-19</td>\n",
       "      <td>45122410.57</td>\n",
       "    </tr>\n",
       "    <tr>\n",
       "      <th>140</th>\n",
       "      <td>2012-10-12</td>\n",
       "      <td>46128514.25</td>\n",
       "    </tr>\n",
       "    <tr>\n",
       "      <th>139</th>\n",
       "      <td>2012-10-05</td>\n",
       "      <td>47566639.31</td>\n",
       "    </tr>\n",
       "    <tr>\n",
       "      <th>138</th>\n",
       "      <td>2012-09-28</td>\n",
       "      <td>43734899.40</td>\n",
       "    </tr>\n",
       "    <tr>\n",
       "      <th>...</th>\n",
       "      <td>...</td>\n",
       "      <td>...</td>\n",
       "    </tr>\n",
       "    <tr>\n",
       "      <th>4</th>\n",
       "      <td>2010-03-05</td>\n",
       "      <td>46871470.30</td>\n",
       "    </tr>\n",
       "    <tr>\n",
       "      <th>3</th>\n",
       "      <td>2010-02-26</td>\n",
       "      <td>43968571.13</td>\n",
       "    </tr>\n",
       "    <tr>\n",
       "      <th>2</th>\n",
       "      <td>2010-02-19</td>\n",
       "      <td>48276993.78</td>\n",
       "    </tr>\n",
       "    <tr>\n",
       "      <th>1</th>\n",
       "      <td>2010-02-12</td>\n",
       "      <td>48336677.63</td>\n",
       "    </tr>\n",
       "    <tr>\n",
       "      <th>0</th>\n",
       "      <td>2010-02-05</td>\n",
       "      <td>49750740.50</td>\n",
       "    </tr>\n",
       "  </tbody>\n",
       "</table>\n",
       "<p>143 rows × 2 columns</p>\n",
       "</div>"
      ],
      "text/plain": [
       "    Sales_Date  Weekly_Sales\n",
       "142 2012-10-26   45544116.29\n",
       "141 2012-10-19   45122410.57\n",
       "140 2012-10-12   46128514.25\n",
       "139 2012-10-05   47566639.31\n",
       "138 2012-09-28   43734899.40\n",
       "..         ...           ...\n",
       "4   2010-03-05   46871470.30\n",
       "3   2010-02-26   43968571.13\n",
       "2   2010-02-19   48276993.78\n",
       "1   2010-02-12   48336677.63\n",
       "0   2010-02-05   49750740.50\n",
       "\n",
       "[143 rows x 2 columns]"
      ]
     },
     "execution_count": 161,
     "metadata": {},
     "output_type": "execute_result"
    }
   ],
   "source": [
    "df_average_sales"
   ]
  },
  {
   "cell_type": "code",
   "execution_count": 162,
   "id": "74ae9663",
   "metadata": {},
   "outputs": [],
   "source": [
    "#plt.figure(figsize=(20,5))\n",
    "#plt.plot(df_average_sales_week.Sales_Date, df_average_sales_week.Weekly_Sales)\n",
    "#plt.show()"
   ]
  },
  {
   "cell_type": "code",
   "execution_count": 163,
   "id": "84771a17",
   "metadata": {},
   "outputs": [
    {
     "data": {
      "text/plain": [
       "<AxesSubplot:xlabel='Sales_Date', ylabel='Weekly_Sales'>"
      ]
     },
     "execution_count": 163,
     "metadata": {},
     "output_type": "execute_result"
    },
    {
     "data": {
      "image/png": "[encoded data removed]",
      "text/plain": [
       "<Figure size 864x576 with 1 Axes>"
      ]
     },
     "metadata": {
      "needs_background": "light"
     },
     "output_type": "display_data"
    }
   ],
   "source": [
    "# To understand the pattern\n",
    "plt.figure(figsize=(12,8))\n",
    "sns.lineplot(data=df_average_sales, x='Sales_Date', y= 'Weekly_Sales')"
   ]
  },
  {
   "cell_type": "code",
   "execution_count": 164,
   "id": "add80063",
   "metadata": {},
   "outputs": [
    {
     "data": {
      "text/html": [
       "<div>\n",
       "<style scoped>\n",
       "    .dataframe tbody tr th:only-of-type {\n",
       "        vertical-align: middle;\n",
       "    }\n",
       "\n",
       "    .dataframe tbody tr th {\n",
       "        vertical-align: top;\n",
       "    }\n",
       "\n",
       "    .dataframe thead th {\n",
       "        text-align: right;\n",
       "    }\n",
       "</style>\n",
       "<table border=\"1\" class=\"dataframe\">\n",
       "  <thead>\n",
       "    <tr style=\"text-align: right;\">\n",
       "      <th></th>\n",
       "      <th>Weekly_Sales</th>\n",
       "    </tr>\n",
       "    <tr>\n",
       "      <th>Sales_Date</th>\n",
       "      <th></th>\n",
       "    </tr>\n",
       "  </thead>\n",
       "  <tbody>\n",
       "    <tr>\n",
       "      <th>2010-02-05</th>\n",
       "      <td>49750740.50</td>\n",
       "    </tr>\n",
       "    <tr>\n",
       "      <th>2010-02-12</th>\n",
       "      <td>48336677.63</td>\n",
       "    </tr>\n",
       "    <tr>\n",
       "      <th>2010-02-19</th>\n",
       "      <td>48276993.78</td>\n",
       "    </tr>\n",
       "    <tr>\n",
       "      <th>2010-02-26</th>\n",
       "      <td>43968571.13</td>\n",
       "    </tr>\n",
       "    <tr>\n",
       "      <th>2010-03-05</th>\n",
       "      <td>46871470.30</td>\n",
       "    </tr>\n",
       "    <tr>\n",
       "      <th>...</th>\n",
       "      <td>...</td>\n",
       "    </tr>\n",
       "    <tr>\n",
       "      <th>2012-09-28</th>\n",
       "      <td>43734899.40</td>\n",
       "    </tr>\n",
       "    <tr>\n",
       "      <th>2012-10-05</th>\n",
       "      <td>47566639.31</td>\n",
       "    </tr>\n",
       "    <tr>\n",
       "      <th>2012-10-12</th>\n",
       "      <td>46128514.25</td>\n",
       "    </tr>\n",
       "    <tr>\n",
       "      <th>2012-10-19</th>\n",
       "      <td>45122410.57</td>\n",
       "    </tr>\n",
       "    <tr>\n",
       "      <th>2012-10-26</th>\n",
       "      <td>45544116.29</td>\n",
       "    </tr>\n",
       "  </tbody>\n",
       "</table>\n",
       "<p>143 rows × 1 columns</p>\n",
       "</div>"
      ],
      "text/plain": [
       "            Weekly_Sales\n",
       "Sales_Date              \n",
       "2010-02-05   49750740.50\n",
       "2010-02-12   48336677.63\n",
       "2010-02-19   48276993.78\n",
       "2010-02-26   43968571.13\n",
       "2010-03-05   46871470.30\n",
       "...                  ...\n",
       "2012-09-28   43734899.40\n",
       "2012-10-05   47566639.31\n",
       "2012-10-12   46128514.25\n",
       "2012-10-19   45122410.57\n",
       "2012-10-26   45544116.29\n",
       "\n",
       "[143 rows x 1 columns]"
      ]
     },
     "execution_count": 164,
     "metadata": {},
     "output_type": "execute_result"
    }
   ],
   "source": [
    "data2 = df_average_sales_week.set_index('Sales_Date')\n",
    "data2"
   ]
  },
  {
   "cell_type": "code",
   "execution_count": 165,
   "id": "67914349",
   "metadata": {},
   "outputs": [
    {
     "data": {
      "text/html": [
       "<div>\n",
       "<style scoped>\n",
       "    .dataframe tbody tr th:only-of-type {\n",
       "        vertical-align: middle;\n",
       "    }\n",
       "\n",
       "    .dataframe tbody tr th {\n",
       "        vertical-align: top;\n",
       "    }\n",
       "\n",
       "    .dataframe thead th {\n",
       "        text-align: right;\n",
       "    }\n",
       "</style>\n",
       "<table border=\"1\" class=\"dataframe\">\n",
       "  <thead>\n",
       "    <tr style=\"text-align: right;\">\n",
       "      <th></th>\n",
       "      <th>Weekly_Sales</th>\n",
       "    </tr>\n",
       "    <tr>\n",
       "      <th>Sales_Date</th>\n",
       "      <th></th>\n",
       "    </tr>\n",
       "  </thead>\n",
       "  <tbody>\n",
       "    <tr>\n",
       "      <th>2010-02-05</th>\n",
       "      <td>49750740.50</td>\n",
       "    </tr>\n",
       "    <tr>\n",
       "      <th>2010-02-12</th>\n",
       "      <td>48336677.63</td>\n",
       "    </tr>\n",
       "    <tr>\n",
       "      <th>2010-02-19</th>\n",
       "      <td>48276993.78</td>\n",
       "    </tr>\n",
       "    <tr>\n",
       "      <th>2010-02-26</th>\n",
       "      <td>43968571.13</td>\n",
       "    </tr>\n",
       "    <tr>\n",
       "      <th>2010-03-05</th>\n",
       "      <td>46871470.30</td>\n",
       "    </tr>\n",
       "    <tr>\n",
       "      <th>...</th>\n",
       "      <td>...</td>\n",
       "    </tr>\n",
       "    <tr>\n",
       "      <th>2012-09-28</th>\n",
       "      <td>43734899.40</td>\n",
       "    </tr>\n",
       "    <tr>\n",
       "      <th>2012-10-05</th>\n",
       "      <td>47566639.31</td>\n",
       "    </tr>\n",
       "    <tr>\n",
       "      <th>2012-10-12</th>\n",
       "      <td>46128514.25</td>\n",
       "    </tr>\n",
       "    <tr>\n",
       "      <th>2012-10-19</th>\n",
       "      <td>45122410.57</td>\n",
       "    </tr>\n",
       "    <tr>\n",
       "      <th>2012-10-26</th>\n",
       "      <td>45544116.29</td>\n",
       "    </tr>\n",
       "  </tbody>\n",
       "</table>\n",
       "<p>143 rows × 1 columns</p>\n",
       "</div>"
      ],
      "text/plain": [
       "            Weekly_Sales\n",
       "Sales_Date              \n",
       "2010-02-05   49750740.50\n",
       "2010-02-12   48336677.63\n",
       "2010-02-19   48276993.78\n",
       "2010-02-26   43968571.13\n",
       "2010-03-05   46871470.30\n",
       "...                  ...\n",
       "2012-09-28   43734899.40\n",
       "2012-10-05   47566639.31\n",
       "2012-10-12   46128514.25\n",
       "2012-10-19   45122410.57\n",
       "2012-10-26   45544116.29\n",
       "\n",
       "[143 rows x 1 columns]"
      ]
     },
     "execution_count": 165,
     "metadata": {},
     "output_type": "execute_result"
    }
   ],
   "source": [
    "data2"
   ]
  },
  {
   "cell_type": "code",
   "execution_count": 166,
   "id": "8c38c1b9",
   "metadata": {
    "scrolled": true
   },
   "outputs": [],
   "source": [
    "#data2.info()"
   ]
  },
  {
   "cell_type": "code",
   "execution_count": 167,
   "id": "38f40139",
   "metadata": {},
   "outputs": [],
   "source": [
    "#ts.to_csv('C:/Users/pooja/OneDrive/Desktop/We cloud/ML/Project #2/test2.csv')"
   ]
  },
  {
   "cell_type": "code",
   "execution_count": 168,
   "id": "618f5bb1",
   "metadata": {},
   "outputs": [],
   "source": [
    "from statsmodels.tsa.stattools import adfuller"
   ]
  },
  {
   "cell_type": "code",
   "execution_count": 169,
   "id": "b0f572b2",
   "metadata": {},
   "outputs": [],
   "source": [
    "test_result = adfuller(data2['Weekly_Sales'])"
   ]
  },
  {
   "cell_type": "code",
   "execution_count": 170,
   "id": "7baaafac",
   "metadata": {},
   "outputs": [],
   "source": [
    "#Ho : it is not stationary\n",
    "#H1 : it is stationary\n",
    "\n",
    "def adfuller_test(Weekly_Sales):\n",
    "    result = adfuller(Weekly_Sales)\n",
    "    labels=['ADF Test Statistic','P-value','#lags used','Number of observation used']\n",
    "    for value,labels in zip(result,labels):\n",
    "        print(labels+' : '+str(value) )\n",
    "    if result[1]<=0.05:\n",
    "        print(\"Reject null hypothesis(- it is stationary) \")\n",
    "    else:\n",
    "        print(\"Accept null hypothesis (- it is not stationary)\")"
   ]
  },
  {
   "cell_type": "code",
   "execution_count": 171,
   "id": "63b7a830",
   "metadata": {},
   "outputs": [
    {
     "name": "stdout",
     "output_type": "stream",
     "text": [
      "ADF Test Statistic : -5.908297957186334\n",
      "P-value : 2.675979158986027e-07\n",
      "#lags used : 4\n",
      "Number of observation used : 138\n",
      "Reject null hypothesis(- it is stationary) \n"
     ]
    }
   ],
   "source": [
    "adfuller_test(data2[\"Weekly_Sales\"])"
   ]
  },
  {
   "cell_type": "code",
   "execution_count": 172,
   "id": "77b42975",
   "metadata": {},
   "outputs": [],
   "source": [
    "#Spliting the dataset into train and test\n",
    "train = data2[:133]\n",
    "test = data2[-10:]"
   ]
  },
  {
   "cell_type": "code",
   "execution_count": 173,
   "id": "36b64777",
   "metadata": {},
   "outputs": [
    {
     "data": {
      "text/plain": [
       "Text(0, 0.5, 'Weekly_Sales')"
      ]
     },
     "execution_count": 173,
     "metadata": {},
     "output_type": "execute_result"
    },
    {
     "data": {
      "image/png": "[encoded data removed]",
      "text/plain": [
       "<Figure size 864x576 with 1 Axes>"
      ]
     },
     "metadata": {
      "needs_background": "light"
     },
     "output_type": "display_data"
    }
   ],
   "source": [
    "plt.figure(figsize=(12,8))\n",
    "plt.plot(train)\n",
    "plt.plot(test)\n",
    "plt.xlabel('Sales_Date')\n",
    "plt.ylabel('Weekly_Sales')"
   ]
  },
  {
   "cell_type": "code",
   "execution_count": 174,
   "id": "a3802fe7",
   "metadata": {},
   "outputs": [],
   "source": [
    "from pmdarima.arima import auto_arima"
   ]
  },
  {
   "cell_type": "code",
   "execution_count": 175,
   "id": "f57c0d9e",
   "metadata": {},
   "outputs": [
    {
     "name": "stdout",
     "output_type": "stream",
     "text": [
      "Performing stepwise search to minimize aic\n",
      " ARIMA(0,1,0)(0,1,0)[12]             : AIC=4203.649, Time=0.02 sec\n",
      " ARIMA(1,1,0)(1,1,0)[12]             : AIC=4157.789, Time=0.11 sec\n",
      " ARIMA(0,1,1)(0,1,1)[12]             : AIC=4138.259, Time=0.18 sec\n",
      " ARIMA(0,1,1)(0,1,0)[12]             : AIC=4180.279, Time=0.05 sec\n",
      " ARIMA(0,1,1)(1,1,1)[12]             : AIC=4140.178, Time=0.24 sec\n",
      " ARIMA(0,1,1)(0,1,2)[12]             : AIC=4140.170, Time=0.31 sec\n",
      " ARIMA(0,1,1)(1,1,0)[12]             : AIC=4154.107, Time=0.10 sec\n",
      " ARIMA(0,1,1)(1,1,2)[12]             : AIC=4142.137, Time=0.78 sec\n",
      " ARIMA(0,1,0)(0,1,1)[12]             : AIC=4139.959, Time=0.06 sec\n",
      " ARIMA(1,1,1)(0,1,1)[12]             : AIC=4140.007, Time=0.29 sec\n",
      " ARIMA(0,1,2)(0,1,1)[12]             : AIC=4147.818, Time=0.16 sec\n",
      " ARIMA(1,1,0)(0,1,1)[12]             : AIC=4141.238, Time=0.13 sec\n",
      " ARIMA(1,1,2)(0,1,1)[12]             : AIC=4141.295, Time=0.52 sec\n",
      " ARIMA(0,1,1)(0,1,1)[12] intercept   : AIC=4140.301, Time=0.19 sec\n",
      "\n",
      "Best model:  ARIMA(0,1,1)(0,1,1)[12]          \n",
      "Total fit time: 3.156 seconds\n"
     ]
    }
   ],
   "source": [
    "arima_model =  auto_arima(train,start_p=0, d=1, start_q=0, \n",
    "                          max_p=5, max_d=5, max_q=5, start_P=0, \n",
    "                          D=1, start_Q=0, max_P=5, max_D=5,\n",
    "                          max_Q=5, m=12, seasonal=True, \n",
    "                          error_action='warn',trace = True,\n",
    "                          supress_warnings=True,stepwise = True,\n",
    "                          random_state=20,n_fits = 50 )"
   ]
  },
  {
   "cell_type": "code",
   "execution_count": 176,
   "id": "6724898e",
   "metadata": {},
   "outputs": [
    {
     "data": {
      "text/html": [
       "<table class=\"simpletable\">\n",
       "<caption>SARIMAX Results</caption>\n",
       "<tr>\n",
       "  <th>Dep. Variable:</th>                  <td>y</td>               <th>  No. Observations:  </th>    <td>133</td>   \n",
       "</tr>\n",
       "<tr>\n",
       "  <th>Model:</th>           <td>SARIMAX(0, 1, 1)x(0, 1, 1, 12)</td> <th>  Log Likelihood     </th> <td>-2066.129</td>\n",
       "</tr>\n",
       "<tr>\n",
       "  <th>Date:</th>                   <td>Fri, 01 Apr 2022</td>        <th>  AIC                </th> <td>4138.259</td> \n",
       "</tr>\n",
       "<tr>\n",
       "  <th>Time:</th>                       <td>23:01:38</td>            <th>  BIC                </th> <td>4146.621</td> \n",
       "</tr>\n",
       "<tr>\n",
       "  <th>Sample:</th>                         <td>0</td>               <th>  HQIC               </th> <td>4141.655</td> \n",
       "</tr>\n",
       "<tr>\n",
       "  <th></th>                             <td> - 133</td>             <th>                     </th>     <td> </td>    \n",
       "</tr>\n",
       "<tr>\n",
       "  <th>Covariance Type:</th>               <td>opg</td>              <th>                     </th>     <td> </td>    \n",
       "</tr>\n",
       "</table>\n",
       "<table class=\"simpletable\">\n",
       "<tr>\n",
       "      <td></td>        <th>coef</th>     <th>std err</th>      <th>z</th>      <th>P>|z|</th>  <th>[0.025</th>    <th>0.975]</th>  \n",
       "</tr>\n",
       "<tr>\n",
       "  <th>ma.L1</th>    <td>   -0.3705</td> <td>    0.086</td> <td>   -4.294</td> <td> 0.000</td> <td>   -0.540</td> <td>   -0.201</td>\n",
       "</tr>\n",
       "<tr>\n",
       "  <th>ma.S.L12</th> <td>   -0.7729</td> <td>    0.197</td> <td>   -3.923</td> <td> 0.000</td> <td>   -1.159</td> <td>   -0.387</td>\n",
       "</tr>\n",
       "<tr>\n",
       "  <th>sigma2</th>   <td> 7.503e+13</td> <td>    2e-15</td> <td> 3.75e+28</td> <td> 0.000</td> <td>  7.5e+13</td> <td>  7.5e+13</td>\n",
       "</tr>\n",
       "</table>\n",
       "<table class=\"simpletable\">\n",
       "<tr>\n",
       "  <th>Ljung-Box (L1) (Q):</th>     <td>0.27</td> <th>  Jarque-Bera (JB):  </th> <td>210.75</td>\n",
       "</tr>\n",
       "<tr>\n",
       "  <th>Prob(Q):</th>                <td>0.60</td> <th>  Prob(JB):          </th>  <td>0.00</td> \n",
       "</tr>\n",
       "<tr>\n",
       "  <th>Heteroskedasticity (H):</th> <td>0.61</td> <th>  Skew:              </th>  <td>-0.54</td>\n",
       "</tr>\n",
       "<tr>\n",
       "  <th>Prob(H) (two-sided):</th>    <td>0.12</td> <th>  Kurtosis:          </th>  <td>9.40</td> \n",
       "</tr>\n",
       "</table><br/><br/>Warnings:<br/>[1] Covariance matrix calculated using the outer product of gradients (complex-step).<br/>[2] Covariance matrix is singular or near-singular, with condition number 1.92e+44. Standard errors may be unstable."
      ],
      "text/plain": [
       "<class 'statsmodels.iolib.summary.Summary'>\n",
       "\"\"\"\n",
       "                                     SARIMAX Results                                      \n",
       "==========================================================================================\n",
       "Dep. Variable:                                  y   No. Observations:                  133\n",
       "Model:             SARIMAX(0, 1, 1)x(0, 1, 1, 12)   Log Likelihood               -2066.129\n",
       "Date:                            Fri, 01 Apr 2022   AIC                           4138.259\n",
       "Time:                                    23:01:38   BIC                           4146.621\n",
       "Sample:                                         0   HQIC                          4141.655\n",
       "                                            - 133                                         \n",
       "Covariance Type:                              opg                                         \n",
       "==============================================================================\n",
       "                 coef    std err          z      P>|z|      [0.025      0.975]\n",
       "------------------------------------------------------------------------------\n",
       "ma.L1         -0.3705      0.086     -4.294      0.000      -0.540      -0.201\n",
       "ma.S.L12      -0.7729      0.197     -3.923      0.000      -1.159      -0.387\n",
       "sigma2      7.503e+13      2e-15   3.75e+28      0.000     7.5e+13     7.5e+13\n",
       "===================================================================================\n",
       "Ljung-Box (L1) (Q):                   0.27   Jarque-Bera (JB):               210.75\n",
       "Prob(Q):                              0.60   Prob(JB):                         0.00\n",
       "Heteroskedasticity (H):               0.61   Skew:                            -0.54\n",
       "Prob(H) (two-sided):                  0.12   Kurtosis:                         9.40\n",
       "===================================================================================\n",
       "\n",
       "Warnings:\n",
       "[1] Covariance matrix calculated using the outer product of gradients (complex-step).\n",
       "[2] Covariance matrix is singular or near-singular, with condition number 1.92e+44. Standard errors may be unstable.\n",
       "\"\"\""
      ]
     },
     "execution_count": 176,
     "metadata": {},
     "output_type": "execute_result"
    }
   ],
   "source": [
    "#Summary of the model\n",
    "arima_model.summary()"
   ]
  },
  {
   "cell_type": "code",
   "execution_count": 177,
   "id": "1dd5fd25",
   "metadata": {},
   "outputs": [
    {
     "data": {
      "text/html": [
       "<div>\n",
       "<style scoped>\n",
       "    .dataframe tbody tr th:only-of-type {\n",
       "        vertical-align: middle;\n",
       "    }\n",
       "\n",
       "    .dataframe tbody tr th {\n",
       "        vertical-align: top;\n",
       "    }\n",
       "\n",
       "    .dataframe thead th {\n",
       "        text-align: right;\n",
       "    }\n",
       "</style>\n",
       "<table border=\"1\" class=\"dataframe\">\n",
       "  <thead>\n",
       "    <tr style=\"text-align: right;\">\n",
       "      <th></th>\n",
       "      <th>predicted_sales</th>\n",
       "    </tr>\n",
       "    <tr>\n",
       "      <th>Sales_Date</th>\n",
       "      <th></th>\n",
       "    </tr>\n",
       "  </thead>\n",
       "  <tbody>\n",
       "    <tr>\n",
       "      <th>2012-08-24</th>\n",
       "      <td>4.851579e+07</td>\n",
       "    </tr>\n",
       "    <tr>\n",
       "      <th>2012-08-31</th>\n",
       "      <td>5.100039e+07</td>\n",
       "    </tr>\n",
       "    <tr>\n",
       "      <th>2012-09-07</th>\n",
       "      <td>4.658240e+07</td>\n",
       "    </tr>\n",
       "    <tr>\n",
       "      <th>2012-09-14</th>\n",
       "      <td>4.617649e+07</td>\n",
       "    </tr>\n",
       "    <tr>\n",
       "      <th>2012-09-21</th>\n",
       "      <td>4.724892e+07</td>\n",
       "    </tr>\n",
       "    <tr>\n",
       "      <th>2012-09-28</th>\n",
       "      <td>4.825138e+07</td>\n",
       "    </tr>\n",
       "    <tr>\n",
       "      <th>2012-10-05</th>\n",
       "      <td>4.558209e+07</td>\n",
       "    </tr>\n",
       "    <tr>\n",
       "      <th>2012-10-12</th>\n",
       "      <td>4.673432e+07</td>\n",
       "    </tr>\n",
       "    <tr>\n",
       "      <th>2012-10-19</th>\n",
       "      <td>4.753988e+07</td>\n",
       "    </tr>\n",
       "    <tr>\n",
       "      <th>2012-10-26</th>\n",
       "      <td>5.095234e+07</td>\n",
       "    </tr>\n",
       "  </tbody>\n",
       "</table>\n",
       "</div>"
      ],
      "text/plain": [
       "            predicted_sales\n",
       "Sales_Date                 \n",
       "2012-08-24     4.851579e+07\n",
       "2012-08-31     5.100039e+07\n",
       "2012-09-07     4.658240e+07\n",
       "2012-09-14     4.617649e+07\n",
       "2012-09-21     4.724892e+07\n",
       "2012-09-28     4.825138e+07\n",
       "2012-10-05     4.558209e+07\n",
       "2012-10-12     4.673432e+07\n",
       "2012-10-19     4.753988e+07\n",
       "2012-10-26     5.095234e+07"
      ]
     },
     "execution_count": 177,
     "metadata": {},
     "output_type": "execute_result"
    }
   ],
   "source": [
    "prediction = pd.DataFrame(arima_model.predict(n_periods = 10),index=test.index)\n",
    "prediction.columns = ['predicted_sales']\n",
    "prediction"
   ]
  },
  {
   "cell_type": "code",
   "execution_count": 178,
   "id": "7f3ae35a",
   "metadata": {},
   "outputs": [
    {
     "data": {
      "image/png": "[encoded data removed]",
      "text/plain": [
       "<Figure size 864x576 with 1 Axes>"
      ]
     },
     "metadata": {
      "needs_background": "light"
     },
     "output_type": "display_data"
    }
   ],
   "source": [
    "plt.figure(figsize=(12,8))\n",
    "plt.plot(train,label=\"Training\")\n",
    "plt.plot(test,label=\"Test\")\n",
    "plt.plot(prediction,label=\"Predicted\")\n",
    "plt.legend(loc = 'upper left')\n",
    "plt.show()"
   ]
  },
  {
   "cell_type": "code",
   "execution_count": 179,
   "id": "4993983e",
   "metadata": {},
   "outputs": [],
   "source": [
    "from statsmodels.tsa.stattools import adfuller\n",
    "from statsmodels.tsa.stattools import acf, pacf\n",
    "from statsmodels.tsa.seasonal import seasonal_decompose\n",
    "from statsmodels.tsa.arima_model import ARIMA\n",
    "from matplotlib.pylab import rcParams\n",
    "rcParams['figure.figsize'] = 10, 6\n",
    "\n",
    "from statsmodels.tsa.arima.model import ARIMA"
   ]
  },
  {
   "cell_type": "code",
   "execution_count": 180,
   "id": "2867985f",
   "metadata": {},
   "outputs": [
    {
     "name": "stderr",
     "output_type": "stream",
     "text": [
      "C:\\Users\\pooja\\anaconda3\\lib\\site-packages\\statsmodels\\tsa\\base\\tsa_model.py:471: ValueWarning: No frequency information was provided, so inferred frequency W-FRI will be used.\n",
      "  self._init_dates(dates, freq)\n",
      "C:\\Users\\pooja\\anaconda3\\lib\\site-packages\\statsmodels\\tsa\\base\\tsa_model.py:471: ValueWarning: No frequency information was provided, so inferred frequency W-FRI will be used.\n",
      "  self._init_dates(dates, freq)\n",
      "C:\\Users\\pooja\\anaconda3\\lib\\site-packages\\statsmodels\\tsa\\base\\tsa_model.py:471: ValueWarning: No frequency information was provided, so inferred frequency W-FRI will be used.\n",
      "  self._init_dates(dates, freq)\n"
     ]
    },
    {
     "data": {
      "text/plain": [
       "[<matplotlib.lines.Line2D at 0x1fb9fc87be0>]"
      ]
     },
     "execution_count": 180,
     "metadata": {},
     "output_type": "execute_result"
    },
    {
     "data": {
      "image/png": "[encoded data removed]",
      "text/plain": [
       "<Figure size 720x432 with 1 Axes>"
      ]
     },
     "metadata": {
      "needs_background": "light"
     },
     "output_type": "display_data"
    }
   ],
   "source": [
    "# AR+I+MA = ARIMA model\n",
    "model = ARIMA(data2, order=(1,1,0))\n",
    "results_ARIMA = model.fit()\n",
    "plt.plot(data2)\n",
    "plt.plot(results_ARIMA.fittedvalues, color='red')\n",
    "#plt.title('RSS: %.4f'%sum((results_ARIMA.fittedvalues - datasetLogDiffShifting['#Passengers'])**2))\n",
    "#print('Plotting ARIMA model')"
   ]
  },
  {
   "cell_type": "code",
   "execution_count": 181,
   "id": "77991394",
   "metadata": {},
   "outputs": [
    {
     "name": "stdout",
     "output_type": "stream",
     "text": [
      "Sales_Date\n",
      "2010-02-05    0.000000e+00\n",
      "2010-02-12    3.512479e+07\n",
      "2010-02-19    4.875239e+07\n",
      "2010-02-26    4.829454e+07\n",
      "2010-03-05    4.523518e+07\n",
      "dtype: float64\n"
     ]
    }
   ],
   "source": [
    "predictions_ARIMA_diff = pd.Series(results_ARIMA.fittedvalues, copy=True)\n",
    "print(predictions_ARIMA_diff.head())"
   ]
  },
  {
   "cell_type": "code",
   "execution_count": 182,
   "id": "2f5ee5d7",
   "metadata": {},
   "outputs": [
    {
     "name": "stdout",
     "output_type": "stream",
     "text": [
      "Sales_Date\n",
      "2010-02-05    0.000000e+00\n",
      "2010-02-12    3.512479e+07\n",
      "2010-02-19    8.387718e+07\n",
      "2010-02-26    1.321717e+08\n",
      "2010-03-05    1.774069e+08\n",
      "                  ...     \n",
      "2012-09-28    6.496083e+09\n",
      "2012-10-05    6.540000e+09\n",
      "2012-10-12    6.586440e+09\n",
      "2012-10-19    6.632991e+09\n",
      "2012-10-26    6.678410e+09\n",
      "Length: 143, dtype: float64\n"
     ]
    }
   ],
   "source": [
    "#Convert to cumulative sum\n",
    "predictions_ARIMA_diff_cumsum = predictions_ARIMA_diff.cumsum()\n",
    "print(predictions_ARIMA_diff_cumsum)"
   ]
  },
  {
   "cell_type": "code",
   "execution_count": 183,
   "id": "11c2f459",
   "metadata": {},
   "outputs": [
    {
     "data": {
      "text/plain": [
       "Sales_Date\n",
       "2012-09-28    6.545834e+09\n",
       "2012-10-05    6.589751e+09\n",
       "2012-10-12    6.636191e+09\n",
       "2012-10-19    6.682742e+09\n",
       "2012-10-26    6.728160e+09\n",
       "dtype: float64"
      ]
     },
     "execution_count": 183,
     "metadata": {},
     "output_type": "execute_result"
    }
   ],
   "source": [
    "predictions_ARIMA_log = pd.Series(data2['Weekly_Sales'].iloc[0], index=data2.index)\n",
    "predictions_ARIMA_log = predictions_ARIMA_log.add(predictions_ARIMA_diff_cumsum, fill_value=0)\n",
    "predictions_ARIMA_log.tail()"
   ]
  },
  {
   "cell_type": "code",
   "execution_count": 184,
   "id": "68bfd39e",
   "metadata": {},
   "outputs": [
    {
     "name": "stderr",
     "output_type": "stream",
     "text": [
      "C:\\Users\\pooja\\anaconda3\\lib\\site-packages\\pandas\\core\\arraylike.py:364: RuntimeWarning: overflow encountered in exp\n",
      "  result = getattr(ufunc, method)(*inputs, **kwargs)\n"
     ]
    },
    {
     "data": {
      "text/plain": [
       "[<matplotlib.lines.Line2D at 0x1fb993038e0>]"
      ]
     },
     "execution_count": 184,
     "metadata": {},
     "output_type": "execute_result"
    },
    {
     "data": {
      "image/png": "[encoded data removed]",
      "text/plain": [
       "<Figure size 720x432 with 1 Axes>"
      ]
     },
     "metadata": {
      "needs_background": "light"
     },
     "output_type": "display_data"
    }
   ],
   "source": [
    "# Inverse of log is exp.\n",
    "predictions_ARIMA = np.exp(predictions_ARIMA_log)\n",
    "plt.plot(data2)\n",
    "plt.plot(predictions_ARIMA)"
   ]
  },
  {
   "cell_type": "code",
   "execution_count": 192,
   "id": "432a1215",
   "metadata": {},
   "outputs": [
    {
     "name": "stdout",
     "output_type": "stream",
     "text": [
      "2012-10-21    4.049527e+07\n",
      "2012-10-28    4.424802e+07\n",
      "2012-11-04    4.885587e+07\n",
      "2012-11-11    5.014189e+07\n",
      "2012-11-18    4.707255e+07\n",
      "2012-11-25    4.654073e+07\n",
      "2012-12-02    4.729835e+07\n",
      "2012-12-09    4.707171e+07\n",
      "2012-12-16    4.555463e+07\n",
      "2012-12-23    4.519082e+07\n",
      "2012-12-30    5.108298e+07\n",
      "2013-01-06    4.864983e+07\n",
      "2013-01-13    4.553018e+07\n",
      "2013-01-20    4.411536e+07\n",
      "2013-01-27    4.612248e+07\n",
      "2013-02-03    4.698418e+07\n",
      "2013-02-10    4.685391e+07\n",
      "2013-02-17    4.757833e+07\n",
      "Freq: W-SUN, Name: predicted_mean, dtype: float64\n"
     ]
    }
   ],
   "source": [
    "index_future_dates = pd.date_range(start='2012-10-19', end='2013-02-19',freq='W')\n",
    "pred = results_ARIMA.predict(start=104,end=121,typ='levels')\n",
    "pred.index = index_future_dates\n",
    "print(pred)"
   ]
  },
  {
   "cell_type": "code",
   "execution_count": 193,
   "id": "f1e74be3",
   "metadata": {
    "collapsed": true
   },
   "outputs": [
    {
     "data": {
      "text/html": [
       "<div>\n",
       "<style scoped>\n",
       "    .dataframe tbody tr th:only-of-type {\n",
       "        vertical-align: middle;\n",
       "    }\n",
       "\n",
       "    .dataframe tbody tr th {\n",
       "        vertical-align: top;\n",
       "    }\n",
       "\n",
       "    .dataframe thead th {\n",
       "        text-align: right;\n",
       "    }\n",
       "</style>\n",
       "<table border=\"1\" class=\"dataframe\">\n",
       "  <thead>\n",
       "    <tr style=\"text-align: right;\">\n",
       "      <th></th>\n",
       "      <th>Weekly_Sales</th>\n",
       "      <th>predict</th>\n",
       "    </tr>\n",
       "  </thead>\n",
       "  <tbody>\n",
       "    <tr>\n",
       "      <th>2010-02-05</th>\n",
       "      <td>49750740.50</td>\n",
       "      <td>NaN</td>\n",
       "    </tr>\n",
       "    <tr>\n",
       "      <th>2010-02-12</th>\n",
       "      <td>48336677.63</td>\n",
       "      <td>NaN</td>\n",
       "    </tr>\n",
       "    <tr>\n",
       "      <th>2010-02-19</th>\n",
       "      <td>48276993.78</td>\n",
       "      <td>NaN</td>\n",
       "    </tr>\n",
       "    <tr>\n",
       "      <th>2010-02-26</th>\n",
       "      <td>43968571.13</td>\n",
       "      <td>NaN</td>\n",
       "    </tr>\n",
       "    <tr>\n",
       "      <th>2010-03-05</th>\n",
       "      <td>46871470.30</td>\n",
       "      <td>NaN</td>\n",
       "    </tr>\n",
       "    <tr>\n",
       "      <th>...</th>\n",
       "      <td>...</td>\n",
       "      <td>...</td>\n",
       "    </tr>\n",
       "    <tr>\n",
       "      <th>2013-01-20</th>\n",
       "      <td>NaN</td>\n",
       "      <td>4.411536e+07</td>\n",
       "    </tr>\n",
       "    <tr>\n",
       "      <th>2013-01-27</th>\n",
       "      <td>NaN</td>\n",
       "      <td>4.612248e+07</td>\n",
       "    </tr>\n",
       "    <tr>\n",
       "      <th>2013-02-03</th>\n",
       "      <td>NaN</td>\n",
       "      <td>4.698418e+07</td>\n",
       "    </tr>\n",
       "    <tr>\n",
       "      <th>2013-02-10</th>\n",
       "      <td>NaN</td>\n",
       "      <td>4.685391e+07</td>\n",
       "    </tr>\n",
       "    <tr>\n",
       "      <th>2013-02-17</th>\n",
       "      <td>NaN</td>\n",
       "      <td>4.757833e+07</td>\n",
       "    </tr>\n",
       "  </tbody>\n",
       "</table>\n",
       "<p>161 rows × 2 columns</p>\n",
       "</div>"
      ],
      "text/plain": [
       "            Weekly_Sales       predict\n",
       "2010-02-05   49750740.50           NaN\n",
       "2010-02-12   48336677.63           NaN\n",
       "2010-02-19   48276993.78           NaN\n",
       "2010-02-26   43968571.13           NaN\n",
       "2010-03-05   46871470.30           NaN\n",
       "...                  ...           ...\n",
       "2013-01-20           NaN  4.411536e+07\n",
       "2013-01-27           NaN  4.612248e+07\n",
       "2013-02-03           NaN  4.698418e+07\n",
       "2013-02-10           NaN  4.685391e+07\n",
       "2013-02-17           NaN  4.757833e+07\n",
       "\n",
       "[161 rows x 2 columns]"
      ]
     },
     "execution_count": 193,
     "metadata": {},
     "output_type": "execute_result"
    }
   ],
   "source": [
    "future_df=pd.concat([data2,pred])\n",
    "future_df.rename(columns={0:\"predict\"},inplace=True)\n",
    "future_df"
   ]
  },
  {
   "cell_type": "code",
   "execution_count": 194,
   "id": "a4e2d857",
   "metadata": {},
   "outputs": [
    {
     "data": {
      "text/plain": [
       "<AxesSubplot:>"
      ]
     },
     "execution_count": 194,
     "metadata": {},
     "output_type": "execute_result"
    },
    {
     "data": {
      "image/png": "[encoded data removed]",
      "text/plain": [
       "<Figure size 864x576 with 1 Axes>"
      ]
     },
     "metadata": {
      "needs_background": "light"
     },
     "output_type": "display_data"
    }
   ],
   "source": [
    "future_df[['Weekly_Sales', 'predict']].plot(figsize=(12, 8))"
   ]
  }
 ],
 "metadata": {
  "kernelspec": {
   "display_name": "Python 3 (ipykernel)",
   "language": "python",
   "name": "python3"
  },
  "language_info": {
   "codemirror_mode": {
    "name": "ipython",
    "version": 3
   },
   "file_extension": ".py",
   "mimetype": "text/x-python",
   "name": "python",
   "nbconvert_exporter": "python",
   "pygments_lexer": "ipython3",
   "version": "3.9.7"
  }
 },
 "nbformat": 4,
 "nbformat_minor": 5
}
