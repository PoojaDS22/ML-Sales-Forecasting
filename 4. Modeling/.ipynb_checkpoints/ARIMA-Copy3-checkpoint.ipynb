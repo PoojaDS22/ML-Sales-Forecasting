{
 "cells": [
  {
   "cell_type": "code",
   "execution_count": 51,
   "id": "826e117c",
   "metadata": {},
   "outputs": [],
   "source": [
    "# import the different libraries \n",
    "\n",
    "import numpy as np\n",
    "import pandas as pd\n",
    "import matplotlib.pyplot as plt\n",
    "%matplotlib inline\n",
    "import seaborn as sns"
   ]
  },
  {
   "cell_type": "code",
   "execution_count": 52,
   "id": "f6963c14",
   "metadata": {},
   "outputs": [],
   "source": [
    "Data = pd.read_csv('C:/Users/pooja/OneDrive/Desktop/We cloud/ML/Project #2/3. Data_Exploration & Feature_Engineering/Data_Preprocessing1.csv')"
   ]
  },
  {
   "cell_type": "code",
   "execution_count": 53,
   "id": "8927992f",
   "metadata": {},
   "outputs": [],
   "source": [
    "Data=Data.drop(columns=['Unnamed: 0','Store_id'])"
   ]
  },
  {
   "cell_type": "code",
   "execution_count": 54,
   "id": "2e86e4cc",
   "metadata": {},
   "outputs": [
    {
     "data": {
      "text/html": [
       "<div>\n",
       "<style scoped>\n",
       "    .dataframe tbody tr th:only-of-type {\n",
       "        vertical-align: middle;\n",
       "    }\n",
       "\n",
       "    .dataframe tbody tr th {\n",
       "        vertical-align: top;\n",
       "    }\n",
       "\n",
       "    .dataframe thead th {\n",
       "        text-align: right;\n",
       "    }\n",
       "</style>\n",
       "<table border=\"1\" class=\"dataframe\">\n",
       "  <thead>\n",
       "    <tr style=\"text-align: right;\">\n",
       "      <th></th>\n",
       "      <th>Sales_Date</th>\n",
       "      <th>Temperature</th>\n",
       "      <th>MarkDown1</th>\n",
       "      <th>MarkDown2</th>\n",
       "      <th>MarkDown3</th>\n",
       "      <th>MarkDown4</th>\n",
       "      <th>MarkDown5</th>\n",
       "      <th>CPI</th>\n",
       "      <th>Unemployment</th>\n",
       "      <th>IsHoliday</th>\n",
       "      <th>Store_Dept</th>\n",
       "      <th>Weekly_Sales</th>\n",
       "      <th>Store_Type</th>\n",
       "      <th>Store_Size</th>\n",
       "      <th>Sales_Month</th>\n",
       "      <th>Sales_Year</th>\n",
       "      <th>Fuel_Price</th>\n",
       "      <th>Year-Month</th>\n",
       "      <th>Temperature_r</th>\n",
       "      <th>SalesDate</th>\n",
       "    </tr>\n",
       "  </thead>\n",
       "  <tbody>\n",
       "    <tr>\n",
       "      <th>0</th>\n",
       "      <td>2010-01-10</td>\n",
       "      <td>68.74</td>\n",
       "      <td>0.00</td>\n",
       "      <td>0.0</td>\n",
       "      <td>0.00</td>\n",
       "      <td>0.00</td>\n",
       "      <td>0.00</td>\n",
       "      <td>126.234600</td>\n",
       "      <td>7.795</td>\n",
       "      <td>False</td>\n",
       "      <td>14</td>\n",
       "      <td>20922.18</td>\n",
       "      <td>A</td>\n",
       "      <td>219622</td>\n",
       "      <td>1</td>\n",
       "      <td>2010</td>\n",
       "      <td>2.853</td>\n",
       "      <td>2010-01</td>\n",
       "      <td>65.0</td>\n",
       "      <td>2010-01-10</td>\n",
       "    </tr>\n",
       "    <tr>\n",
       "      <th>1</th>\n",
       "      <td>2010-01-10</td>\n",
       "      <td>62.01</td>\n",
       "      <td>0.00</td>\n",
       "      <td>0.0</td>\n",
       "      <td>0.00</td>\n",
       "      <td>0.00</td>\n",
       "      <td>0.00</td>\n",
       "      <td>132.756800</td>\n",
       "      <td>5.287</td>\n",
       "      <td>False</td>\n",
       "      <td>74</td>\n",
       "      <td>9872.41</td>\n",
       "      <td>A</td>\n",
       "      <td>155083</td>\n",
       "      <td>1</td>\n",
       "      <td>2010</td>\n",
       "      <td>2.717</td>\n",
       "      <td>2010-01</td>\n",
       "      <td>60.0</td>\n",
       "      <td>2010-01-10</td>\n",
       "    </tr>\n",
       "    <tr>\n",
       "      <th>2</th>\n",
       "      <td>2010-01-10</td>\n",
       "      <td>62.01</td>\n",
       "      <td>0.00</td>\n",
       "      <td>0.0</td>\n",
       "      <td>0.00</td>\n",
       "      <td>0.00</td>\n",
       "      <td>0.00</td>\n",
       "      <td>132.756800</td>\n",
       "      <td>5.287</td>\n",
       "      <td>False</td>\n",
       "      <td>79</td>\n",
       "      <td>10840.77</td>\n",
       "      <td>A</td>\n",
       "      <td>155083</td>\n",
       "      <td>1</td>\n",
       "      <td>2010</td>\n",
       "      <td>2.717</td>\n",
       "      <td>2010-01</td>\n",
       "      <td>60.0</td>\n",
       "      <td>2010-01-10</td>\n",
       "    </tr>\n",
       "    <tr>\n",
       "      <th>3</th>\n",
       "      <td>2010-01-10</td>\n",
       "      <td>70.19</td>\n",
       "      <td>0.00</td>\n",
       "      <td>0.0</td>\n",
       "      <td>0.00</td>\n",
       "      <td>0.00</td>\n",
       "      <td>0.00</td>\n",
       "      <td>136.629757</td>\n",
       "      <td>8.021</td>\n",
       "      <td>False</td>\n",
       "      <td>98</td>\n",
       "      <td>9837.86</td>\n",
       "      <td>A</td>\n",
       "      <td>204184</td>\n",
       "      <td>1</td>\n",
       "      <td>2010</td>\n",
       "      <td>2.840</td>\n",
       "      <td>2010-01</td>\n",
       "      <td>70.0</td>\n",
       "      <td>2010-01-10</td>\n",
       "    </tr>\n",
       "    <tr>\n",
       "      <th>4</th>\n",
       "      <td>2010-01-10</td>\n",
       "      <td>70.19</td>\n",
       "      <td>0.00</td>\n",
       "      <td>0.0</td>\n",
       "      <td>0.00</td>\n",
       "      <td>0.00</td>\n",
       "      <td>0.00</td>\n",
       "      <td>136.629757</td>\n",
       "      <td>8.021</td>\n",
       "      <td>False</td>\n",
       "      <td>97</td>\n",
       "      <td>19095.76</td>\n",
       "      <td>A</td>\n",
       "      <td>204184</td>\n",
       "      <td>1</td>\n",
       "      <td>2010</td>\n",
       "      <td>2.840</td>\n",
       "      <td>2010-01</td>\n",
       "      <td>70.0</td>\n",
       "      <td>2010-01-10</td>\n",
       "    </tr>\n",
       "    <tr>\n",
       "      <th>...</th>\n",
       "      <td>...</td>\n",
       "      <td>...</td>\n",
       "      <td>...</td>\n",
       "      <td>...</td>\n",
       "      <td>...</td>\n",
       "      <td>...</td>\n",
       "      <td>...</td>\n",
       "      <td>...</td>\n",
       "      <td>...</td>\n",
       "      <td>...</td>\n",
       "      <td>...</td>\n",
       "      <td>...</td>\n",
       "      <td>...</td>\n",
       "      <td>...</td>\n",
       "      <td>...</td>\n",
       "      <td>...</td>\n",
       "      <td>...</td>\n",
       "      <td>...</td>\n",
       "      <td>...</td>\n",
       "      <td>...</td>\n",
       "    </tr>\n",
       "    <tr>\n",
       "      <th>421565</th>\n",
       "      <td>2012-12-10</td>\n",
       "      <td>65.43</td>\n",
       "      <td>1905.34</td>\n",
       "      <td>0.0</td>\n",
       "      <td>13.83</td>\n",
       "      <td>559.50</td>\n",
       "      <td>8706.87</td>\n",
       "      <td>225.005473</td>\n",
       "      <td>5.329</td>\n",
       "      <td>False</td>\n",
       "      <td>83</td>\n",
       "      <td>3690.95</td>\n",
       "      <td>A</td>\n",
       "      <td>202505</td>\n",
       "      <td>12</td>\n",
       "      <td>2012</td>\n",
       "      <td>3.601</td>\n",
       "      <td>2012-12</td>\n",
       "      <td>65.0</td>\n",
       "      <td>2012-12-10</td>\n",
       "    </tr>\n",
       "    <tr>\n",
       "      <th>421566</th>\n",
       "      <td>2012-12-10</td>\n",
       "      <td>65.43</td>\n",
       "      <td>1905.34</td>\n",
       "      <td>0.0</td>\n",
       "      <td>13.83</td>\n",
       "      <td>559.50</td>\n",
       "      <td>8706.87</td>\n",
       "      <td>225.005473</td>\n",
       "      <td>5.329</td>\n",
       "      <td>False</td>\n",
       "      <td>85</td>\n",
       "      <td>1645.71</td>\n",
       "      <td>A</td>\n",
       "      <td>202505</td>\n",
       "      <td>12</td>\n",
       "      <td>2012</td>\n",
       "      <td>3.601</td>\n",
       "      <td>2012-12</td>\n",
       "      <td>65.0</td>\n",
       "      <td>2012-12-10</td>\n",
       "    </tr>\n",
       "    <tr>\n",
       "      <th>421567</th>\n",
       "      <td>2012-12-10</td>\n",
       "      <td>65.43</td>\n",
       "      <td>1905.34</td>\n",
       "      <td>0.0</td>\n",
       "      <td>13.83</td>\n",
       "      <td>559.50</td>\n",
       "      <td>8706.87</td>\n",
       "      <td>225.005473</td>\n",
       "      <td>5.329</td>\n",
       "      <td>False</td>\n",
       "      <td>87</td>\n",
       "      <td>44915.71</td>\n",
       "      <td>A</td>\n",
       "      <td>202505</td>\n",
       "      <td>12</td>\n",
       "      <td>2012</td>\n",
       "      <td>3.601</td>\n",
       "      <td>2012-12</td>\n",
       "      <td>65.0</td>\n",
       "      <td>2012-12-10</td>\n",
       "    </tr>\n",
       "    <tr>\n",
       "      <th>421568</th>\n",
       "      <td>2012-12-10</td>\n",
       "      <td>65.43</td>\n",
       "      <td>1905.34</td>\n",
       "      <td>0.0</td>\n",
       "      <td>13.83</td>\n",
       "      <td>559.50</td>\n",
       "      <td>8706.87</td>\n",
       "      <td>225.005473</td>\n",
       "      <td>5.329</td>\n",
       "      <td>False</td>\n",
       "      <td>91</td>\n",
       "      <td>44775.89</td>\n",
       "      <td>A</td>\n",
       "      <td>202505</td>\n",
       "      <td>12</td>\n",
       "      <td>2012</td>\n",
       "      <td>3.601</td>\n",
       "      <td>2012-12</td>\n",
       "      <td>65.0</td>\n",
       "      <td>2012-12-10</td>\n",
       "    </tr>\n",
       "    <tr>\n",
       "      <th>421569</th>\n",
       "      <td>2012-12-10</td>\n",
       "      <td>47.35</td>\n",
       "      <td>1686.43</td>\n",
       "      <td>0.0</td>\n",
       "      <td>13.85</td>\n",
       "      <td>589.97</td>\n",
       "      <td>6365.02</td>\n",
       "      <td>138.911700</td>\n",
       "      <td>4.145</td>\n",
       "      <td>False</td>\n",
       "      <td>2</td>\n",
       "      <td>25868.29</td>\n",
       "      <td>A</td>\n",
       "      <td>155083</td>\n",
       "      <td>12</td>\n",
       "      <td>2012</td>\n",
       "      <td>4.029</td>\n",
       "      <td>2012-12</td>\n",
       "      <td>45.0</td>\n",
       "      <td>2012-12-10</td>\n",
       "    </tr>\n",
       "  </tbody>\n",
       "</table>\n",
       "<p>421570 rows × 20 columns</p>\n",
       "</div>"
      ],
      "text/plain": [
       "        Sales_Date  Temperature  MarkDown1  MarkDown2  MarkDown3  MarkDown4  \\\n",
       "0       2010-01-10        68.74       0.00        0.0       0.00       0.00   \n",
       "1       2010-01-10        62.01       0.00        0.0       0.00       0.00   \n",
       "2       2010-01-10        62.01       0.00        0.0       0.00       0.00   \n",
       "3       2010-01-10        70.19       0.00        0.0       0.00       0.00   \n",
       "4       2010-01-10        70.19       0.00        0.0       0.00       0.00   \n",
       "...            ...          ...        ...        ...        ...        ...   \n",
       "421565  2012-12-10        65.43    1905.34        0.0      13.83     559.50   \n",
       "421566  2012-12-10        65.43    1905.34        0.0      13.83     559.50   \n",
       "421567  2012-12-10        65.43    1905.34        0.0      13.83     559.50   \n",
       "421568  2012-12-10        65.43    1905.34        0.0      13.83     559.50   \n",
       "421569  2012-12-10        47.35    1686.43        0.0      13.85     589.97   \n",
       "\n",
       "        MarkDown5         CPI  Unemployment  IsHoliday  Store_Dept  \\\n",
       "0            0.00  126.234600         7.795      False          14   \n",
       "1            0.00  132.756800         5.287      False          74   \n",
       "2            0.00  132.756800         5.287      False          79   \n",
       "3            0.00  136.629757         8.021      False          98   \n",
       "4            0.00  136.629757         8.021      False          97   \n",
       "...           ...         ...           ...        ...         ...   \n",
       "421565    8706.87  225.005473         5.329      False          83   \n",
       "421566    8706.87  225.005473         5.329      False          85   \n",
       "421567    8706.87  225.005473         5.329      False          87   \n",
       "421568    8706.87  225.005473         5.329      False          91   \n",
       "421569    6365.02  138.911700         4.145      False           2   \n",
       "\n",
       "        Weekly_Sales Store_Type  Store_Size  Sales_Month  Sales_Year  \\\n",
       "0           20922.18          A      219622            1        2010   \n",
       "1            9872.41          A      155083            1        2010   \n",
       "2           10840.77          A      155083            1        2010   \n",
       "3            9837.86          A      204184            1        2010   \n",
       "4           19095.76          A      204184            1        2010   \n",
       "...              ...        ...         ...          ...         ...   \n",
       "421565       3690.95          A      202505           12        2012   \n",
       "421566       1645.71          A      202505           12        2012   \n",
       "421567      44915.71          A      202505           12        2012   \n",
       "421568      44775.89          A      202505           12        2012   \n",
       "421569      25868.29          A      155083           12        2012   \n",
       "\n",
       "        Fuel_Price Year-Month  Temperature_r  SalesDate  \n",
       "0            2.853    2010-01           65.0 2010-01-10  \n",
       "1            2.717    2010-01           60.0 2010-01-10  \n",
       "2            2.717    2010-01           60.0 2010-01-10  \n",
       "3            2.840    2010-01           70.0 2010-01-10  \n",
       "4            2.840    2010-01           70.0 2010-01-10  \n",
       "...            ...        ...            ...        ...  \n",
       "421565       3.601    2012-12           65.0 2012-12-10  \n",
       "421566       3.601    2012-12           65.0 2012-12-10  \n",
       "421567       3.601    2012-12           65.0 2012-12-10  \n",
       "421568       3.601    2012-12           65.0 2012-12-10  \n",
       "421569       4.029    2012-12           45.0 2012-12-10  \n",
       "\n",
       "[421570 rows x 20 columns]"
      ]
     },
     "execution_count": 54,
     "metadata": {},
     "output_type": "execute_result"
    }
   ],
   "source": [
    "Data['SalesDate']=pd.to_datetime(Data['Sales_Date'])\n",
    "Data"
   ]
  },
  {
   "cell_type": "code",
   "execution_count": 55,
   "id": "4db3b6d5",
   "metadata": {},
   "outputs": [],
   "source": [
    "Data1 = Data[[\"SalesDate\",\"Weekly_Sales\"]]"
   ]
  },
  {
   "cell_type": "code",
   "execution_count": 56,
   "id": "b07d329d",
   "metadata": {},
   "outputs": [
    {
     "name": "stdout",
     "output_type": "stream",
     "text": [
      "<class 'pandas.core.frame.DataFrame'>\n",
      "RangeIndex: 421570 entries, 0 to 421569\n",
      "Data columns (total 2 columns):\n",
      " #   Column        Non-Null Count   Dtype         \n",
      "---  ------        --------------   -----         \n",
      " 0   SalesDate     421570 non-null  datetime64[ns]\n",
      " 1   Weekly_Sales  421570 non-null  float64       \n",
      "dtypes: datetime64[ns](1), float64(1)\n",
      "memory usage: 6.4 MB\n"
     ]
    }
   ],
   "source": [
    "Data1.info()"
   ]
  },
  {
   "cell_type": "code",
   "execution_count": 57,
   "id": "aab855ed",
   "metadata": {},
   "outputs": [],
   "source": [
    "Data1.set_index('SalesDate',inplace=True)"
   ]
  },
  {
   "cell_type": "code",
   "execution_count": 58,
   "id": "565458c3",
   "metadata": {},
   "outputs": [
    {
     "data": {
      "text/plain": [
       "(421570, 1)"
      ]
     },
     "execution_count": 58,
     "metadata": {},
     "output_type": "execute_result"
    }
   ],
   "source": [
    "Data1.shape"
   ]
  },
  {
   "cell_type": "code",
   "execution_count": 59,
   "id": "f0415e06",
   "metadata": {
    "scrolled": true
   },
   "outputs": [
    {
     "data": {
      "text/html": [
       "<div>\n",
       "<style scoped>\n",
       "    .dataframe tbody tr th:only-of-type {\n",
       "        vertical-align: middle;\n",
       "    }\n",
       "\n",
       "    .dataframe tbody tr th {\n",
       "        vertical-align: top;\n",
       "    }\n",
       "\n",
       "    .dataframe thead th {\n",
       "        text-align: right;\n",
       "    }\n",
       "</style>\n",
       "<table border=\"1\" class=\"dataframe\">\n",
       "  <thead>\n",
       "    <tr style=\"text-align: right;\">\n",
       "      <th></th>\n",
       "      <th>Weekly_Sales</th>\n",
       "    </tr>\n",
       "    <tr>\n",
       "      <th>SalesDate</th>\n",
       "      <th></th>\n",
       "    </tr>\n",
       "  </thead>\n",
       "  <tbody>\n",
       "    <tr>\n",
       "      <th>2010-01-10</th>\n",
       "      <td>20922.18</td>\n",
       "    </tr>\n",
       "    <tr>\n",
       "      <th>2010-01-10</th>\n",
       "      <td>9872.41</td>\n",
       "    </tr>\n",
       "    <tr>\n",
       "      <th>2010-01-10</th>\n",
       "      <td>10840.77</td>\n",
       "    </tr>\n",
       "    <tr>\n",
       "      <th>2010-01-10</th>\n",
       "      <td>9837.86</td>\n",
       "    </tr>\n",
       "    <tr>\n",
       "      <th>2010-01-10</th>\n",
       "      <td>19095.76</td>\n",
       "    </tr>\n",
       "    <tr>\n",
       "      <th>...</th>\n",
       "      <td>...</td>\n",
       "    </tr>\n",
       "    <tr>\n",
       "      <th>2012-12-10</th>\n",
       "      <td>3690.95</td>\n",
       "    </tr>\n",
       "    <tr>\n",
       "      <th>2012-12-10</th>\n",
       "      <td>1645.71</td>\n",
       "    </tr>\n",
       "    <tr>\n",
       "      <th>2012-12-10</th>\n",
       "      <td>44915.71</td>\n",
       "    </tr>\n",
       "    <tr>\n",
       "      <th>2012-12-10</th>\n",
       "      <td>44775.89</td>\n",
       "    </tr>\n",
       "    <tr>\n",
       "      <th>2012-12-10</th>\n",
       "      <td>25868.29</td>\n",
       "    </tr>\n",
       "  </tbody>\n",
       "</table>\n",
       "<p>421570 rows × 1 columns</p>\n",
       "</div>"
      ],
      "text/plain": [
       "            Weekly_Sales\n",
       "SalesDate               \n",
       "2010-01-10      20922.18\n",
       "2010-01-10       9872.41\n",
       "2010-01-10      10840.77\n",
       "2010-01-10       9837.86\n",
       "2010-01-10      19095.76\n",
       "...                  ...\n",
       "2012-12-10       3690.95\n",
       "2012-12-10       1645.71\n",
       "2012-12-10      44915.71\n",
       "2012-12-10      44775.89\n",
       "2012-12-10      25868.29\n",
       "\n",
       "[421570 rows x 1 columns]"
      ]
     },
     "execution_count": 59,
     "metadata": {},
     "output_type": "execute_result"
    }
   ],
   "source": [
    "Data1"
   ]
  },
  {
   "cell_type": "code",
   "execution_count": 60,
   "id": "2cdb344b",
   "metadata": {},
   "outputs": [],
   "source": [
    "df_average_sales_week = Data.groupby(by=['SalesDate'], as_index=False)['Weekly_Sales'].sum()\n",
    "df_average_sales = df_average_sales_week.sort_values('Weekly_Sales', ascending=False)"
   ]
  },
  {
   "cell_type": "code",
   "execution_count": 61,
   "id": "d2c73ba6",
   "metadata": {},
   "outputs": [
    {
     "data": {
      "text/html": [
       "<div>\n",
       "<style scoped>\n",
       "    .dataframe tbody tr th:only-of-type {\n",
       "        vertical-align: middle;\n",
       "    }\n",
       "\n",
       "    .dataframe tbody tr th {\n",
       "        vertical-align: top;\n",
       "    }\n",
       "\n",
       "    .dataframe thead th {\n",
       "        text-align: right;\n",
       "    }\n",
       "</style>\n",
       "<table border=\"1\" class=\"dataframe\">\n",
       "  <thead>\n",
       "    <tr style=\"text-align: right;\">\n",
       "      <th></th>\n",
       "      <th>SalesDate</th>\n",
       "      <th>Weekly_Sales</th>\n",
       "    </tr>\n",
       "  </thead>\n",
       "  <tbody>\n",
       "    <tr>\n",
       "      <th>0</th>\n",
       "      <td>2010-01-10</td>\n",
       "      <td>42239875.87</td>\n",
       "    </tr>\n",
       "    <tr>\n",
       "      <th>1</th>\n",
       "      <td>2010-02-04</td>\n",
       "      <td>50423831.26</td>\n",
       "    </tr>\n",
       "    <tr>\n",
       "      <th>2</th>\n",
       "      <td>2010-02-07</td>\n",
       "      <td>48917484.50</td>\n",
       "    </tr>\n",
       "    <tr>\n",
       "      <th>3</th>\n",
       "      <td>2010-02-19</td>\n",
       "      <td>48276993.78</td>\n",
       "    </tr>\n",
       "    <tr>\n",
       "      <th>4</th>\n",
       "      <td>2010-02-26</td>\n",
       "      <td>43968571.13</td>\n",
       "    </tr>\n",
       "    <tr>\n",
       "      <th>...</th>\n",
       "      <td>...</td>\n",
       "      <td>...</td>\n",
       "    </tr>\n",
       "    <tr>\n",
       "      <th>138</th>\n",
       "      <td>2012-10-08</td>\n",
       "      <td>47403451.04</td>\n",
       "    </tr>\n",
       "    <tr>\n",
       "      <th>139</th>\n",
       "      <td>2012-10-19</td>\n",
       "      <td>45122410.57</td>\n",
       "    </tr>\n",
       "    <tr>\n",
       "      <th>140</th>\n",
       "      <td>2012-10-26</td>\n",
       "      <td>45544116.29</td>\n",
       "    </tr>\n",
       "    <tr>\n",
       "      <th>141</th>\n",
       "      <td>2012-11-05</td>\n",
       "      <td>46925878.99</td>\n",
       "    </tr>\n",
       "    <tr>\n",
       "      <th>142</th>\n",
       "      <td>2012-12-10</td>\n",
       "      <td>46128514.25</td>\n",
       "    </tr>\n",
       "  </tbody>\n",
       "</table>\n",
       "<p>143 rows × 2 columns</p>\n",
       "</div>"
      ],
      "text/plain": [
       "     SalesDate  Weekly_Sales\n",
       "0   2010-01-10   42239875.87\n",
       "1   2010-02-04   50423831.26\n",
       "2   2010-02-07   48917484.50\n",
       "3   2010-02-19   48276993.78\n",
       "4   2010-02-26   43968571.13\n",
       "..         ...           ...\n",
       "138 2012-10-08   47403451.04\n",
       "139 2012-10-19   45122410.57\n",
       "140 2012-10-26   45544116.29\n",
       "141 2012-11-05   46925878.99\n",
       "142 2012-12-10   46128514.25\n",
       "\n",
       "[143 rows x 2 columns]"
      ]
     },
     "execution_count": 61,
     "metadata": {},
     "output_type": "execute_result"
    }
   ],
   "source": [
    "df_average_sales_week"
   ]
  },
  {
   "cell_type": "code",
   "execution_count": 62,
   "id": "ab668f3d",
   "metadata": {},
   "outputs": [
    {
     "data": {
      "image/png": "[encoded data removed]",
      "text/plain": [
       "<Figure size 1440x360 with 1 Axes>"
      ]
     },
     "metadata": {
      "needs_background": "light"
     },
     "output_type": "display_data"
    }
   ],
   "source": [
    "plt.figure(figsize=(20,5))\n",
    "plt.plot(df_average_sales_week.SalesDate, df_average_sales_week.Weekly_Sales)\n",
    "plt.show()"
   ]
  },
  {
   "cell_type": "code",
   "execution_count": 63,
   "id": "add80063",
   "metadata": {},
   "outputs": [],
   "source": [
    "ts = df_average_sales_week.set_index('SalesDate')"
   ]
  },
  {
   "cell_type": "code",
   "execution_count": 64,
   "id": "8c38c1b9",
   "metadata": {
    "scrolled": true
   },
   "outputs": [
    {
     "name": "stdout",
     "output_type": "stream",
     "text": [
      "<class 'pandas.core.frame.DataFrame'>\n",
      "DatetimeIndex: 143 entries, 2010-01-10 to 2012-12-10\n",
      "Data columns (total 1 columns):\n",
      " #   Column        Non-Null Count  Dtype  \n",
      "---  ------        --------------  -----  \n",
      " 0   Weekly_Sales  143 non-null    float64\n",
      "dtypes: float64(1)\n",
      "memory usage: 2.2 KB\n"
     ]
    }
   ],
   "source": [
    "ts.info()"
   ]
  },
  {
   "cell_type": "code",
   "execution_count": 65,
   "id": "ed8a92a0",
   "metadata": {},
   "outputs": [
    {
     "data": {
      "text/html": [
       "<div>\n",
       "<style scoped>\n",
       "    .dataframe tbody tr th:only-of-type {\n",
       "        vertical-align: middle;\n",
       "    }\n",
       "\n",
       "    .dataframe tbody tr th {\n",
       "        vertical-align: top;\n",
       "    }\n",
       "\n",
       "    .dataframe thead th {\n",
       "        text-align: right;\n",
       "    }\n",
       "</style>\n",
       "<table border=\"1\" class=\"dataframe\">\n",
       "  <thead>\n",
       "    <tr style=\"text-align: right;\">\n",
       "      <th></th>\n",
       "      <th>Weekly_Sales</th>\n",
       "    </tr>\n",
       "    <tr>\n",
       "      <th>SalesDate</th>\n",
       "      <th></th>\n",
       "    </tr>\n",
       "  </thead>\n",
       "  <tbody>\n",
       "    <tr>\n",
       "      <th>2012-10-08</th>\n",
       "      <td>47403451.04</td>\n",
       "    </tr>\n",
       "    <tr>\n",
       "      <th>2012-10-19</th>\n",
       "      <td>45122410.57</td>\n",
       "    </tr>\n",
       "    <tr>\n",
       "      <th>2012-10-26</th>\n",
       "      <td>45544116.29</td>\n",
       "    </tr>\n",
       "    <tr>\n",
       "      <th>2012-11-05</th>\n",
       "      <td>46925878.99</td>\n",
       "    </tr>\n",
       "    <tr>\n",
       "      <th>2012-12-10</th>\n",
       "      <td>46128514.25</td>\n",
       "    </tr>\n",
       "  </tbody>\n",
       "</table>\n",
       "</div>"
      ],
      "text/plain": [
       "            Weekly_Sales\n",
       "SalesDate               \n",
       "2012-10-08   47403451.04\n",
       "2012-10-19   45122410.57\n",
       "2012-10-26   45544116.29\n",
       "2012-11-05   46925878.99\n",
       "2012-12-10   46128514.25"
      ]
     },
     "execution_count": 65,
     "metadata": {},
     "output_type": "execute_result"
    }
   ],
   "source": [
    "ts.tail()"
   ]
  },
  {
   "cell_type": "code",
   "execution_count": 66,
   "id": "618f5bb1",
   "metadata": {},
   "outputs": [],
   "source": [
    "from statsmodels.tsa.stattools import adfuller"
   ]
  },
  {
   "cell_type": "code",
   "execution_count": 67,
   "id": "b0f572b2",
   "metadata": {},
   "outputs": [],
   "source": [
    "test_result = adfuller(ts['Weekly_Sales'])"
   ]
  },
  {
   "cell_type": "code",
   "execution_count": 68,
   "id": "7baaafac",
   "metadata": {},
   "outputs": [],
   "source": [
    "#Ho : it is not stationary\n",
    "#H1 : it is stationary\n",
    "\n",
    "def adfuller_test(Weekly_Sales):\n",
    "    result = adfuller(Weekly_Sales)\n",
    "    labels=['ADF Test Statistic','P-value','#lags used','Number of observation used']\n",
    "    for value,labels in zip(result,labels):\n",
    "        print(labels+' : '+str(value) )\n",
    "    if result[1]<=0.05:\n",
    "        print(\"Reject null hypothesis(- it is stationary) \")\n",
    "    else:\n",
    "        print(\"Accept null hypothesis (- it is not stationary)\")"
   ]
  },
  {
   "cell_type": "code",
   "execution_count": 69,
   "id": "63b7a830",
   "metadata": {},
   "outputs": [
    {
     "name": "stdout",
     "output_type": "stream",
     "text": [
      "ADF Test Statistic : -9.83772158074678\n",
      "P-value : 4.8451028499211224e-17\n",
      "#lags used : 0\n",
      "Number of observation used : 142\n",
      "Reject null hypothesis(- it is stationary) \n"
     ]
    }
   ],
   "source": [
    "adfuller_test(ts[\"Weekly_Sales\"])"
   ]
  },
  {
   "cell_type": "code",
   "execution_count": 70,
   "id": "aa1f8043",
   "metadata": {
    "scrolled": true
   },
   "outputs": [
    {
     "data": {
      "text/plain": [
       "<AxesSubplot:xlabel='SalesDate'>"
      ]
     },
     "execution_count": 70,
     "metadata": {},
     "output_type": "execute_result"
    },
    {
     "data": {
      "image/png": "[encoded data removed]",
      "text/plain": [
       "<Figure size 1080x432 with 1 Axes>"
      ]
     },
     "metadata": {
      "needs_background": "light"
     },
     "output_type": "display_data"
    }
   ],
   "source": [
    "ts.plot(figsize=(15,6))"
   ]
  },
  {
   "cell_type": "code",
   "execution_count": 71,
   "id": "e0f7b601",
   "metadata": {},
   "outputs": [],
   "source": [
    "from statsmodels.graphics.tsaplots import acf,pacf,plot_acf,plot_pacf"
   ]
  },
  {
   "cell_type": "code",
   "execution_count": 72,
   "id": "848ad4cf",
   "metadata": {},
   "outputs": [
    {
     "name": "stderr",
     "output_type": "stream",
     "text": [
      "C:\\Users\\pooja\\anaconda3\\lib\\site-packages\\statsmodels\\graphics\\tsaplots.py:348: FutureWarning: The default method 'yw' can produce PACF values outside of the [-1,1] interval. After 0.13, the default will change tounadjusted Yule-Walker ('ywm'). You can use this method now by setting method='ywm'.\n",
      "  warnings.warn(\n"
     ]
    },
    {
     "data": {
      "image/png": "[encoded data removed]",
      "text/plain": [
       "<Figure size 1440x360 with 2 Axes>"
      ]
     },
     "metadata": {
      "needs_background": "light"
     },
     "output_type": "display_data"
    }
   ],
   "source": [
    "fig, axes = plt.subplots(1,2, figsize=(20,5))\n",
    "plot_acf(ts, lags=70, ax=axes[0])\n",
    "plot_pacf(ts, lags=70, ax=axes[1])\n",
    "plt.show()"
   ]
  },
  {
   "cell_type": "code",
   "execution_count": 73,
   "id": "e4cd1f3d",
   "metadata": {},
   "outputs": [],
   "source": [
    "#!pip install pmdarima"
   ]
  },
  {
   "cell_type": "code",
   "execution_count": 74,
   "id": "700f4a2c",
   "metadata": {},
   "outputs": [],
   "source": [
    "from pmdarima import auto_arima"
   ]
  },
  {
   "cell_type": "code",
   "execution_count": 75,
   "id": "6fab4b8b",
   "metadata": {},
   "outputs": [
    {
     "name": "stdout",
     "output_type": "stream",
     "text": [
      "Performing stepwise search to minimize aic\n",
      " ARIMA(2,0,2)(0,0,0)[0] intercept   : AIC=4844.972, Time=0.61 sec\n",
      " ARIMA(0,0,0)(0,0,0)[0] intercept   : AIC=4844.691, Time=0.02 sec\n",
      " ARIMA(1,0,0)(0,0,0)[0] intercept   : AIC=4841.703, Time=0.04 sec\n",
      " ARIMA(0,0,1)(0,0,0)[0] intercept   : AIC=4841.471, Time=0.02 sec\n",
      " ARIMA(0,0,0)(0,0,0)[0]             : AIC=5462.768, Time=0.01 sec\n",
      " ARIMA(1,0,1)(0,0,0)[0] intercept   : AIC=4843.733, Time=0.03 sec\n",
      " ARIMA(0,0,2)(0,0,0)[0] intercept   : AIC=4843.486, Time=0.03 sec\n",
      " ARIMA(1,0,2)(0,0,0)[0] intercept   : AIC=4845.479, Time=0.08 sec\n",
      " ARIMA(0,0,1)(0,0,0)[0]             : AIC=5366.050, Time=0.05 sec\n",
      "\n",
      "Best model:  ARIMA(0,0,1)(0,0,0)[0] intercept\n",
      "Total fit time: 0.908 seconds\n"
     ]
    },
    {
     "data": {
      "text/html": [
       "<table class=\"simpletable\">\n",
       "<caption>SARIMAX Results</caption>\n",
       "<tr>\n",
       "  <th>Dep. Variable:</th>           <td>y</td>        <th>  No. Observations:  </th>    <td>143</td>   \n",
       "</tr>\n",
       "<tr>\n",
       "  <th>Model:</th>           <td>SARIMAX(0, 0, 1)</td> <th>  Log Likelihood     </th> <td>-2417.736</td>\n",
       "</tr>\n",
       "<tr>\n",
       "  <th>Date:</th>            <td>Wed, 30 Mar 2022</td> <th>  AIC                </th> <td>4841.471</td> \n",
       "</tr>\n",
       "<tr>\n",
       "  <th>Time:</th>                <td>20:23:53</td>     <th>  BIC                </th> <td>4850.360</td> \n",
       "</tr>\n",
       "<tr>\n",
       "  <th>Sample:</th>                  <td>0</td>        <th>  HQIC               </th> <td>4845.083</td> \n",
       "</tr>\n",
       "<tr>\n",
       "  <th></th>                      <td> - 143</td>      <th>                     </th>     <td> </td>    \n",
       "</tr>\n",
       "<tr>\n",
       "  <th>Covariance Type:</th>        <td>opg</td>       <th>                     </th>     <td> </td>    \n",
       "</tr>\n",
       "</table>\n",
       "<table class=\"simpletable\">\n",
       "<tr>\n",
       "      <td></td>         <th>coef</th>     <th>std err</th>      <th>z</th>      <th>P>|z|</th>  <th>[0.025</th>    <th>0.975]</th>  \n",
       "</tr>\n",
       "<tr>\n",
       "  <th>intercept</th> <td> 4.707e+07</td> <td> 6.75e+05</td> <td>   69.755</td> <td> 0.000</td> <td> 4.58e+07</td> <td> 4.84e+07</td>\n",
       "</tr>\n",
       "<tr>\n",
       "  <th>ma.L1</th>     <td>    0.1996</td> <td>    0.047</td> <td>    4.291</td> <td> 0.000</td> <td>    0.108</td> <td>    0.291</td>\n",
       "</tr>\n",
       "<tr>\n",
       "  <th>sigma2</th>    <td> 2.941e+13</td> <td>    0.186</td> <td> 1.58e+14</td> <td> 0.000</td> <td> 2.94e+13</td> <td> 2.94e+13</td>\n",
       "</tr>\n",
       "</table>\n",
       "<table class=\"simpletable\">\n",
       "<tr>\n",
       "  <th>Ljung-Box (L1) (Q):</th>     <td>0.00</td> <th>  Jarque-Bera (JB):  </th> <td>1282.34</td>\n",
       "</tr>\n",
       "<tr>\n",
       "  <th>Prob(Q):</th>                <td>0.95</td> <th>  Prob(JB):          </th>  <td>0.00</td>  \n",
       "</tr>\n",
       "<tr>\n",
       "  <th>Heteroskedasticity (H):</th> <td>0.81</td> <th>  Skew:              </th>  <td>3.09</td>  \n",
       "</tr>\n",
       "<tr>\n",
       "  <th>Prob(H) (two-sided):</th>    <td>0.46</td> <th>  Kurtosis:          </th>  <td>16.30</td> \n",
       "</tr>\n",
       "</table><br/><br/>Warnings:<br/>[1] Covariance matrix calculated using the outer product of gradients (complex-step).<br/>[2] Covariance matrix is singular or near-singular, with condition number 6.56e+28. Standard errors may be unstable."
      ],
      "text/plain": [
       "<class 'statsmodels.iolib.summary.Summary'>\n",
       "\"\"\"\n",
       "                               SARIMAX Results                                \n",
       "==============================================================================\n",
       "Dep. Variable:                      y   No. Observations:                  143\n",
       "Model:               SARIMAX(0, 0, 1)   Log Likelihood               -2417.736\n",
       "Date:                Wed, 30 Mar 2022   AIC                           4841.471\n",
       "Time:                        20:23:53   BIC                           4850.360\n",
       "Sample:                             0   HQIC                          4845.083\n",
       "                                - 143                                         \n",
       "Covariance Type:                  opg                                         \n",
       "==============================================================================\n",
       "                 coef    std err          z      P>|z|      [0.025      0.975]\n",
       "------------------------------------------------------------------------------\n",
       "intercept   4.707e+07   6.75e+05     69.755      0.000    4.58e+07    4.84e+07\n",
       "ma.L1          0.1996      0.047      4.291      0.000       0.108       0.291\n",
       "sigma2      2.941e+13      0.186   1.58e+14      0.000    2.94e+13    2.94e+13\n",
       "===================================================================================\n",
       "Ljung-Box (L1) (Q):                   0.00   Jarque-Bera (JB):              1282.34\n",
       "Prob(Q):                              0.95   Prob(JB):                         0.00\n",
       "Heteroskedasticity (H):               0.81   Skew:                             3.09\n",
       "Prob(H) (two-sided):                  0.46   Kurtosis:                        16.30\n",
       "===================================================================================\n",
       "\n",
       "Warnings:\n",
       "[1] Covariance matrix calculated using the outer product of gradients (complex-step).\n",
       "[2] Covariance matrix is singular or near-singular, with condition number 6.56e+28. Standard errors may be unstable.\n",
       "\"\"\""
      ]
     },
     "execution_count": 75,
     "metadata": {},
     "output_type": "execute_result"
    }
   ],
   "source": [
    "model_fit = auto_arima(ts['Weekly_Sales'],trace=True,suppress_warning=True)\n",
    "\n",
    "model_fit.summary()"
   ]
  },
  {
   "cell_type": "code",
   "execution_count": 76,
   "id": "6709ab2e",
   "metadata": {},
   "outputs": [],
   "source": [
    "from statsmodels.tsa.arima.model import ARIMA"
   ]
  },
  {
   "cell_type": "code",
   "execution_count": 77,
   "id": "ef709743",
   "metadata": {},
   "outputs": [
    {
     "name": "stdout",
     "output_type": "stream",
     "text": [
      "(143, 1)\n",
      "(123, 1) (20, 1)\n"
     ]
    }
   ],
   "source": [
    "print(ts.shape)\n",
    "train = ts.iloc[:-20]\n",
    "test = ts.iloc[-20:]\n",
    "print(train.shape,test.shape)"
   ]
  },
  {
   "cell_type": "code",
   "execution_count": 128,
   "id": "3aae200a",
   "metadata": {},
   "outputs": [
    {
     "name": "stderr",
     "output_type": "stream",
     "text": [
      "C:\\Users\\pooja\\anaconda3\\lib\\site-packages\\statsmodels\\tsa\\base\\tsa_model.py:471: ValueWarning: A date index has been provided, but it has no associated frequency information and so will be ignored when e.g. forecasting.\n",
      "  self._init_dates(dates, freq)\n",
      "C:\\Users\\pooja\\anaconda3\\lib\\site-packages\\statsmodels\\tsa\\base\\tsa_model.py:471: ValueWarning: A date index has been provided, but it has no associated frequency information and so will be ignored when e.g. forecasting.\n",
      "  self._init_dates(dates, freq)\n",
      "C:\\Users\\pooja\\anaconda3\\lib\\site-packages\\statsmodels\\tsa\\base\\tsa_model.py:471: ValueWarning: A date index has been provided, but it has no associated frequency information and so will be ignored when e.g. forecasting.\n",
      "  self._init_dates(dates, freq)\n"
     ]
    },
    {
     "data": {
      "text/html": [
       "<table class=\"simpletable\">\n",
       "<caption>SARIMAX Results</caption>\n",
       "<tr>\n",
       "  <th>Dep. Variable:</th>     <td>Weekly_Sales</td>   <th>  No. Observations:  </th>    <td>123</td>   \n",
       "</tr>\n",
       "<tr>\n",
       "  <th>Model:</th>            <td>ARIMA(1, 0, 5)</td>  <th>  Log Likelihood     </th> <td>-2087.054</td>\n",
       "</tr>\n",
       "<tr>\n",
       "  <th>Date:</th>            <td>Wed, 30 Mar 2022</td> <th>  AIC                </th> <td>4190.108</td> \n",
       "</tr>\n",
       "<tr>\n",
       "  <th>Time:</th>                <td>21:04:15</td>     <th>  BIC                </th> <td>4212.606</td> \n",
       "</tr>\n",
       "<tr>\n",
       "  <th>Sample:</th>                  <td>0</td>        <th>  HQIC               </th> <td>4199.247</td> \n",
       "</tr>\n",
       "<tr>\n",
       "  <th></th>                      <td> - 123</td>      <th>                     </th>     <td> </td>    \n",
       "</tr>\n",
       "<tr>\n",
       "  <th>Covariance Type:</th>        <td>opg</td>       <th>                     </th>     <td> </td>    \n",
       "</tr>\n",
       "</table>\n",
       "<table class=\"simpletable\">\n",
       "<tr>\n",
       "     <td></td>       <th>coef</th>     <th>std err</th>      <th>z</th>      <th>P>|z|</th>  <th>[0.025</th>    <th>0.975]</th>  \n",
       "</tr>\n",
       "<tr>\n",
       "  <th>const</th>  <td>  4.72e+07</td> <td> 6.35e-08</td> <td> 7.43e+14</td> <td> 0.000</td> <td> 4.72e+07</td> <td> 4.72e+07</td>\n",
       "</tr>\n",
       "<tr>\n",
       "  <th>ar.L1</th>  <td>   -0.6899</td> <td>    0.438</td> <td>   -1.574</td> <td> 0.115</td> <td>   -1.549</td> <td>    0.169</td>\n",
       "</tr>\n",
       "<tr>\n",
       "  <th>ma.L1</th>  <td>    0.9076</td> <td>    0.457</td> <td>    1.984</td> <td> 0.047</td> <td>    0.011</td> <td>    1.804</td>\n",
       "</tr>\n",
       "<tr>\n",
       "  <th>ma.L2</th>  <td>    0.1431</td> <td>    0.161</td> <td>    0.890</td> <td> 0.374</td> <td>   -0.172</td> <td>    0.458</td>\n",
       "</tr>\n",
       "<tr>\n",
       "  <th>ma.L3</th>  <td>    0.0907</td> <td>    0.138</td> <td>    0.658</td> <td> 0.511</td> <td>   -0.180</td> <td>    0.361</td>\n",
       "</tr>\n",
       "<tr>\n",
       "  <th>ma.L4</th>  <td>    0.0890</td> <td>    0.113</td> <td>    0.789</td> <td> 0.430</td> <td>   -0.132</td> <td>    0.310</td>\n",
       "</tr>\n",
       "<tr>\n",
       "  <th>ma.L5</th>  <td>    0.1072</td> <td>    0.097</td> <td>    1.100</td> <td> 0.271</td> <td>   -0.084</td> <td>    0.298</td>\n",
       "</tr>\n",
       "<tr>\n",
       "  <th>sigma2</th> <td> 3.713e+13</td> <td> 3.29e-14</td> <td> 1.13e+27</td> <td> 0.000</td> <td> 3.71e+13</td> <td> 3.71e+13</td>\n",
       "</tr>\n",
       "</table>\n",
       "<table class=\"simpletable\">\n",
       "<tr>\n",
       "  <th>Ljung-Box (L1) (Q):</th>     <td>0.00</td> <th>  Jarque-Bera (JB):  </th> <td>543.89</td>\n",
       "</tr>\n",
       "<tr>\n",
       "  <th>Prob(Q):</th>                <td>0.98</td> <th>  Prob(JB):          </th>  <td>0.00</td> \n",
       "</tr>\n",
       "<tr>\n",
       "  <th>Heteroskedasticity (H):</th> <td>5.04</td> <th>  Skew:              </th>  <td>2.63</td> \n",
       "</tr>\n",
       "<tr>\n",
       "  <th>Prob(H) (two-sided):</th>    <td>0.00</td> <th>  Kurtosis:          </th>  <td>11.85</td>\n",
       "</tr>\n",
       "</table><br/><br/>Warnings:<br/>[1] Covariance matrix calculated using the outer product of gradients (complex-step).<br/>[2] Covariance matrix is singular or near-singular, with condition number 1.83e+42. Standard errors may be unstable."
      ],
      "text/plain": [
       "<class 'statsmodels.iolib.summary.Summary'>\n",
       "\"\"\"\n",
       "                               SARIMAX Results                                \n",
       "==============================================================================\n",
       "Dep. Variable:           Weekly_Sales   No. Observations:                  123\n",
       "Model:                 ARIMA(1, 0, 5)   Log Likelihood               -2087.054\n",
       "Date:                Wed, 30 Mar 2022   AIC                           4190.108\n",
       "Time:                        21:04:15   BIC                           4212.606\n",
       "Sample:                             0   HQIC                          4199.247\n",
       "                                - 123                                         \n",
       "Covariance Type:                  opg                                         \n",
       "==============================================================================\n",
       "                 coef    std err          z      P>|z|      [0.025      0.975]\n",
       "------------------------------------------------------------------------------\n",
       "const        4.72e+07   6.35e-08   7.43e+14      0.000    4.72e+07    4.72e+07\n",
       "ar.L1         -0.6899      0.438     -1.574      0.115      -1.549       0.169\n",
       "ma.L1          0.9076      0.457      1.984      0.047       0.011       1.804\n",
       "ma.L2          0.1431      0.161      0.890      0.374      -0.172       0.458\n",
       "ma.L3          0.0907      0.138      0.658      0.511      -0.180       0.361\n",
       "ma.L4          0.0890      0.113      0.789      0.430      -0.132       0.310\n",
       "ma.L5          0.1072      0.097      1.100      0.271      -0.084       0.298\n",
       "sigma2      3.713e+13   3.29e-14   1.13e+27      0.000    3.71e+13    3.71e+13\n",
       "===================================================================================\n",
       "Ljung-Box (L1) (Q):                   0.00   Jarque-Bera (JB):               543.89\n",
       "Prob(Q):                              0.98   Prob(JB):                         0.00\n",
       "Heteroskedasticity (H):               5.04   Skew:                             2.63\n",
       "Prob(H) (two-sided):                  0.00   Kurtosis:                        11.85\n",
       "===================================================================================\n",
       "\n",
       "Warnings:\n",
       "[1] Covariance matrix calculated using the outer product of gradients (complex-step).\n",
       "[2] Covariance matrix is singular or near-singular, with condition number 1.83e+42. Standard errors may be unstable.\n",
       "\"\"\""
      ]
     },
     "execution_count": 128,
     "metadata": {},
     "output_type": "execute_result"
    }
   ],
   "source": [
    "model1 = ARIMA(train['Weekly_Sales'],order=(1,0,5))\n",
    "model1 = model1.fit()\n",
    "model1.summary()"
   ]
  },
  {
   "cell_type": "code",
   "execution_count": 129,
   "id": "34c611c7",
   "metadata": {},
   "outputs": [
    {
     "name": "stdout",
     "output_type": "stream",
     "text": [
      "SalesDate\n",
      "2012-06-22    4.836157e+07\n",
      "2012-06-29    4.713660e+07\n",
      "2012-07-09    4.831020e+07\n",
      "2012-07-13    4.677417e+07\n",
      "2012-07-20    4.763065e+07\n",
      "2012-07-27    4.690597e+07\n",
      "2012-08-06    4.740596e+07\n",
      "2012-08-17    4.706099e+07\n",
      "2012-08-24    4.729900e+07\n",
      "2012-08-31    4.713478e+07\n",
      "2012-09-03    4.724808e+07\n",
      "2012-09-14    4.716991e+07\n",
      "2012-09-21    4.722385e+07\n",
      "2012-09-28    4.718664e+07\n",
      "2012-10-02    4.721231e+07\n",
      "2012-10-08    4.719460e+07\n",
      "2012-10-19    4.720682e+07\n",
      "2012-10-26    4.719838e+07\n",
      "2012-11-05    4.720420e+07\n",
      "2012-12-10    4.720019e+07\n",
      "Name: predicted_mean, dtype: float64\n"
     ]
    },
    {
     "name": "stderr",
     "output_type": "stream",
     "text": [
      "C:\\Users\\pooja\\anaconda3\\lib\\site-packages\\statsmodels\\tsa\\base\\tsa_model.py:834: ValueWarning: No supported index is available. Prediction results will be given with an integer index beginning at `start`.\n",
      "  return get_prediction_index(\n"
     ]
    }
   ],
   "source": [
    "start = len(train)\n",
    "end=len(train)+len(test)-1\n",
    "pred = model1.predict(start=start,end=end,type='levels')\n",
    "#print(pred)\n",
    "pred.index=ts.index[start:end+1]\n",
    "print(pred)"
   ]
  },
  {
   "cell_type": "code",
   "execution_count": 131,
   "id": "88d1fd6c",
   "metadata": {},
   "outputs": [
    {
     "data": {
      "text/plain": [
       "<AxesSubplot:xlabel='SalesDate'>"
      ]
     },
     "execution_count": 131,
     "metadata": {},
     "output_type": "execute_result"
    },
    {
     "data": {
      "image/png": "[encoded data removed]",
      "text/plain": [
       "<Figure size 432x288 with 1 Axes>"
      ]
     },
     "metadata": {
      "needs_background": "light"
     },
     "output_type": "display_data"
    }
   ],
   "source": [
    "pred.plot(legend=True)\n",
    "test['Weekly_Sales'].plot(legend=True)"
   ]
  },
  {
   "cell_type": "code",
   "execution_count": 127,
   "id": "3929130d",
   "metadata": {},
   "outputs": [
    {
     "data": {
      "text/plain": [
       "46569709.6055"
      ]
     },
     "execution_count": 127,
     "metadata": {},
     "output_type": "execute_result"
    }
   ],
   "source": [
    "test['Weekly_Sales'].mean()"
   ]
  },
  {
   "cell_type": "code",
   "execution_count": 45,
   "id": "94453179",
   "metadata": {},
   "outputs": [
    {
     "name": "stdout",
     "output_type": "stream",
     "text": [
      "1806578.5279539966\n"
     ]
    }
   ],
   "source": [
    "from sklearn.metrics import mean_squared_error\n",
    "from math import sqrt\n",
    "rmse=sqrt(mean_squared_error(pred,test['Weekly_Sales']))\n",
    "print(rmse)"
   ]
  },
  {
   "cell_type": "code",
   "execution_count": 121,
   "id": "d0274419",
   "metadata": {},
   "outputs": [
    {
     "name": "stderr",
     "output_type": "stream",
     "text": [
      "C:\\Users\\pooja\\anaconda3\\lib\\site-packages\\statsmodels\\tsa\\base\\tsa_model.py:471: ValueWarning: A date index has been provided, but it has no associated frequency information and so will be ignored when e.g. forecasting.\n",
      "  self._init_dates(dates, freq)\n",
      "C:\\Users\\pooja\\anaconda3\\lib\\site-packages\\statsmodels\\tsa\\base\\tsa_model.py:471: ValueWarning: A date index has been provided, but it has no associated frequency information and so will be ignored when e.g. forecasting.\n",
      "  self._init_dates(dates, freq)\n",
      "C:\\Users\\pooja\\anaconda3\\lib\\site-packages\\statsmodels\\tsa\\base\\tsa_model.py:471: ValueWarning: A date index has been provided, but it has no associated frequency information and so will be ignored when e.g. forecasting.\n",
      "  self._init_dates(dates, freq)\n"
     ]
    },
    {
     "data": {
      "text/html": [
       "<div>\n",
       "<style scoped>\n",
       "    .dataframe tbody tr th:only-of-type {\n",
       "        vertical-align: middle;\n",
       "    }\n",
       "\n",
       "    .dataframe tbody tr th {\n",
       "        vertical-align: top;\n",
       "    }\n",
       "\n",
       "    .dataframe thead th {\n",
       "        text-align: right;\n",
       "    }\n",
       "</style>\n",
       "<table border=\"1\" class=\"dataframe\">\n",
       "  <thead>\n",
       "    <tr style=\"text-align: right;\">\n",
       "      <th></th>\n",
       "      <th>Weekly_Sales</th>\n",
       "      <th>forecast</th>\n",
       "    </tr>\n",
       "    <tr>\n",
       "      <th>SalesDate</th>\n",
       "      <th></th>\n",
       "      <th></th>\n",
       "    </tr>\n",
       "  </thead>\n",
       "  <tbody>\n",
       "    <tr>\n",
       "      <th>2012-10-08</th>\n",
       "      <td>47403451.04</td>\n",
       "      <td>4.780884e+07</td>\n",
       "    </tr>\n",
       "    <tr>\n",
       "      <th>2012-10-19</th>\n",
       "      <td>45122410.57</td>\n",
       "      <td>4.703250e+07</td>\n",
       "    </tr>\n",
       "    <tr>\n",
       "      <th>2012-10-26</th>\n",
       "      <td>45544116.29</td>\n",
       "      <td>4.673216e+07</td>\n",
       "    </tr>\n",
       "    <tr>\n",
       "      <th>2012-11-05</th>\n",
       "      <td>46925878.99</td>\n",
       "      <td>4.687628e+07</td>\n",
       "    </tr>\n",
       "    <tr>\n",
       "      <th>2012-12-10</th>\n",
       "      <td>46128514.25</td>\n",
       "      <td>4.712332e+07</td>\n",
       "    </tr>\n",
       "  </tbody>\n",
       "</table>\n",
       "</div>"
      ],
      "text/plain": [
       "            Weekly_Sales      forecast\n",
       "SalesDate                             \n",
       "2012-10-08   47403451.04  4.780884e+07\n",
       "2012-10-19   45122410.57  4.703250e+07\n",
       "2012-10-26   45544116.29  4.673216e+07\n",
       "2012-11-05   46925878.99  4.687628e+07\n",
       "2012-12-10   46128514.25  4.712332e+07"
      ]
     },
     "execution_count": 121,
     "metadata": {},
     "output_type": "execute_result"
    }
   ],
   "source": [
    "model2 = ARIMA(ts['Weekly_Sales'],order=(3,0,5))\n",
    "model2 = model2.fit()\n",
    "ts.tail()"
   ]
  },
  {
   "cell_type": "code",
   "execution_count": 122,
   "id": "b806ece3",
   "metadata": {},
   "outputs": [
    {
     "name": "stdout",
     "output_type": "stream",
     "text": [
      "2012-12-10    4.593632e+07\n",
      "2012-12-11    4.700167e+07\n",
      "2012-12-12    4.633775e+07\n",
      "2012-12-13    4.703788e+07\n",
      "2012-12-14    4.659499e+07\n",
      "                  ...     \n",
      "2013-03-06    4.711341e+07\n",
      "2013-03-07    4.711342e+07\n",
      "2013-03-08    4.711342e+07\n",
      "2013-03-09    4.711342e+07\n",
      "2013-03-10    4.711342e+07\n",
      "Freq: D, Name: ARIMA prediction, Length: 91, dtype: float64\n"
     ]
    },
    {
     "name": "stderr",
     "output_type": "stream",
     "text": [
      "C:\\Users\\pooja\\anaconda3\\lib\\site-packages\\statsmodels\\tsa\\base\\tsa_model.py:834: ValueWarning: No supported index is available. Prediction results will be given with an integer index beginning at `start`.\n",
      "  return get_prediction_index(\n"
     ]
    }
   ],
   "source": [
    "index_future_dates = pd.date_range(start='2012-12-10', end='2013-03-10')\n",
    "pred = model2.predict(start=len(ts),end=len(ts)+90,typ='levels').rename('ARIMA prediction')\n",
    "pred.index = index_future_dates\n",
    "print(pred)"
   ]
  },
  {
   "cell_type": "code",
   "execution_count": 123,
   "id": "24bdeaf3",
   "metadata": {},
   "outputs": [
    {
     "data": {
      "text/plain": [
       "<AxesSubplot:xlabel='SalesDate'>"
      ]
     },
     "execution_count": 123,
     "metadata": {},
     "output_type": "execute_result"
    },
    {
     "data": {
      "image/png": "[encoded data removed]",
      "text/plain": [
       "<Figure size 432x288 with 1 Axes>"
      ]
     },
     "metadata": {
      "needs_background": "light"
     },
     "output_type": "display_data"
    }
   ],
   "source": [
    "#pred.plot(figsize=(12,5), legend=True,)\n",
    "\n",
    "pred.plot(legend=True)\n",
    "ts['Weekly_Sales'].plot(legend=True)\n",
    "\n"
   ]
  },
  {
   "cell_type": "code",
   "execution_count": null,
   "id": "ba5d307a",
   "metadata": {},
   "outputs": [],
   "source": []
  },
  {
   "cell_type": "code",
   "execution_count": null,
   "id": "b9919114",
   "metadata": {},
   "outputs": [],
   "source": []
  },
  {
   "cell_type": "code",
   "execution_count": null,
   "id": "45c862f5",
   "metadata": {},
   "outputs": [],
   "source": []
  }
 ],
 "metadata": {
  "kernelspec": {
   "display_name": "Python 3 (ipykernel)",
   "language": "python",
   "name": "python3"
  },
  "language_info": {
   "codemirror_mode": {
    "name": "ipython",
    "version": 3
   },
   "file_extension": ".py",
   "mimetype": "text/x-python",
   "name": "python",
   "nbconvert_exporter": "python",
   "pygments_lexer": "ipython3",
   "version": "3.9.7"
  }
 },
 "nbformat": 4,
 "nbformat_minor": 5
}
