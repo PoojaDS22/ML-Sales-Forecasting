{
 "cells": [
  {
   "cell_type": "code",
   "execution_count": 93,
   "id": "826e117c",
   "metadata": {},
   "outputs": [],
   "source": [
    "# import the different libraries \n",
    "\n",
    "import numpy as np\n",
    "import pandas as pd\n",
    "import matplotlib.pyplot as plt\n",
    "%matplotlib inline\n",
    "import seaborn as sns"
   ]
  },
  {
   "cell_type": "code",
   "execution_count": 94,
   "id": "f6963c14",
   "metadata": {},
   "outputs": [],
   "source": [
    "Data = pd.read_csv('C:/Users/pooja/OneDrive/Desktop/We cloud/ML/Project #2/3. Data_Exploration & Feature_Engineering/Data_Preprocessing1.csv')"
   ]
  },
  {
   "cell_type": "code",
   "execution_count": 95,
   "id": "8927992f",
   "metadata": {},
   "outputs": [],
   "source": [
    "Data=Data.drop(columns=['Unnamed: 0','Store_id'])"
   ]
  },
  {
   "cell_type": "code",
   "execution_count": 96,
   "id": "2e86e4cc",
   "metadata": {},
   "outputs": [
    {
     "data": {
      "text/html": [
       "<div>\n",
       "<style scoped>\n",
       "    .dataframe tbody tr th:only-of-type {\n",
       "        vertical-align: middle;\n",
       "    }\n",
       "\n",
       "    .dataframe tbody tr th {\n",
       "        vertical-align: top;\n",
       "    }\n",
       "\n",
       "    .dataframe thead th {\n",
       "        text-align: right;\n",
       "    }\n",
       "</style>\n",
       "<table border=\"1\" class=\"dataframe\">\n",
       "  <thead>\n",
       "    <tr style=\"text-align: right;\">\n",
       "      <th></th>\n",
       "      <th>Sales_Date</th>\n",
       "      <th>Temperature</th>\n",
       "      <th>MarkDown1</th>\n",
       "      <th>MarkDown2</th>\n",
       "      <th>MarkDown3</th>\n",
       "      <th>MarkDown4</th>\n",
       "      <th>MarkDown5</th>\n",
       "      <th>CPI</th>\n",
       "      <th>Unemployment</th>\n",
       "      <th>IsHoliday</th>\n",
       "      <th>Store_Dept</th>\n",
       "      <th>Weekly_Sales</th>\n",
       "      <th>Store_Type</th>\n",
       "      <th>Store_Size</th>\n",
       "      <th>Sales_Month</th>\n",
       "      <th>Sales_Year</th>\n",
       "      <th>Fuel_Price</th>\n",
       "      <th>Year-Month</th>\n",
       "      <th>Temperature_r</th>\n",
       "      <th>SalesDate</th>\n",
       "    </tr>\n",
       "  </thead>\n",
       "  <tbody>\n",
       "    <tr>\n",
       "      <th>0</th>\n",
       "      <td>2010-01-10</td>\n",
       "      <td>68.74</td>\n",
       "      <td>0.00</td>\n",
       "      <td>0.0</td>\n",
       "      <td>0.00</td>\n",
       "      <td>0.00</td>\n",
       "      <td>0.00</td>\n",
       "      <td>126.234600</td>\n",
       "      <td>7.795</td>\n",
       "      <td>False</td>\n",
       "      <td>14</td>\n",
       "      <td>20922.18</td>\n",
       "      <td>A</td>\n",
       "      <td>219622</td>\n",
       "      <td>1</td>\n",
       "      <td>2010</td>\n",
       "      <td>2.853</td>\n",
       "      <td>2010-01</td>\n",
       "      <td>65.0</td>\n",
       "      <td>2010-01-10</td>\n",
       "    </tr>\n",
       "    <tr>\n",
       "      <th>1</th>\n",
       "      <td>2010-01-10</td>\n",
       "      <td>62.01</td>\n",
       "      <td>0.00</td>\n",
       "      <td>0.0</td>\n",
       "      <td>0.00</td>\n",
       "      <td>0.00</td>\n",
       "      <td>0.00</td>\n",
       "      <td>132.756800</td>\n",
       "      <td>5.287</td>\n",
       "      <td>False</td>\n",
       "      <td>74</td>\n",
       "      <td>9872.41</td>\n",
       "      <td>A</td>\n",
       "      <td>155083</td>\n",
       "      <td>1</td>\n",
       "      <td>2010</td>\n",
       "      <td>2.717</td>\n",
       "      <td>2010-01</td>\n",
       "      <td>60.0</td>\n",
       "      <td>2010-01-10</td>\n",
       "    </tr>\n",
       "    <tr>\n",
       "      <th>2</th>\n",
       "      <td>2010-01-10</td>\n",
       "      <td>62.01</td>\n",
       "      <td>0.00</td>\n",
       "      <td>0.0</td>\n",
       "      <td>0.00</td>\n",
       "      <td>0.00</td>\n",
       "      <td>0.00</td>\n",
       "      <td>132.756800</td>\n",
       "      <td>5.287</td>\n",
       "      <td>False</td>\n",
       "      <td>79</td>\n",
       "      <td>10840.77</td>\n",
       "      <td>A</td>\n",
       "      <td>155083</td>\n",
       "      <td>1</td>\n",
       "      <td>2010</td>\n",
       "      <td>2.717</td>\n",
       "      <td>2010-01</td>\n",
       "      <td>60.0</td>\n",
       "      <td>2010-01-10</td>\n",
       "    </tr>\n",
       "    <tr>\n",
       "      <th>3</th>\n",
       "      <td>2010-01-10</td>\n",
       "      <td>70.19</td>\n",
       "      <td>0.00</td>\n",
       "      <td>0.0</td>\n",
       "      <td>0.00</td>\n",
       "      <td>0.00</td>\n",
       "      <td>0.00</td>\n",
       "      <td>136.629757</td>\n",
       "      <td>8.021</td>\n",
       "      <td>False</td>\n",
       "      <td>98</td>\n",
       "      <td>9837.86</td>\n",
       "      <td>A</td>\n",
       "      <td>204184</td>\n",
       "      <td>1</td>\n",
       "      <td>2010</td>\n",
       "      <td>2.840</td>\n",
       "      <td>2010-01</td>\n",
       "      <td>70.0</td>\n",
       "      <td>2010-01-10</td>\n",
       "    </tr>\n",
       "    <tr>\n",
       "      <th>4</th>\n",
       "      <td>2010-01-10</td>\n",
       "      <td>70.19</td>\n",
       "      <td>0.00</td>\n",
       "      <td>0.0</td>\n",
       "      <td>0.00</td>\n",
       "      <td>0.00</td>\n",
       "      <td>0.00</td>\n",
       "      <td>136.629757</td>\n",
       "      <td>8.021</td>\n",
       "      <td>False</td>\n",
       "      <td>97</td>\n",
       "      <td>19095.76</td>\n",
       "      <td>A</td>\n",
       "      <td>204184</td>\n",
       "      <td>1</td>\n",
       "      <td>2010</td>\n",
       "      <td>2.840</td>\n",
       "      <td>2010-01</td>\n",
       "      <td>70.0</td>\n",
       "      <td>2010-01-10</td>\n",
       "    </tr>\n",
       "    <tr>\n",
       "      <th>...</th>\n",
       "      <td>...</td>\n",
       "      <td>...</td>\n",
       "      <td>...</td>\n",
       "      <td>...</td>\n",
       "      <td>...</td>\n",
       "      <td>...</td>\n",
       "      <td>...</td>\n",
       "      <td>...</td>\n",
       "      <td>...</td>\n",
       "      <td>...</td>\n",
       "      <td>...</td>\n",
       "      <td>...</td>\n",
       "      <td>...</td>\n",
       "      <td>...</td>\n",
       "      <td>...</td>\n",
       "      <td>...</td>\n",
       "      <td>...</td>\n",
       "      <td>...</td>\n",
       "      <td>...</td>\n",
       "      <td>...</td>\n",
       "    </tr>\n",
       "    <tr>\n",
       "      <th>421565</th>\n",
       "      <td>2012-12-10</td>\n",
       "      <td>65.43</td>\n",
       "      <td>1905.34</td>\n",
       "      <td>0.0</td>\n",
       "      <td>13.83</td>\n",
       "      <td>559.50</td>\n",
       "      <td>8706.87</td>\n",
       "      <td>225.005473</td>\n",
       "      <td>5.329</td>\n",
       "      <td>False</td>\n",
       "      <td>83</td>\n",
       "      <td>3690.95</td>\n",
       "      <td>A</td>\n",
       "      <td>202505</td>\n",
       "      <td>12</td>\n",
       "      <td>2012</td>\n",
       "      <td>3.601</td>\n",
       "      <td>2012-12</td>\n",
       "      <td>65.0</td>\n",
       "      <td>2012-12-10</td>\n",
       "    </tr>\n",
       "    <tr>\n",
       "      <th>421566</th>\n",
       "      <td>2012-12-10</td>\n",
       "      <td>65.43</td>\n",
       "      <td>1905.34</td>\n",
       "      <td>0.0</td>\n",
       "      <td>13.83</td>\n",
       "      <td>559.50</td>\n",
       "      <td>8706.87</td>\n",
       "      <td>225.005473</td>\n",
       "      <td>5.329</td>\n",
       "      <td>False</td>\n",
       "      <td>85</td>\n",
       "      <td>1645.71</td>\n",
       "      <td>A</td>\n",
       "      <td>202505</td>\n",
       "      <td>12</td>\n",
       "      <td>2012</td>\n",
       "      <td>3.601</td>\n",
       "      <td>2012-12</td>\n",
       "      <td>65.0</td>\n",
       "      <td>2012-12-10</td>\n",
       "    </tr>\n",
       "    <tr>\n",
       "      <th>421567</th>\n",
       "      <td>2012-12-10</td>\n",
       "      <td>65.43</td>\n",
       "      <td>1905.34</td>\n",
       "      <td>0.0</td>\n",
       "      <td>13.83</td>\n",
       "      <td>559.50</td>\n",
       "      <td>8706.87</td>\n",
       "      <td>225.005473</td>\n",
       "      <td>5.329</td>\n",
       "      <td>False</td>\n",
       "      <td>87</td>\n",
       "      <td>44915.71</td>\n",
       "      <td>A</td>\n",
       "      <td>202505</td>\n",
       "      <td>12</td>\n",
       "      <td>2012</td>\n",
       "      <td>3.601</td>\n",
       "      <td>2012-12</td>\n",
       "      <td>65.0</td>\n",
       "      <td>2012-12-10</td>\n",
       "    </tr>\n",
       "    <tr>\n",
       "      <th>421568</th>\n",
       "      <td>2012-12-10</td>\n",
       "      <td>65.43</td>\n",
       "      <td>1905.34</td>\n",
       "      <td>0.0</td>\n",
       "      <td>13.83</td>\n",
       "      <td>559.50</td>\n",
       "      <td>8706.87</td>\n",
       "      <td>225.005473</td>\n",
       "      <td>5.329</td>\n",
       "      <td>False</td>\n",
       "      <td>91</td>\n",
       "      <td>44775.89</td>\n",
       "      <td>A</td>\n",
       "      <td>202505</td>\n",
       "      <td>12</td>\n",
       "      <td>2012</td>\n",
       "      <td>3.601</td>\n",
       "      <td>2012-12</td>\n",
       "      <td>65.0</td>\n",
       "      <td>2012-12-10</td>\n",
       "    </tr>\n",
       "    <tr>\n",
       "      <th>421569</th>\n",
       "      <td>2012-12-10</td>\n",
       "      <td>47.35</td>\n",
       "      <td>1686.43</td>\n",
       "      <td>0.0</td>\n",
       "      <td>13.85</td>\n",
       "      <td>589.97</td>\n",
       "      <td>6365.02</td>\n",
       "      <td>138.911700</td>\n",
       "      <td>4.145</td>\n",
       "      <td>False</td>\n",
       "      <td>2</td>\n",
       "      <td>25868.29</td>\n",
       "      <td>A</td>\n",
       "      <td>155083</td>\n",
       "      <td>12</td>\n",
       "      <td>2012</td>\n",
       "      <td>4.029</td>\n",
       "      <td>2012-12</td>\n",
       "      <td>45.0</td>\n",
       "      <td>2012-12-10</td>\n",
       "    </tr>\n",
       "  </tbody>\n",
       "</table>\n",
       "<p>421570 rows × 20 columns</p>\n",
       "</div>"
      ],
      "text/plain": [
       "        Sales_Date  Temperature  MarkDown1  MarkDown2  MarkDown3  MarkDown4  \\\n",
       "0       2010-01-10        68.74       0.00        0.0       0.00       0.00   \n",
       "1       2010-01-10        62.01       0.00        0.0       0.00       0.00   \n",
       "2       2010-01-10        62.01       0.00        0.0       0.00       0.00   \n",
       "3       2010-01-10        70.19       0.00        0.0       0.00       0.00   \n",
       "4       2010-01-10        70.19       0.00        0.0       0.00       0.00   \n",
       "...            ...          ...        ...        ...        ...        ...   \n",
       "421565  2012-12-10        65.43    1905.34        0.0      13.83     559.50   \n",
       "421566  2012-12-10        65.43    1905.34        0.0      13.83     559.50   \n",
       "421567  2012-12-10        65.43    1905.34        0.0      13.83     559.50   \n",
       "421568  2012-12-10        65.43    1905.34        0.0      13.83     559.50   \n",
       "421569  2012-12-10        47.35    1686.43        0.0      13.85     589.97   \n",
       "\n",
       "        MarkDown5         CPI  Unemployment  IsHoliday  Store_Dept  \\\n",
       "0            0.00  126.234600         7.795      False          14   \n",
       "1            0.00  132.756800         5.287      False          74   \n",
       "2            0.00  132.756800         5.287      False          79   \n",
       "3            0.00  136.629757         8.021      False          98   \n",
       "4            0.00  136.629757         8.021      False          97   \n",
       "...           ...         ...           ...        ...         ...   \n",
       "421565    8706.87  225.005473         5.329      False          83   \n",
       "421566    8706.87  225.005473         5.329      False          85   \n",
       "421567    8706.87  225.005473         5.329      False          87   \n",
       "421568    8706.87  225.005473         5.329      False          91   \n",
       "421569    6365.02  138.911700         4.145      False           2   \n",
       "\n",
       "        Weekly_Sales Store_Type  Store_Size  Sales_Month  Sales_Year  \\\n",
       "0           20922.18          A      219622            1        2010   \n",
       "1            9872.41          A      155083            1        2010   \n",
       "2           10840.77          A      155083            1        2010   \n",
       "3            9837.86          A      204184            1        2010   \n",
       "4           19095.76          A      204184            1        2010   \n",
       "...              ...        ...         ...          ...         ...   \n",
       "421565       3690.95          A      202505           12        2012   \n",
       "421566       1645.71          A      202505           12        2012   \n",
       "421567      44915.71          A      202505           12        2012   \n",
       "421568      44775.89          A      202505           12        2012   \n",
       "421569      25868.29          A      155083           12        2012   \n",
       "\n",
       "        Fuel_Price Year-Month  Temperature_r  SalesDate  \n",
       "0            2.853    2010-01           65.0 2010-01-10  \n",
       "1            2.717    2010-01           60.0 2010-01-10  \n",
       "2            2.717    2010-01           60.0 2010-01-10  \n",
       "3            2.840    2010-01           70.0 2010-01-10  \n",
       "4            2.840    2010-01           70.0 2010-01-10  \n",
       "...            ...        ...            ...        ...  \n",
       "421565       3.601    2012-12           65.0 2012-12-10  \n",
       "421566       3.601    2012-12           65.0 2012-12-10  \n",
       "421567       3.601    2012-12           65.0 2012-12-10  \n",
       "421568       3.601    2012-12           65.0 2012-12-10  \n",
       "421569       4.029    2012-12           45.0 2012-12-10  \n",
       "\n",
       "[421570 rows x 20 columns]"
      ]
     },
     "execution_count": 96,
     "metadata": {},
     "output_type": "execute_result"
    }
   ],
   "source": [
    "Data['SalesDate']=pd.to_datetime(Data['Sales_Date'])\n",
    "Data"
   ]
  },
  {
   "cell_type": "code",
   "execution_count": 97,
   "id": "4db3b6d5",
   "metadata": {},
   "outputs": [],
   "source": [
    "Data1 = Data[[\"SalesDate\",\"Weekly_Sales\"]]"
   ]
  },
  {
   "cell_type": "code",
   "execution_count": 98,
   "id": "b07d329d",
   "metadata": {},
   "outputs": [
    {
     "name": "stdout",
     "output_type": "stream",
     "text": [
      "<class 'pandas.core.frame.DataFrame'>\n",
      "RangeIndex: 421570 entries, 0 to 421569\n",
      "Data columns (total 2 columns):\n",
      " #   Column        Non-Null Count   Dtype         \n",
      "---  ------        --------------   -----         \n",
      " 0   SalesDate     421570 non-null  datetime64[ns]\n",
      " 1   Weekly_Sales  421570 non-null  float64       \n",
      "dtypes: datetime64[ns](1), float64(1)\n",
      "memory usage: 6.4 MB\n"
     ]
    }
   ],
   "source": [
    "Data1.info()"
   ]
  },
  {
   "cell_type": "code",
   "execution_count": 99,
   "id": "aab855ed",
   "metadata": {},
   "outputs": [],
   "source": [
    "Data1.set_index('SalesDate',inplace=True)"
   ]
  },
  {
   "cell_type": "code",
   "execution_count": 100,
   "id": "565458c3",
   "metadata": {},
   "outputs": [
    {
     "data": {
      "text/plain": [
       "(421570, 1)"
      ]
     },
     "execution_count": 100,
     "metadata": {},
     "output_type": "execute_result"
    }
   ],
   "source": [
    "Data1.shape"
   ]
  },
  {
   "cell_type": "code",
   "execution_count": 101,
   "id": "f0415e06",
   "metadata": {
    "scrolled": true
   },
   "outputs": [
    {
     "data": {
      "text/html": [
       "<div>\n",
       "<style scoped>\n",
       "    .dataframe tbody tr th:only-of-type {\n",
       "        vertical-align: middle;\n",
       "    }\n",
       "\n",
       "    .dataframe tbody tr th {\n",
       "        vertical-align: top;\n",
       "    }\n",
       "\n",
       "    .dataframe thead th {\n",
       "        text-align: right;\n",
       "    }\n",
       "</style>\n",
       "<table border=\"1\" class=\"dataframe\">\n",
       "  <thead>\n",
       "    <tr style=\"text-align: right;\">\n",
       "      <th></th>\n",
       "      <th>Weekly_Sales</th>\n",
       "    </tr>\n",
       "    <tr>\n",
       "      <th>SalesDate</th>\n",
       "      <th></th>\n",
       "    </tr>\n",
       "  </thead>\n",
       "  <tbody>\n",
       "    <tr>\n",
       "      <th>2010-01-10</th>\n",
       "      <td>20922.18</td>\n",
       "    </tr>\n",
       "    <tr>\n",
       "      <th>2010-01-10</th>\n",
       "      <td>9872.41</td>\n",
       "    </tr>\n",
       "    <tr>\n",
       "      <th>2010-01-10</th>\n",
       "      <td>10840.77</td>\n",
       "    </tr>\n",
       "    <tr>\n",
       "      <th>2010-01-10</th>\n",
       "      <td>9837.86</td>\n",
       "    </tr>\n",
       "    <tr>\n",
       "      <th>2010-01-10</th>\n",
       "      <td>19095.76</td>\n",
       "    </tr>\n",
       "    <tr>\n",
       "      <th>...</th>\n",
       "      <td>...</td>\n",
       "    </tr>\n",
       "    <tr>\n",
       "      <th>2012-12-10</th>\n",
       "      <td>3690.95</td>\n",
       "    </tr>\n",
       "    <tr>\n",
       "      <th>2012-12-10</th>\n",
       "      <td>1645.71</td>\n",
       "    </tr>\n",
       "    <tr>\n",
       "      <th>2012-12-10</th>\n",
       "      <td>44915.71</td>\n",
       "    </tr>\n",
       "    <tr>\n",
       "      <th>2012-12-10</th>\n",
       "      <td>44775.89</td>\n",
       "    </tr>\n",
       "    <tr>\n",
       "      <th>2012-12-10</th>\n",
       "      <td>25868.29</td>\n",
       "    </tr>\n",
       "  </tbody>\n",
       "</table>\n",
       "<p>421570 rows × 1 columns</p>\n",
       "</div>"
      ],
      "text/plain": [
       "            Weekly_Sales\n",
       "SalesDate               \n",
       "2010-01-10      20922.18\n",
       "2010-01-10       9872.41\n",
       "2010-01-10      10840.77\n",
       "2010-01-10       9837.86\n",
       "2010-01-10      19095.76\n",
       "...                  ...\n",
       "2012-12-10       3690.95\n",
       "2012-12-10       1645.71\n",
       "2012-12-10      44915.71\n",
       "2012-12-10      44775.89\n",
       "2012-12-10      25868.29\n",
       "\n",
       "[421570 rows x 1 columns]"
      ]
     },
     "execution_count": 101,
     "metadata": {},
     "output_type": "execute_result"
    }
   ],
   "source": [
    "Data1"
   ]
  },
  {
   "cell_type": "code",
   "execution_count": 141,
   "id": "2cdb344b",
   "metadata": {},
   "outputs": [],
   "source": [
    "df_average_sales_week = Data.groupby(by=['SalesDate'], as_index=False)['Weekly_Sales'].sum()\n",
    "df_average_sales = df_average_sales_week.sort_values('SalesDate', ascending=False)"
   ]
  },
  {
   "cell_type": "code",
   "execution_count": 142,
   "id": "d2c73ba6",
   "metadata": {},
   "outputs": [
    {
     "data": {
      "text/html": [
       "<div>\n",
       "<style scoped>\n",
       "    .dataframe tbody tr th:only-of-type {\n",
       "        vertical-align: middle;\n",
       "    }\n",
       "\n",
       "    .dataframe tbody tr th {\n",
       "        vertical-align: top;\n",
       "    }\n",
       "\n",
       "    .dataframe thead th {\n",
       "        text-align: right;\n",
       "    }\n",
       "</style>\n",
       "<table border=\"1\" class=\"dataframe\">\n",
       "  <thead>\n",
       "    <tr style=\"text-align: right;\">\n",
       "      <th></th>\n",
       "      <th>SalesDate</th>\n",
       "      <th>Weekly_Sales</th>\n",
       "    </tr>\n",
       "  </thead>\n",
       "  <tbody>\n",
       "    <tr>\n",
       "      <th>142</th>\n",
       "      <td>2012-12-10</td>\n",
       "      <td>46128514.25</td>\n",
       "    </tr>\n",
       "    <tr>\n",
       "      <th>141</th>\n",
       "      <td>2012-11-05</td>\n",
       "      <td>46925878.99</td>\n",
       "    </tr>\n",
       "    <tr>\n",
       "      <th>140</th>\n",
       "      <td>2012-10-26</td>\n",
       "      <td>45544116.29</td>\n",
       "    </tr>\n",
       "    <tr>\n",
       "      <th>139</th>\n",
       "      <td>2012-10-19</td>\n",
       "      <td>45122410.57</td>\n",
       "    </tr>\n",
       "    <tr>\n",
       "      <th>138</th>\n",
       "      <td>2012-10-08</td>\n",
       "      <td>47403451.04</td>\n",
       "    </tr>\n",
       "    <tr>\n",
       "      <th>...</th>\n",
       "      <td>...</td>\n",
       "      <td>...</td>\n",
       "    </tr>\n",
       "    <tr>\n",
       "      <th>4</th>\n",
       "      <td>2010-02-26</td>\n",
       "      <td>43968571.13</td>\n",
       "    </tr>\n",
       "    <tr>\n",
       "      <th>3</th>\n",
       "      <td>2010-02-19</td>\n",
       "      <td>48276993.78</td>\n",
       "    </tr>\n",
       "    <tr>\n",
       "      <th>2</th>\n",
       "      <td>2010-02-07</td>\n",
       "      <td>48917484.50</td>\n",
       "    </tr>\n",
       "    <tr>\n",
       "      <th>1</th>\n",
       "      <td>2010-02-04</td>\n",
       "      <td>50423831.26</td>\n",
       "    </tr>\n",
       "    <tr>\n",
       "      <th>0</th>\n",
       "      <td>2010-01-10</td>\n",
       "      <td>42239875.87</td>\n",
       "    </tr>\n",
       "  </tbody>\n",
       "</table>\n",
       "<p>143 rows × 2 columns</p>\n",
       "</div>"
      ],
      "text/plain": [
       "     SalesDate  Weekly_Sales\n",
       "142 2012-12-10   46128514.25\n",
       "141 2012-11-05   46925878.99\n",
       "140 2012-10-26   45544116.29\n",
       "139 2012-10-19   45122410.57\n",
       "138 2012-10-08   47403451.04\n",
       "..         ...           ...\n",
       "4   2010-02-26   43968571.13\n",
       "3   2010-02-19   48276993.78\n",
       "2   2010-02-07   48917484.50\n",
       "1   2010-02-04   50423831.26\n",
       "0   2010-01-10   42239875.87\n",
       "\n",
       "[143 rows x 2 columns]"
      ]
     },
     "execution_count": 142,
     "metadata": {},
     "output_type": "execute_result"
    }
   ],
   "source": [
    "df_average_sales"
   ]
  },
  {
   "cell_type": "code",
   "execution_count": 104,
   "id": "74ae9663",
   "metadata": {},
   "outputs": [
    {
     "data": {
      "image/png": "[encoded data removed]",
      "text/plain": [
       "<Figure size 1440x360 with 1 Axes>"
      ]
     },
     "metadata": {
      "needs_background": "light"
     },
     "output_type": "display_data"
    }
   ],
   "source": [
    "plt.figure(figsize=(20,5))\n",
    "plt.plot(df_average_sales_week.SalesDate, df_average_sales_week.Weekly_Sales)\n",
    "plt.show()"
   ]
  },
  {
   "cell_type": "code",
   "execution_count": 105,
   "id": "add80063",
   "metadata": {},
   "outputs": [],
   "source": [
    "ts = df_average_sales_week.set_index('SalesDate')"
   ]
  },
  {
   "cell_type": "code",
   "execution_count": 106,
   "id": "8c38c1b9",
   "metadata": {
    "scrolled": true
   },
   "outputs": [
    {
     "name": "stdout",
     "output_type": "stream",
     "text": [
      "<class 'pandas.core.frame.DataFrame'>\n",
      "DatetimeIndex: 143 entries, 2010-01-10 to 2012-12-10\n",
      "Data columns (total 1 columns):\n",
      " #   Column        Non-Null Count  Dtype  \n",
      "---  ------        --------------  -----  \n",
      " 0   Weekly_Sales  143 non-null    float64\n",
      "dtypes: float64(1)\n",
      "memory usage: 2.2 KB\n"
     ]
    }
   ],
   "source": [
    "ts.info()"
   ]
  },
  {
   "cell_type": "code",
   "execution_count": 134,
   "id": "ed8a92a0",
   "metadata": {},
   "outputs": [
    {
     "data": {
      "text/html": [
       "<div>\n",
       "<style scoped>\n",
       "    .dataframe tbody tr th:only-of-type {\n",
       "        vertical-align: middle;\n",
       "    }\n",
       "\n",
       "    .dataframe tbody tr th {\n",
       "        vertical-align: top;\n",
       "    }\n",
       "\n",
       "    .dataframe thead th {\n",
       "        text-align: right;\n",
       "    }\n",
       "</style>\n",
       "<table border=\"1\" class=\"dataframe\">\n",
       "  <thead>\n",
       "    <tr style=\"text-align: right;\">\n",
       "      <th></th>\n",
       "      <th>Weekly_Sales</th>\n",
       "      <th>forecast</th>\n",
       "    </tr>\n",
       "    <tr>\n",
       "      <th>SalesDate</th>\n",
       "      <th></th>\n",
       "      <th></th>\n",
       "    </tr>\n",
       "  </thead>\n",
       "  <tbody>\n",
       "    <tr>\n",
       "      <th>2010-01-10</th>\n",
       "      <td>42239875.87</td>\n",
       "      <td>0.000000e+00</td>\n",
       "    </tr>\n",
       "    <tr>\n",
       "      <th>2010-02-04</th>\n",
       "      <td>50423831.26</td>\n",
       "      <td>2.851353e+07</td>\n",
       "    </tr>\n",
       "    <tr>\n",
       "      <th>2010-02-07</th>\n",
       "      <td>48917484.50</td>\n",
       "      <td>3.675617e+07</td>\n",
       "    </tr>\n",
       "    <tr>\n",
       "      <th>2010-02-19</th>\n",
       "      <td>48276993.78</td>\n",
       "      <td>3.862832e+07</td>\n",
       "    </tr>\n",
       "    <tr>\n",
       "      <th>2010-02-26</th>\n",
       "      <td>43968571.13</td>\n",
       "      <td>3.999560e+07</td>\n",
       "    </tr>\n",
       "  </tbody>\n",
       "</table>\n",
       "</div>"
      ],
      "text/plain": [
       "            Weekly_Sales      forecast\n",
       "SalesDate                             \n",
       "2010-01-10   42239875.87  0.000000e+00\n",
       "2010-02-04   50423831.26  2.851353e+07\n",
       "2010-02-07   48917484.50  3.675617e+07\n",
       "2010-02-19   48276993.78  3.862832e+07\n",
       "2010-02-26   43968571.13  3.999560e+07"
      ]
     },
     "execution_count": 134,
     "metadata": {},
     "output_type": "execute_result"
    }
   ],
   "source": [
    "ts.head()"
   ]
  },
  {
   "cell_type": "code",
   "execution_count": 108,
   "id": "618f5bb1",
   "metadata": {},
   "outputs": [],
   "source": [
    "from statsmodels.tsa.stattools import adfuller"
   ]
  },
  {
   "cell_type": "code",
   "execution_count": 109,
   "id": "b0f572b2",
   "metadata": {},
   "outputs": [],
   "source": [
    "test_result = adfuller(ts['Weekly_Sales'])"
   ]
  },
  {
   "cell_type": "code",
   "execution_count": 110,
   "id": "7baaafac",
   "metadata": {},
   "outputs": [],
   "source": [
    "#Ho : it is not stationary\n",
    "#H1 : it is stationary\n",
    "\n",
    "def adfuller_test(Weekly_Sales):\n",
    "    result = adfuller(Weekly_Sales)\n",
    "    labels=['ADF Test Statistic','P-value','#lags used','Number of observation used']\n",
    "    for value,labels in zip(result,labels):\n",
    "        print(labels+' : '+str(value) )\n",
    "    if result[1]<=0.05:\n",
    "        print(\"Reject null hypothesis(- it is stationary) \")\n",
    "    else:\n",
    "        print(\"Accept null hypothesis (- it is not stationary)\")"
   ]
  },
  {
   "cell_type": "code",
   "execution_count": 111,
   "id": "63b7a830",
   "metadata": {},
   "outputs": [
    {
     "name": "stdout",
     "output_type": "stream",
     "text": [
      "ADF Test Statistic : -9.83772158074678\n",
      "P-value : 4.8451028499211224e-17\n",
      "#lags used : 0\n",
      "Number of observation used : 142\n",
      "Reject null hypothesis(- it is stationary) \n"
     ]
    }
   ],
   "source": [
    "adfuller_test(ts[\"Weekly_Sales\"])"
   ]
  },
  {
   "cell_type": "code",
   "execution_count": 112,
   "id": "aa1f8043",
   "metadata": {},
   "outputs": [
    {
     "data": {
      "text/plain": [
       "<AxesSubplot:xlabel='SalesDate'>"
      ]
     },
     "execution_count": 112,
     "metadata": {},
     "output_type": "execute_result"
    },
    {
     "data": {
      "image/png": "[encoded data removed]",
      "text/plain": [
       "<Figure size 1080x432 with 1 Axes>"
      ]
     },
     "metadata": {
      "needs_background": "light"
     },
     "output_type": "display_data"
    }
   ],
   "source": [
    "ts.plot(figsize=(15,6))"
   ]
  },
  {
   "cell_type": "code",
   "execution_count": 113,
   "id": "e0f7b601",
   "metadata": {},
   "outputs": [],
   "source": [
    "from statsmodels.graphics.tsaplots import acf,pacf,plot_acf,plot_pacf"
   ]
  },
  {
   "cell_type": "code",
   "execution_count": 114,
   "id": "848ad4cf",
   "metadata": {},
   "outputs": [
    {
     "name": "stderr",
     "output_type": "stream",
     "text": [
      "C:\\Users\\pooja\\anaconda3\\lib\\site-packages\\statsmodels\\graphics\\tsaplots.py:348: FutureWarning: The default method 'yw' can produce PACF values outside of the [-1,1] interval. After 0.13, the default will change tounadjusted Yule-Walker ('ywm'). You can use this method now by setting method='ywm'.\n",
      "  warnings.warn(\n"
     ]
    },
    {
     "data": {
      "image/png": "[encoded data removed]",
      "text/plain": [
       "<Figure size 1440x360 with 2 Axes>"
      ]
     },
     "metadata": {
      "needs_background": "light"
     },
     "output_type": "display_data"
    }
   ],
   "source": [
    "fig, axes = plt.subplots(1,2, figsize=(20,5))\n",
    "plot_acf(ts, lags=70, ax=axes[0])\n",
    "plot_pacf(ts, lags=70, ax=axes[1])\n",
    "plt.show()"
   ]
  },
  {
   "cell_type": "code",
   "execution_count": 115,
   "id": "700f4a2c",
   "metadata": {},
   "outputs": [],
   "source": [
    "from statsmodels.tsa.arima.model import ARIMA"
   ]
  },
  {
   "cell_type": "code",
   "execution_count": 116,
   "id": "6fab4b8b",
   "metadata": {
    "collapsed": true
   },
   "outputs": [
    {
     "name": "stderr",
     "output_type": "stream",
     "text": [
      "C:\\Users\\pooja\\anaconda3\\lib\\site-packages\\statsmodels\\tsa\\base\\tsa_model.py:471: ValueWarning: A date index has been provided, but it has no associated frequency information and so will be ignored when e.g. forecasting.\n",
      "  self._init_dates(dates, freq)\n",
      "C:\\Users\\pooja\\anaconda3\\lib\\site-packages\\statsmodels\\tsa\\base\\tsa_model.py:471: ValueWarning: A date index has been provided, but it has no associated frequency information and so will be ignored when e.g. forecasting.\n",
      "  self._init_dates(dates, freq)\n",
      "C:\\Users\\pooja\\anaconda3\\lib\\site-packages\\statsmodels\\tsa\\base\\tsa_model.py:471: ValueWarning: A date index has been provided, but it has no associated frequency information and so will be ignored when e.g. forecasting.\n",
      "  self._init_dates(dates, freq)\n"
     ]
    }
   ],
   "source": [
    "model1 = ARIMA(ts,order=(1,1,0))\n",
    "model_fit1 = model1.fit()"
   ]
  },
  {
   "cell_type": "code",
   "execution_count": 117,
   "id": "7a841b6c",
   "metadata": {},
   "outputs": [
    {
     "data": {
      "text/html": [
       "<table class=\"simpletable\">\n",
       "<caption>SARIMAX Results</caption>\n",
       "<tr>\n",
       "  <th>Dep. Variable:</th>     <td>Weekly_Sales</td>   <th>  No. Observations:  </th>    <td>143</td>   \n",
       "</tr>\n",
       "<tr>\n",
       "  <th>Model:</th>            <td>ARIMA(1, 1, 0)</td>  <th>  Log Likelihood     </th> <td>-2432.055</td>\n",
       "</tr>\n",
       "<tr>\n",
       "  <th>Date:</th>            <td>Wed, 30 Mar 2022</td> <th>  AIC                </th> <td>4868.110</td> \n",
       "</tr>\n",
       "<tr>\n",
       "  <th>Time:</th>                <td>19:14:18</td>     <th>  BIC                </th> <td>4874.021</td> \n",
       "</tr>\n",
       "<tr>\n",
       "  <th>Sample:</th>                  <td>0</td>        <th>  HQIC               </th> <td>4870.512</td> \n",
       "</tr>\n",
       "<tr>\n",
       "  <th></th>                      <td> - 143</td>      <th>                     </th>     <td> </td>    \n",
       "</tr>\n",
       "<tr>\n",
       "  <th>Covariance Type:</th>        <td>opg</td>       <th>                     </th>     <td> </td>    \n",
       "</tr>\n",
       "</table>\n",
       "<table class=\"simpletable\">\n",
       "<tr>\n",
       "     <td></td>       <th>coef</th>     <th>std err</th>      <th>z</th>      <th>P>|z|</th>  <th>[0.025</th>    <th>0.975]</th>  \n",
       "</tr>\n",
       "<tr>\n",
       "  <th>ar.L1</th>  <td>   -0.2626</td> <td>    0.030</td> <td>   -8.846</td> <td> 0.000</td> <td>   -0.321</td> <td>   -0.204</td>\n",
       "</tr>\n",
       "<tr>\n",
       "  <th>sigma2</th> <td> 4.093e+13</td> <td> 1.31e-16</td> <td> 3.13e+29</td> <td> 0.000</td> <td> 4.09e+13</td> <td> 4.09e+13</td>\n",
       "</tr>\n",
       "</table>\n",
       "<table class=\"simpletable\">\n",
       "<tr>\n",
       "  <th>Ljung-Box (L1) (Q):</th>     <td>5.92</td> <th>  Jarque-Bera (JB):  </th> <td>455.81</td>\n",
       "</tr>\n",
       "<tr>\n",
       "  <th>Prob(Q):</th>                <td>0.01</td> <th>  Prob(JB):          </th>  <td>0.00</td> \n",
       "</tr>\n",
       "<tr>\n",
       "  <th>Heteroskedasticity (H):</th> <td>0.51</td> <th>  Skew:              </th>  <td>-0.52</td>\n",
       "</tr>\n",
       "<tr>\n",
       "  <th>Prob(H) (two-sided):</th>    <td>0.02</td> <th>  Kurtosis:          </th>  <td>11.71</td>\n",
       "</tr>\n",
       "</table><br/><br/>Warnings:<br/>[1] Covariance matrix calculated using the outer product of gradients (complex-step).<br/>[2] Covariance matrix is singular or near-singular, with condition number    inf. Standard errors may be unstable."
      ],
      "text/plain": [
       "<class 'statsmodels.iolib.summary.Summary'>\n",
       "\"\"\"\n",
       "                               SARIMAX Results                                \n",
       "==============================================================================\n",
       "Dep. Variable:           Weekly_Sales   No. Observations:                  143\n",
       "Model:                 ARIMA(1, 1, 0)   Log Likelihood               -2432.055\n",
       "Date:                Wed, 30 Mar 2022   AIC                           4868.110\n",
       "Time:                        19:14:18   BIC                           4874.021\n",
       "Sample:                             0   HQIC                          4870.512\n",
       "                                - 143                                         \n",
       "Covariance Type:                  opg                                         \n",
       "==============================================================================\n",
       "                 coef    std err          z      P>|z|      [0.025      0.975]\n",
       "------------------------------------------------------------------------------\n",
       "ar.L1         -0.2626      0.030     -8.846      0.000      -0.321      -0.204\n",
       "sigma2      4.093e+13   1.31e-16   3.13e+29      0.000    4.09e+13    4.09e+13\n",
       "===================================================================================\n",
       "Ljung-Box (L1) (Q):                   5.92   Jarque-Bera (JB):               455.81\n",
       "Prob(Q):                              0.01   Prob(JB):                         0.00\n",
       "Heteroskedasticity (H):               0.51   Skew:                            -0.52\n",
       "Prob(H) (two-sided):                  0.02   Kurtosis:                        11.71\n",
       "===================================================================================\n",
       "\n",
       "Warnings:\n",
       "[1] Covariance matrix calculated using the outer product of gradients (complex-step).\n",
       "[2] Covariance matrix is singular or near-singular, with condition number    inf. Standard errors may be unstable.\n",
       "\"\"\""
      ]
     },
     "execution_count": 117,
     "metadata": {},
     "output_type": "execute_result"
    }
   ],
   "source": [
    "model_fit1.summary()"
   ]
  },
  {
   "cell_type": "code",
   "execution_count": 118,
   "id": "ec96b28b",
   "metadata": {},
   "outputs": [
    {
     "data": {
      "text/plain": [
       "<AxesSubplot:xlabel='SalesDate'>"
      ]
     },
     "execution_count": 118,
     "metadata": {},
     "output_type": "execute_result"
    },
    {
     "data": {
      "image/png": "[encoded data removed]",
      "text/plain": [
       "<Figure size 864x576 with 1 Axes>"
      ]
     },
     "metadata": {
      "needs_background": "light"
     },
     "output_type": "display_data"
    }
   ],
   "source": [
    "#ts['forecast'] = model_fit1.predict(start=100,end=142,dynamic=True)\n",
    "ts['forecast'] = model_fit1.predict()\n",
    "ts[['Weekly_Sales','forecast']].plot(figsize=(12,8))"
   ]
  },
  {
   "cell_type": "code",
   "execution_count": 135,
   "id": "3bd723ea",
   "metadata": {},
   "outputs": [
    {
     "name": "stderr",
     "output_type": "stream",
     "text": [
      "C:\\Users\\pooja\\anaconda3\\lib\\site-packages\\statsmodels\\tsa\\base\\tsa_model.py:834: ValueWarning: No supported index is available. Prediction results will be given with an integer index beginning at `start`.\n",
      "  return get_prediction_index(\n"
     ]
    },
    {
     "data": {
      "text/plain": [
       "143    4.633791e+07\n",
       "dtype: float64"
      ]
     },
     "execution_count": 135,
     "metadata": {},
     "output_type": "execute_result"
    }
   ],
   "source": [
    "model_fit1.forecast()"
   ]
  },
  {
   "cell_type": "code",
   "execution_count": 119,
   "id": "4ea7eb71",
   "metadata": {},
   "outputs": [],
   "source": [
    "import statsmodels.api as sm"
   ]
  },
  {
   "cell_type": "code",
   "execution_count": 126,
   "id": "91a7a945",
   "metadata": {},
   "outputs": [
    {
     "name": "stderr",
     "output_type": "stream",
     "text": [
      "C:\\Users\\pooja\\anaconda3\\lib\\site-packages\\statsmodels\\tsa\\base\\tsa_model.py:471: ValueWarning: A date index has been provided, but it has no associated frequency information and so will be ignored when e.g. forecasting.\n",
      "  self._init_dates(dates, freq)\n",
      "C:\\Users\\pooja\\anaconda3\\lib\\site-packages\\statsmodels\\tsa\\base\\tsa_model.py:471: ValueWarning: A date index has been provided, but it has no associated frequency information and so will be ignored when e.g. forecasting.\n",
      "  self._init_dates(dates, freq)\n"
     ]
    }
   ],
   "source": [
    "model = sm.tsa.statespace.SARIMAX(ts['Weekly_Sales'],order=(1,1,1),seasonal_order=(1,0,0,12))\n",
    "result = model.fit()"
   ]
  },
  {
   "cell_type": "code",
   "execution_count": 127,
   "id": "70e330c1",
   "metadata": {},
   "outputs": [
    {
     "data": {
      "text/html": [
       "<table class=\"simpletable\">\n",
       "<caption>SARIMAX Results</caption>\n",
       "<tr>\n",
       "  <th>Dep. Variable:</th>            <td>Weekly_Sales</td>           <th>  No. Observations:  </th>    <td>143</td>   \n",
       "</tr>\n",
       "<tr>\n",
       "  <th>Model:</th>           <td>SARIMAX(1, 1, 1)x(1, 0, [], 12)</td> <th>  Log Likelihood     </th> <td>-2418.290</td>\n",
       "</tr>\n",
       "<tr>\n",
       "  <th>Date:</th>                   <td>Wed, 30 Mar 2022</td>         <th>  AIC                </th> <td>4844.580</td> \n",
       "</tr>\n",
       "<tr>\n",
       "  <th>Time:</th>                       <td>19:15:07</td>             <th>  BIC                </th> <td>4856.403</td> \n",
       "</tr>\n",
       "<tr>\n",
       "  <th>Sample:</th>                         <td>0</td>                <th>  HQIC               </th> <td>4849.385</td> \n",
       "</tr>\n",
       "<tr>\n",
       "  <th></th>                             <td> - 143</td>              <th>                     </th>     <td> </td>    \n",
       "</tr>\n",
       "<tr>\n",
       "  <th>Covariance Type:</th>               <td>opg</td>               <th>                     </th>     <td> </td>    \n",
       "</tr>\n",
       "</table>\n",
       "<table class=\"simpletable\">\n",
       "<tr>\n",
       "      <td></td>        <th>coef</th>     <th>std err</th>      <th>z</th>      <th>P>|z|</th>  <th>[0.025</th>    <th>0.975]</th>  \n",
       "</tr>\n",
       "<tr>\n",
       "  <th>ar.L1</th>    <td>    0.3498</td> <td>    0.055</td> <td>    6.390</td> <td> 0.000</td> <td>    0.243</td> <td>    0.457</td>\n",
       "</tr>\n",
       "<tr>\n",
       "  <th>ma.L1</th>    <td>   -0.9850</td> <td>    0.041</td> <td>  -24.302</td> <td> 0.000</td> <td>   -1.064</td> <td>   -0.906</td>\n",
       "</tr>\n",
       "<tr>\n",
       "  <th>ar.S.L12</th> <td>    0.0007</td> <td>    0.114</td> <td>    0.006</td> <td> 0.995</td> <td>   -0.222</td> <td>    0.223</td>\n",
       "</tr>\n",
       "<tr>\n",
       "  <th>sigma2</th>   <td> 3.544e+13</td> <td> 1.32e-15</td> <td> 2.69e+28</td> <td> 0.000</td> <td> 3.54e+13</td> <td> 3.54e+13</td>\n",
       "</tr>\n",
       "</table>\n",
       "<table class=\"simpletable\">\n",
       "<tr>\n",
       "  <th>Ljung-Box (L1) (Q):</th>     <td>0.13</td> <th>  Jarque-Bera (JB):  </th> <td>370.45</td>\n",
       "</tr>\n",
       "<tr>\n",
       "  <th>Prob(Q):</th>                <td>0.72</td> <th>  Prob(JB):          </th>  <td>0.00</td> \n",
       "</tr>\n",
       "<tr>\n",
       "  <th>Heteroskedasticity (H):</th> <td>0.42</td> <th>  Skew:              </th>  <td>1.82</td> \n",
       "</tr>\n",
       "<tr>\n",
       "  <th>Prob(H) (two-sided):</th>    <td>0.00</td> <th>  Kurtosis:          </th>  <td>10.02</td>\n",
       "</tr>\n",
       "</table><br/><br/>Warnings:<br/>[1] Covariance matrix calculated using the outer product of gradients (complex-step).<br/>[2] Covariance matrix is singular or near-singular, with condition number 5.2e+43. Standard errors may be unstable."
      ],
      "text/plain": [
       "<class 'statsmodels.iolib.summary.Summary'>\n",
       "\"\"\"\n",
       "                                      SARIMAX Results                                      \n",
       "===========================================================================================\n",
       "Dep. Variable:                        Weekly_Sales   No. Observations:                  143\n",
       "Model:             SARIMAX(1, 1, 1)x(1, 0, [], 12)   Log Likelihood               -2418.290\n",
       "Date:                             Wed, 30 Mar 2022   AIC                           4844.580\n",
       "Time:                                     19:15:07   BIC                           4856.403\n",
       "Sample:                                          0   HQIC                          4849.385\n",
       "                                             - 143                                         \n",
       "Covariance Type:                               opg                                         \n",
       "==============================================================================\n",
       "                 coef    std err          z      P>|z|      [0.025      0.975]\n",
       "------------------------------------------------------------------------------\n",
       "ar.L1          0.3498      0.055      6.390      0.000       0.243       0.457\n",
       "ma.L1         -0.9850      0.041    -24.302      0.000      -1.064      -0.906\n",
       "ar.S.L12       0.0007      0.114      0.006      0.995      -0.222       0.223\n",
       "sigma2      3.544e+13   1.32e-15   2.69e+28      0.000    3.54e+13    3.54e+13\n",
       "===================================================================================\n",
       "Ljung-Box (L1) (Q):                   0.13   Jarque-Bera (JB):               370.45\n",
       "Prob(Q):                              0.72   Prob(JB):                         0.00\n",
       "Heteroskedasticity (H):               0.42   Skew:                             1.82\n",
       "Prob(H) (two-sided):                  0.00   Kurtosis:                        10.02\n",
       "===================================================================================\n",
       "\n",
       "Warnings:\n",
       "[1] Covariance matrix calculated using the outer product of gradients (complex-step).\n",
       "[2] Covariance matrix is singular or near-singular, with condition number 5.2e+43. Standard errors may be unstable.\n",
       "\"\"\""
      ]
     },
     "execution_count": 127,
     "metadata": {},
     "output_type": "execute_result"
    }
   ],
   "source": [
    "result.summary()"
   ]
  },
  {
   "cell_type": "code",
   "execution_count": 128,
   "id": "9436be65",
   "metadata": {},
   "outputs": [
    {
     "data": {
      "text/plain": [
       "<AxesSubplot:xlabel='SalesDate'>"
      ]
     },
     "execution_count": 128,
     "metadata": {},
     "output_type": "execute_result"
    },
    {
     "data": {
      "image/png": "[encoded data removed]",
      "text/plain": [
       "<Figure size 864x576 with 1 Axes>"
      ]
     },
     "metadata": {
      "needs_background": "light"
     },
     "output_type": "display_data"
    }
   ],
   "source": [
    "ts['forecast'] = model.predict(start=len(ts),end=len(ts)+90,typ='levels').rename('ARIMA prediction')\n",
    "#ts['forecast'] = result.predict(start=100,end=142,dynamic=True)\n",
    "pred = model.predict(start=len(ts),end=len(ts)+90,typ='levels').rename('ARIMA prediction')\n",
    "ts[['Weekly_Sales','forecast']].plot(figsize=(12,8))"
   ]
  },
  {
   "cell_type": "code",
   "execution_count": null,
   "id": "21dc1e39",
   "metadata": {},
   "outputs": [],
   "source": []
  },
  {
   "cell_type": "code",
   "execution_count": 189,
   "id": "1ed44df6",
   "metadata": {},
   "outputs": [],
   "source": [
    "#from pandas.tseries.offsets import MonthEnd\n",
    "#from pandas.tseries.offsets import DateOffset"
   ]
  },
  {
   "cell_type": "code",
   "execution_count": 190,
   "id": "c6cff808",
   "metadata": {},
   "outputs": [],
   "source": [
    "#future_dates = [ts.index[-1]+ DateOffset(months=x)for x in range(0,24)]"
   ]
  },
  {
   "cell_type": "code",
   "execution_count": 191,
   "id": "790920db",
   "metadata": {},
   "outputs": [],
   "source": [
    "#future_dataset_df = pd.DataFrame(index=future_dates[1:],columns=ts.columns)"
   ]
  },
  {
   "cell_type": "code",
   "execution_count": 216,
   "id": "978a8526",
   "metadata": {
    "collapsed": true
   },
   "outputs": [
    {
     "data": {
      "text/html": [
       "<div>\n",
       "<style scoped>\n",
       "    .dataframe tbody tr th:only-of-type {\n",
       "        vertical-align: middle;\n",
       "    }\n",
       "\n",
       "    .dataframe tbody tr th {\n",
       "        vertical-align: top;\n",
       "    }\n",
       "\n",
       "    .dataframe thead th {\n",
       "        text-align: right;\n",
       "    }\n",
       "</style>\n",
       "<table border=\"1\" class=\"dataframe\">\n",
       "  <thead>\n",
       "    <tr style=\"text-align: right;\">\n",
       "      <th></th>\n",
       "      <th>Weekly_Sales</th>\n",
       "      <th>forecast</th>\n",
       "    </tr>\n",
       "  </thead>\n",
       "  <tbody>\n",
       "    <tr>\n",
       "      <th>2013-01-10</th>\n",
       "      <td>NaN</td>\n",
       "      <td>NaN</td>\n",
       "    </tr>\n",
       "    <tr>\n",
       "      <th>2013-02-10</th>\n",
       "      <td>NaN</td>\n",
       "      <td>NaN</td>\n",
       "    </tr>\n",
       "    <tr>\n",
       "      <th>2013-03-10</th>\n",
       "      <td>NaN</td>\n",
       "      <td>NaN</td>\n",
       "    </tr>\n",
       "    <tr>\n",
       "      <th>2013-04-10</th>\n",
       "      <td>NaN</td>\n",
       "      <td>NaN</td>\n",
       "    </tr>\n",
       "    <tr>\n",
       "      <th>2013-05-10</th>\n",
       "      <td>NaN</td>\n",
       "      <td>NaN</td>\n",
       "    </tr>\n",
       "    <tr>\n",
       "      <th>2013-06-10</th>\n",
       "      <td>NaN</td>\n",
       "      <td>NaN</td>\n",
       "    </tr>\n",
       "    <tr>\n",
       "      <th>2013-07-10</th>\n",
       "      <td>NaN</td>\n",
       "      <td>NaN</td>\n",
       "    </tr>\n",
       "    <tr>\n",
       "      <th>2013-08-10</th>\n",
       "      <td>NaN</td>\n",
       "      <td>NaN</td>\n",
       "    </tr>\n",
       "    <tr>\n",
       "      <th>2013-09-10</th>\n",
       "      <td>NaN</td>\n",
       "      <td>NaN</td>\n",
       "    </tr>\n",
       "    <tr>\n",
       "      <th>2013-10-10</th>\n",
       "      <td>NaN</td>\n",
       "      <td>NaN</td>\n",
       "    </tr>\n",
       "    <tr>\n",
       "      <th>2013-11-10</th>\n",
       "      <td>NaN</td>\n",
       "      <td>NaN</td>\n",
       "    </tr>\n",
       "    <tr>\n",
       "      <th>2013-12-10</th>\n",
       "      <td>NaN</td>\n",
       "      <td>NaN</td>\n",
       "    </tr>\n",
       "    <tr>\n",
       "      <th>2014-01-10</th>\n",
       "      <td>NaN</td>\n",
       "      <td>NaN</td>\n",
       "    </tr>\n",
       "    <tr>\n",
       "      <th>2014-02-10</th>\n",
       "      <td>NaN</td>\n",
       "      <td>NaN</td>\n",
       "    </tr>\n",
       "    <tr>\n",
       "      <th>2014-03-10</th>\n",
       "      <td>NaN</td>\n",
       "      <td>NaN</td>\n",
       "    </tr>\n",
       "    <tr>\n",
       "      <th>2014-04-10</th>\n",
       "      <td>NaN</td>\n",
       "      <td>NaN</td>\n",
       "    </tr>\n",
       "    <tr>\n",
       "      <th>2014-05-10</th>\n",
       "      <td>NaN</td>\n",
       "      <td>NaN</td>\n",
       "    </tr>\n",
       "    <tr>\n",
       "      <th>2014-06-10</th>\n",
       "      <td>NaN</td>\n",
       "      <td>NaN</td>\n",
       "    </tr>\n",
       "    <tr>\n",
       "      <th>2014-07-10</th>\n",
       "      <td>NaN</td>\n",
       "      <td>NaN</td>\n",
       "    </tr>\n",
       "    <tr>\n",
       "      <th>2014-08-10</th>\n",
       "      <td>NaN</td>\n",
       "      <td>NaN</td>\n",
       "    </tr>\n",
       "    <tr>\n",
       "      <th>2014-09-10</th>\n",
       "      <td>NaN</td>\n",
       "      <td>NaN</td>\n",
       "    </tr>\n",
       "    <tr>\n",
       "      <th>2014-10-10</th>\n",
       "      <td>NaN</td>\n",
       "      <td>NaN</td>\n",
       "    </tr>\n",
       "    <tr>\n",
       "      <th>2014-11-10</th>\n",
       "      <td>NaN</td>\n",
       "      <td>NaN</td>\n",
       "    </tr>\n",
       "  </tbody>\n",
       "</table>\n",
       "</div>"
      ],
      "text/plain": [
       "           Weekly_Sales forecast\n",
       "2013-01-10          NaN      NaN\n",
       "2013-02-10          NaN      NaN\n",
       "2013-03-10          NaN      NaN\n",
       "2013-04-10          NaN      NaN\n",
       "2013-05-10          NaN      NaN\n",
       "2013-06-10          NaN      NaN\n",
       "2013-07-10          NaN      NaN\n",
       "2013-08-10          NaN      NaN\n",
       "2013-09-10          NaN      NaN\n",
       "2013-10-10          NaN      NaN\n",
       "2013-11-10          NaN      NaN\n",
       "2013-12-10          NaN      NaN\n",
       "2014-01-10          NaN      NaN\n",
       "2014-02-10          NaN      NaN\n",
       "2014-03-10          NaN      NaN\n",
       "2014-04-10          NaN      NaN\n",
       "2014-05-10          NaN      NaN\n",
       "2014-06-10          NaN      NaN\n",
       "2014-07-10          NaN      NaN\n",
       "2014-08-10          NaN      NaN\n",
       "2014-09-10          NaN      NaN\n",
       "2014-10-10          NaN      NaN\n",
       "2014-11-10          NaN      NaN"
      ]
     },
     "execution_count": 216,
     "metadata": {},
     "output_type": "execute_result"
    }
   ],
   "source": [
    "future_dataset_df"
   ]
  },
  {
   "cell_type": "code",
   "execution_count": 193,
   "id": "8cbcea2f",
   "metadata": {},
   "outputs": [],
   "source": [
    "future_ts = pd.concat([ts,future_dataset_df])"
   ]
  },
  {
   "cell_type": "code",
   "execution_count": null,
   "id": "45c862f5",
   "metadata": {},
   "outputs": [],
   "source": []
  }
 ],
 "metadata": {
  "kernelspec": {
   "display_name": "Python 3 (ipykernel)",
   "language": "python",
   "name": "python3"
  },
  "language_info": {
   "codemirror_mode": {
    "name": "ipython",
    "version": 3
   },
   "file_extension": ".py",
   "mimetype": "text/x-python",
   "name": "python",
   "nbconvert_exporter": "python",
   "pygments_lexer": "ipython3",
   "version": "3.9.7"
  }
 },
 "nbformat": 4,
 "nbformat_minor": 5
}
