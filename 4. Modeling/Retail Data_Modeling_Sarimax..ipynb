{
 "cells": [
  {
   "cell_type": "code",
   "execution_count": 1,
   "id": "826e117c",
   "metadata": {},
   "outputs": [],
   "source": [
    "# import the different libraries \n",
    "import numpy as np\n",
    "import pandas as pd\n",
    "import matplotlib.pyplot as plt\n",
    "%matplotlib inline\n",
    "import seaborn as sns"
   ]
  },
  {
   "cell_type": "markdown",
   "id": "b116fab3",
   "metadata": {},
   "source": [
    "### Sarimax ML Model"
   ]
  },
  {
   "cell_type": "code",
   "execution_count": 2,
   "id": "f6963c14",
   "metadata": {},
   "outputs": [
    {
     "data": {
      "text/html": [
       "<div>\n",
       "<style scoped>\n",
       "    .dataframe tbody tr th:only-of-type {\n",
       "        vertical-align: middle;\n",
       "    }\n",
       "\n",
       "    .dataframe tbody tr th {\n",
       "        vertical-align: top;\n",
       "    }\n",
       "\n",
       "    .dataframe thead th {\n",
       "        text-align: right;\n",
       "    }\n",
       "</style>\n",
       "<table border=\"1\" class=\"dataframe\">\n",
       "  <thead>\n",
       "    <tr style=\"text-align: right;\">\n",
       "      <th></th>\n",
       "      <th>Unnamed: 0</th>\n",
       "      <th>Store_id</th>\n",
       "      <th>Sales_Date</th>\n",
       "      <th>Temperature</th>\n",
       "      <th>MarkDown1</th>\n",
       "      <th>MarkDown2</th>\n",
       "      <th>MarkDown3</th>\n",
       "      <th>MarkDown4</th>\n",
       "      <th>MarkDown5</th>\n",
       "      <th>CPI</th>\n",
       "      <th>Unemployment</th>\n",
       "      <th>IsHoliday</th>\n",
       "      <th>Store_Dept</th>\n",
       "      <th>Weekly_Sales</th>\n",
       "      <th>Store_Type</th>\n",
       "      <th>Store_Size</th>\n",
       "      <th>Sales_Month</th>\n",
       "      <th>Sales_Year</th>\n",
       "      <th>Fuel_Price</th>\n",
       "    </tr>\n",
       "  </thead>\n",
       "  <tbody>\n",
       "    <tr>\n",
       "      <th>0</th>\n",
       "      <td>0</td>\n",
       "      <td>1</td>\n",
       "      <td>2010-02-05</td>\n",
       "      <td>42.31</td>\n",
       "      <td>0.00</td>\n",
       "      <td>0.00</td>\n",
       "      <td>0.0</td>\n",
       "      <td>0.00</td>\n",
       "      <td>0.00</td>\n",
       "      <td>211.096358</td>\n",
       "      <td>8.106</td>\n",
       "      <td>False</td>\n",
       "      <td>1</td>\n",
       "      <td>24924.50</td>\n",
       "      <td>A</td>\n",
       "      <td>151315</td>\n",
       "      <td>2</td>\n",
       "      <td>2010</td>\n",
       "      <td>2.572</td>\n",
       "    </tr>\n",
       "    <tr>\n",
       "      <th>1</th>\n",
       "      <td>330761</td>\n",
       "      <td>35</td>\n",
       "      <td>2010-02-05</td>\n",
       "      <td>27.19</td>\n",
       "      <td>0.00</td>\n",
       "      <td>0.00</td>\n",
       "      <td>0.0</td>\n",
       "      <td>0.00</td>\n",
       "      <td>0.00</td>\n",
       "      <td>135.352461</td>\n",
       "      <td>9.262</td>\n",
       "      <td>False</td>\n",
       "      <td>3</td>\n",
       "      <td>14612.19</td>\n",
       "      <td>B</td>\n",
       "      <td>103681</td>\n",
       "      <td>2</td>\n",
       "      <td>2010</td>\n",
       "      <td>2.784</td>\n",
       "    </tr>\n",
       "    <tr>\n",
       "      <th>2</th>\n",
       "      <td>330762</td>\n",
       "      <td>35</td>\n",
       "      <td>2010-02-05</td>\n",
       "      <td>27.19</td>\n",
       "      <td>0.00</td>\n",
       "      <td>0.00</td>\n",
       "      <td>0.0</td>\n",
       "      <td>0.00</td>\n",
       "      <td>0.00</td>\n",
       "      <td>135.352461</td>\n",
       "      <td>9.262</td>\n",
       "      <td>False</td>\n",
       "      <td>4</td>\n",
       "      <td>26323.15</td>\n",
       "      <td>B</td>\n",
       "      <td>103681</td>\n",
       "      <td>2</td>\n",
       "      <td>2010</td>\n",
       "      <td>2.784</td>\n",
       "    </tr>\n",
       "    <tr>\n",
       "      <th>3</th>\n",
       "      <td>330763</td>\n",
       "      <td>35</td>\n",
       "      <td>2010-02-05</td>\n",
       "      <td>27.19</td>\n",
       "      <td>0.00</td>\n",
       "      <td>0.00</td>\n",
       "      <td>0.0</td>\n",
       "      <td>0.00</td>\n",
       "      <td>0.00</td>\n",
       "      <td>135.352461</td>\n",
       "      <td>9.262</td>\n",
       "      <td>False</td>\n",
       "      <td>5</td>\n",
       "      <td>36414.63</td>\n",
       "      <td>B</td>\n",
       "      <td>103681</td>\n",
       "      <td>2</td>\n",
       "      <td>2010</td>\n",
       "      <td>2.784</td>\n",
       "    </tr>\n",
       "    <tr>\n",
       "      <th>4</th>\n",
       "      <td>330764</td>\n",
       "      <td>35</td>\n",
       "      <td>2010-02-05</td>\n",
       "      <td>27.19</td>\n",
       "      <td>0.00</td>\n",
       "      <td>0.00</td>\n",
       "      <td>0.0</td>\n",
       "      <td>0.00</td>\n",
       "      <td>0.00</td>\n",
       "      <td>135.352461</td>\n",
       "      <td>9.262</td>\n",
       "      <td>False</td>\n",
       "      <td>6</td>\n",
       "      <td>11437.81</td>\n",
       "      <td>B</td>\n",
       "      <td>103681</td>\n",
       "      <td>2</td>\n",
       "      <td>2010</td>\n",
       "      <td>2.784</td>\n",
       "    </tr>\n",
       "    <tr>\n",
       "      <th>...</th>\n",
       "      <td>...</td>\n",
       "      <td>...</td>\n",
       "      <td>...</td>\n",
       "      <td>...</td>\n",
       "      <td>...</td>\n",
       "      <td>...</td>\n",
       "      <td>...</td>\n",
       "      <td>...</td>\n",
       "      <td>...</td>\n",
       "      <td>...</td>\n",
       "      <td>...</td>\n",
       "      <td>...</td>\n",
       "      <td>...</td>\n",
       "      <td>...</td>\n",
       "      <td>...</td>\n",
       "      <td>...</td>\n",
       "      <td>...</td>\n",
       "      <td>...</td>\n",
       "      <td>...</td>\n",
       "    </tr>\n",
       "    <tr>\n",
       "      <th>421565</th>\n",
       "      <td>128051</td>\n",
       "      <td>13</td>\n",
       "      <td>2012-10-26</td>\n",
       "      <td>46.97</td>\n",
       "      <td>10192.49</td>\n",
       "      <td>364.57</td>\n",
       "      <td>150.0</td>\n",
       "      <td>1714.15</td>\n",
       "      <td>5563.92</td>\n",
       "      <td>131.193097</td>\n",
       "      <td>5.621</td>\n",
       "      <td>False</td>\n",
       "      <td>49</td>\n",
       "      <td>7770.71</td>\n",
       "      <td>A</td>\n",
       "      <td>219622</td>\n",
       "      <td>10</td>\n",
       "      <td>2012</td>\n",
       "      <td>3.755</td>\n",
       "    </tr>\n",
       "    <tr>\n",
       "      <th>421566</th>\n",
       "      <td>128052</td>\n",
       "      <td>13</td>\n",
       "      <td>2012-10-26</td>\n",
       "      <td>46.97</td>\n",
       "      <td>10192.49</td>\n",
       "      <td>364.57</td>\n",
       "      <td>150.0</td>\n",
       "      <td>1714.15</td>\n",
       "      <td>5563.92</td>\n",
       "      <td>131.193097</td>\n",
       "      <td>5.621</td>\n",
       "      <td>False</td>\n",
       "      <td>50</td>\n",
       "      <td>1486.00</td>\n",
       "      <td>A</td>\n",
       "      <td>219622</td>\n",
       "      <td>10</td>\n",
       "      <td>2012</td>\n",
       "      <td>3.755</td>\n",
       "    </tr>\n",
       "    <tr>\n",
       "      <th>421567</th>\n",
       "      <td>128053</td>\n",
       "      <td>13</td>\n",
       "      <td>2012-10-26</td>\n",
       "      <td>46.97</td>\n",
       "      <td>10192.49</td>\n",
       "      <td>364.57</td>\n",
       "      <td>150.0</td>\n",
       "      <td>1714.15</td>\n",
       "      <td>5563.92</td>\n",
       "      <td>131.193097</td>\n",
       "      <td>5.621</td>\n",
       "      <td>False</td>\n",
       "      <td>52</td>\n",
       "      <td>4738.93</td>\n",
       "      <td>A</td>\n",
       "      <td>219622</td>\n",
       "      <td>10</td>\n",
       "      <td>2012</td>\n",
       "      <td>3.755</td>\n",
       "    </tr>\n",
       "    <tr>\n",
       "      <th>421568</th>\n",
       "      <td>390991</td>\n",
       "      <td>41</td>\n",
       "      <td>2012-10-26</td>\n",
       "      <td>41.80</td>\n",
       "      <td>4864.30</td>\n",
       "      <td>101.34</td>\n",
       "      <td>250.6</td>\n",
       "      <td>47.24</td>\n",
       "      <td>1524.43</td>\n",
       "      <td>199.219532</td>\n",
       "      <td>6.195</td>\n",
       "      <td>False</td>\n",
       "      <td>4</td>\n",
       "      <td>32699.78</td>\n",
       "      <td>A</td>\n",
       "      <td>196321</td>\n",
       "      <td>10</td>\n",
       "      <td>2012</td>\n",
       "      <td>3.686</td>\n",
       "    </tr>\n",
       "    <tr>\n",
       "      <th>421569</th>\n",
       "      <td>421569</td>\n",
       "      <td>45</td>\n",
       "      <td>2012-10-26</td>\n",
       "      <td>58.85</td>\n",
       "      <td>4018.91</td>\n",
       "      <td>58.08</td>\n",
       "      <td>100.0</td>\n",
       "      <td>211.94</td>\n",
       "      <td>858.33</td>\n",
       "      <td>192.308899</td>\n",
       "      <td>8.667</td>\n",
       "      <td>False</td>\n",
       "      <td>98</td>\n",
       "      <td>1076.80</td>\n",
       "      <td>B</td>\n",
       "      <td>118221</td>\n",
       "      <td>10</td>\n",
       "      <td>2012</td>\n",
       "      <td>3.882</td>\n",
       "    </tr>\n",
       "  </tbody>\n",
       "</table>\n",
       "<p>421570 rows × 19 columns</p>\n",
       "</div>"
      ],
      "text/plain": [
       "        Unnamed: 0  Store_id  Sales_Date  Temperature  MarkDown1  MarkDown2  \\\n",
       "0                0         1  2010-02-05        42.31       0.00       0.00   \n",
       "1           330761        35  2010-02-05        27.19       0.00       0.00   \n",
       "2           330762        35  2010-02-05        27.19       0.00       0.00   \n",
       "3           330763        35  2010-02-05        27.19       0.00       0.00   \n",
       "4           330764        35  2010-02-05        27.19       0.00       0.00   \n",
       "...            ...       ...         ...          ...        ...        ...   \n",
       "421565      128051        13  2012-10-26        46.97   10192.49     364.57   \n",
       "421566      128052        13  2012-10-26        46.97   10192.49     364.57   \n",
       "421567      128053        13  2012-10-26        46.97   10192.49     364.57   \n",
       "421568      390991        41  2012-10-26        41.80    4864.30     101.34   \n",
       "421569      421569        45  2012-10-26        58.85    4018.91      58.08   \n",
       "\n",
       "        MarkDown3  MarkDown4  MarkDown5         CPI  Unemployment  IsHoliday  \\\n",
       "0             0.0       0.00       0.00  211.096358         8.106      False   \n",
       "1             0.0       0.00       0.00  135.352461         9.262      False   \n",
       "2             0.0       0.00       0.00  135.352461         9.262      False   \n",
       "3             0.0       0.00       0.00  135.352461         9.262      False   \n",
       "4             0.0       0.00       0.00  135.352461         9.262      False   \n",
       "...           ...        ...        ...         ...           ...        ...   \n",
       "421565      150.0    1714.15    5563.92  131.193097         5.621      False   \n",
       "421566      150.0    1714.15    5563.92  131.193097         5.621      False   \n",
       "421567      150.0    1714.15    5563.92  131.193097         5.621      False   \n",
       "421568      250.6      47.24    1524.43  199.219532         6.195      False   \n",
       "421569      100.0     211.94     858.33  192.308899         8.667      False   \n",
       "\n",
       "        Store_Dept  Weekly_Sales Store_Type  Store_Size  Sales_Month  \\\n",
       "0                1      24924.50          A      151315            2   \n",
       "1                3      14612.19          B      103681            2   \n",
       "2                4      26323.15          B      103681            2   \n",
       "3                5      36414.63          B      103681            2   \n",
       "4                6      11437.81          B      103681            2   \n",
       "...            ...           ...        ...         ...          ...   \n",
       "421565          49       7770.71          A      219622           10   \n",
       "421566          50       1486.00          A      219622           10   \n",
       "421567          52       4738.93          A      219622           10   \n",
       "421568           4      32699.78          A      196321           10   \n",
       "421569          98       1076.80          B      118221           10   \n",
       "\n",
       "        Sales_Year  Fuel_Price  \n",
       "0             2010       2.572  \n",
       "1             2010       2.784  \n",
       "2             2010       2.784  \n",
       "3             2010       2.784  \n",
       "4             2010       2.784  \n",
       "...            ...         ...  \n",
       "421565        2012       3.755  \n",
       "421566        2012       3.755  \n",
       "421567        2012       3.755  \n",
       "421568        2012       3.686  \n",
       "421569        2012       3.882  \n",
       "\n",
       "[421570 rows x 19 columns]"
      ]
     },
     "execution_count": 2,
     "metadata": {},
     "output_type": "execute_result"
    }
   ],
   "source": [
    "#open csv file\n",
    "Data = pd.read_csv('C:/Users/pooja/OneDrive/Desktop/Sales Forecasting/4. Modeling/Retail Data_Modeling_Arima.csv')\n",
    "Data"
   ]
  },
  {
   "cell_type": "code",
   "execution_count": 3,
   "id": "0faac8a2",
   "metadata": {},
   "outputs": [],
   "source": [
    "#Change date to datetime formatData\n",
    "Data['Sales_Date']=pd.to_datetime(Data['Sales_Date'])"
   ]
  },
  {
   "cell_type": "code",
   "execution_count": 4,
   "id": "1e60fe8f",
   "metadata": {},
   "outputs": [],
   "source": [
    "Data = Data.drop(['Unnamed: 0'],axis=1)"
   ]
  },
  {
   "cell_type": "code",
   "execution_count": 5,
   "id": "cb5e54ff",
   "metadata": {},
   "outputs": [],
   "source": [
    "#grab the colum that require for forecasting\n",
    "Data1 = Data[[\"Sales_Date\",\"Weekly_Sales\"]]\n",
    "#Data1"
   ]
  },
  {
   "cell_type": "code",
   "execution_count": 6,
   "id": "b07d329d",
   "metadata": {},
   "outputs": [],
   "source": [
    "#Data1.info()"
   ]
  },
  {
   "cell_type": "code",
   "execution_count": 7,
   "id": "97bcd2b8",
   "metadata": {},
   "outputs": [
    {
     "data": {
      "text/plain": [
       "<AxesSubplot:>"
      ]
     },
     "execution_count": 7,
     "metadata": {},
     "output_type": "execute_result"
    },
    {
     "data": {
      "image/png": "[encoded data removed]",
      "text/plain": [
       "<Figure size 432x288 with 1 Axes>"
      ]
     },
     "metadata": {
      "needs_background": "light"
     },
     "output_type": "display_data"
    }
   ],
   "source": [
    "#Make sure there are no null values\n",
    "sns.heatmap(Data1.isnull(),yticklabels=False,cbar=False,cmap='viridis')"
   ]
  },
  {
   "cell_type": "code",
   "execution_count": 8,
   "id": "aab855ed",
   "metadata": {},
   "outputs": [],
   "source": [
    "#Data1.set_index('Sales_Date',inplace=True)"
   ]
  },
  {
   "cell_type": "code",
   "execution_count": 9,
   "id": "565458c3",
   "metadata": {},
   "outputs": [],
   "source": [
    "#Data1.shape"
   ]
  },
  {
   "cell_type": "code",
   "execution_count": 10,
   "id": "f0415e06",
   "metadata": {
    "scrolled": true
   },
   "outputs": [],
   "source": [
    "#Data1"
   ]
  },
  {
   "cell_type": "code",
   "execution_count": 11,
   "id": "2cdb344b",
   "metadata": {},
   "outputs": [],
   "source": [
    "#lest take sum of the sales of different department and stores and do some analysis on monthly total sales\n",
    "#sum of sales based on date\n",
    "df_average_sales_week = Data.groupby(by=['Sales_Date'], as_index=False)['Weekly_Sales'].sum()\n",
    "# sort the values\n",
    "df_average_sales = df_average_sales_week.sort_values('Sales_Date', ascending=False)"
   ]
  },
  {
   "cell_type": "code",
   "execution_count": 12,
   "id": "d2c73ba6",
   "metadata": {},
   "outputs": [
    {
     "data": {
      "text/html": [
       "<div>\n",
       "<style scoped>\n",
       "    .dataframe tbody tr th:only-of-type {\n",
       "        vertical-align: middle;\n",
       "    }\n",
       "\n",
       "    .dataframe tbody tr th {\n",
       "        vertical-align: top;\n",
       "    }\n",
       "\n",
       "    .dataframe thead th {\n",
       "        text-align: right;\n",
       "    }\n",
       "</style>\n",
       "<table border=\"1\" class=\"dataframe\">\n",
       "  <thead>\n",
       "    <tr style=\"text-align: right;\">\n",
       "      <th></th>\n",
       "      <th>Sales_Date</th>\n",
       "      <th>Weekly_Sales</th>\n",
       "    </tr>\n",
       "  </thead>\n",
       "  <tbody>\n",
       "    <tr>\n",
       "      <th>142</th>\n",
       "      <td>2012-10-26</td>\n",
       "      <td>45544116.29</td>\n",
       "    </tr>\n",
       "    <tr>\n",
       "      <th>141</th>\n",
       "      <td>2012-10-19</td>\n",
       "      <td>45122410.57</td>\n",
       "    </tr>\n",
       "    <tr>\n",
       "      <th>140</th>\n",
       "      <td>2012-10-12</td>\n",
       "      <td>46128514.25</td>\n",
       "    </tr>\n",
       "    <tr>\n",
       "      <th>139</th>\n",
       "      <td>2012-10-05</td>\n",
       "      <td>47566639.31</td>\n",
       "    </tr>\n",
       "    <tr>\n",
       "      <th>138</th>\n",
       "      <td>2012-09-28</td>\n",
       "      <td>43734899.40</td>\n",
       "    </tr>\n",
       "    <tr>\n",
       "      <th>...</th>\n",
       "      <td>...</td>\n",
       "      <td>...</td>\n",
       "    </tr>\n",
       "    <tr>\n",
       "      <th>4</th>\n",
       "      <td>2010-03-05</td>\n",
       "      <td>46871470.30</td>\n",
       "    </tr>\n",
       "    <tr>\n",
       "      <th>3</th>\n",
       "      <td>2010-02-26</td>\n",
       "      <td>43968571.13</td>\n",
       "    </tr>\n",
       "    <tr>\n",
       "      <th>2</th>\n",
       "      <td>2010-02-19</td>\n",
       "      <td>48276993.78</td>\n",
       "    </tr>\n",
       "    <tr>\n",
       "      <th>1</th>\n",
       "      <td>2010-02-12</td>\n",
       "      <td>48336677.63</td>\n",
       "    </tr>\n",
       "    <tr>\n",
       "      <th>0</th>\n",
       "      <td>2010-02-05</td>\n",
       "      <td>49750740.50</td>\n",
       "    </tr>\n",
       "  </tbody>\n",
       "</table>\n",
       "<p>143 rows × 2 columns</p>\n",
       "</div>"
      ],
      "text/plain": [
       "    Sales_Date  Weekly_Sales\n",
       "142 2012-10-26   45544116.29\n",
       "141 2012-10-19   45122410.57\n",
       "140 2012-10-12   46128514.25\n",
       "139 2012-10-05   47566639.31\n",
       "138 2012-09-28   43734899.40\n",
       "..         ...           ...\n",
       "4   2010-03-05   46871470.30\n",
       "3   2010-02-26   43968571.13\n",
       "2   2010-02-19   48276993.78\n",
       "1   2010-02-12   48336677.63\n",
       "0   2010-02-05   49750740.50\n",
       "\n",
       "[143 rows x 2 columns]"
      ]
     },
     "execution_count": 12,
     "metadata": {},
     "output_type": "execute_result"
    }
   ],
   "source": [
    "df_average_sales"
   ]
  },
  {
   "cell_type": "code",
   "execution_count": 13,
   "id": "74ae9663",
   "metadata": {},
   "outputs": [],
   "source": [
    "#plt.figure(figsize=(20,5))\n",
    "#plt.plot(df_average_sales_week.Sales_Date, df_average_sales_week.Weekly_Sales)\n",
    "#plt.show()"
   ]
  },
  {
   "cell_type": "code",
   "execution_count": 14,
   "id": "f1290ca8",
   "metadata": {},
   "outputs": [
    {
     "data": {
      "text/plain": [
       "<AxesSubplot:xlabel='Sales_Date', ylabel='Weekly_Sales'>"
      ]
     },
     "execution_count": 14,
     "metadata": {},
     "output_type": "execute_result"
    },
    {
     "data": {
      "image/png": "[encoded data removed]",
      "text/plain": [
       "<Figure size 864x576 with 1 Axes>"
      ]
     },
     "metadata": {
      "needs_background": "light"
     },
     "output_type": "display_data"
    }
   ],
   "source": [
    "# To understand the pattern\n",
    "plt.figure(figsize=(12,8))\n",
    "sns.lineplot(data=df_average_sales, x='Sales_Date', y= 'Weekly_Sales')"
   ]
  },
  {
   "cell_type": "code",
   "execution_count": 15,
   "id": "add80063",
   "metadata": {},
   "outputs": [
    {
     "data": {
      "text/html": [
       "<div>\n",
       "<style scoped>\n",
       "    .dataframe tbody tr th:only-of-type {\n",
       "        vertical-align: middle;\n",
       "    }\n",
       "\n",
       "    .dataframe tbody tr th {\n",
       "        vertical-align: top;\n",
       "    }\n",
       "\n",
       "    .dataframe thead th {\n",
       "        text-align: right;\n",
       "    }\n",
       "</style>\n",
       "<table border=\"1\" class=\"dataframe\">\n",
       "  <thead>\n",
       "    <tr style=\"text-align: right;\">\n",
       "      <th></th>\n",
       "      <th>Weekly_Sales</th>\n",
       "    </tr>\n",
       "    <tr>\n",
       "      <th>Sales_Date</th>\n",
       "      <th></th>\n",
       "    </tr>\n",
       "  </thead>\n",
       "  <tbody>\n",
       "    <tr>\n",
       "      <th>2010-02-05</th>\n",
       "      <td>49750740.50</td>\n",
       "    </tr>\n",
       "    <tr>\n",
       "      <th>2010-02-12</th>\n",
       "      <td>48336677.63</td>\n",
       "    </tr>\n",
       "    <tr>\n",
       "      <th>2010-02-19</th>\n",
       "      <td>48276993.78</td>\n",
       "    </tr>\n",
       "    <tr>\n",
       "      <th>2010-02-26</th>\n",
       "      <td>43968571.13</td>\n",
       "    </tr>\n",
       "    <tr>\n",
       "      <th>2010-03-05</th>\n",
       "      <td>46871470.30</td>\n",
       "    </tr>\n",
       "    <tr>\n",
       "      <th>...</th>\n",
       "      <td>...</td>\n",
       "    </tr>\n",
       "    <tr>\n",
       "      <th>2012-09-28</th>\n",
       "      <td>43734899.40</td>\n",
       "    </tr>\n",
       "    <tr>\n",
       "      <th>2012-10-05</th>\n",
       "      <td>47566639.31</td>\n",
       "    </tr>\n",
       "    <tr>\n",
       "      <th>2012-10-12</th>\n",
       "      <td>46128514.25</td>\n",
       "    </tr>\n",
       "    <tr>\n",
       "      <th>2012-10-19</th>\n",
       "      <td>45122410.57</td>\n",
       "    </tr>\n",
       "    <tr>\n",
       "      <th>2012-10-26</th>\n",
       "      <td>45544116.29</td>\n",
       "    </tr>\n",
       "  </tbody>\n",
       "</table>\n",
       "<p>143 rows × 1 columns</p>\n",
       "</div>"
      ],
      "text/plain": [
       "            Weekly_Sales\n",
       "Sales_Date              \n",
       "2010-02-05   49750740.50\n",
       "2010-02-12   48336677.63\n",
       "2010-02-19   48276993.78\n",
       "2010-02-26   43968571.13\n",
       "2010-03-05   46871470.30\n",
       "...                  ...\n",
       "2012-09-28   43734899.40\n",
       "2012-10-05   47566639.31\n",
       "2012-10-12   46128514.25\n",
       "2012-10-19   45122410.57\n",
       "2012-10-26   45544116.29\n",
       "\n",
       "[143 rows x 1 columns]"
      ]
     },
     "execution_count": 15,
     "metadata": {},
     "output_type": "execute_result"
    }
   ],
   "source": [
    "data2 = df_average_sales_week.set_index('Sales_Date')\n",
    "data2"
   ]
  },
  {
   "cell_type": "code",
   "execution_count": 16,
   "id": "5e01a86f",
   "metadata": {},
   "outputs": [
    {
     "data": {
      "text/html": [
       "<div>\n",
       "<style scoped>\n",
       "    .dataframe tbody tr th:only-of-type {\n",
       "        vertical-align: middle;\n",
       "    }\n",
       "\n",
       "    .dataframe tbody tr th {\n",
       "        vertical-align: top;\n",
       "    }\n",
       "\n",
       "    .dataframe thead th {\n",
       "        text-align: right;\n",
       "    }\n",
       "</style>\n",
       "<table border=\"1\" class=\"dataframe\">\n",
       "  <thead>\n",
       "    <tr style=\"text-align: right;\">\n",
       "      <th></th>\n",
       "      <th>Weekly_Sales</th>\n",
       "    </tr>\n",
       "    <tr>\n",
       "      <th>Sales_Date</th>\n",
       "      <th></th>\n",
       "    </tr>\n",
       "  </thead>\n",
       "  <tbody>\n",
       "    <tr>\n",
       "      <th>2010-02-05</th>\n",
       "      <td>49750740.50</td>\n",
       "    </tr>\n",
       "    <tr>\n",
       "      <th>2010-02-12</th>\n",
       "      <td>48336677.63</td>\n",
       "    </tr>\n",
       "    <tr>\n",
       "      <th>2010-02-19</th>\n",
       "      <td>48276993.78</td>\n",
       "    </tr>\n",
       "    <tr>\n",
       "      <th>2010-02-26</th>\n",
       "      <td>43968571.13</td>\n",
       "    </tr>\n",
       "    <tr>\n",
       "      <th>2010-03-05</th>\n",
       "      <td>46871470.30</td>\n",
       "    </tr>\n",
       "    <tr>\n",
       "      <th>...</th>\n",
       "      <td>...</td>\n",
       "    </tr>\n",
       "    <tr>\n",
       "      <th>2012-09-28</th>\n",
       "      <td>43734899.40</td>\n",
       "    </tr>\n",
       "    <tr>\n",
       "      <th>2012-10-05</th>\n",
       "      <td>47566639.31</td>\n",
       "    </tr>\n",
       "    <tr>\n",
       "      <th>2012-10-12</th>\n",
       "      <td>46128514.25</td>\n",
       "    </tr>\n",
       "    <tr>\n",
       "      <th>2012-10-19</th>\n",
       "      <td>45122410.57</td>\n",
       "    </tr>\n",
       "    <tr>\n",
       "      <th>2012-10-26</th>\n",
       "      <td>45544116.29</td>\n",
       "    </tr>\n",
       "  </tbody>\n",
       "</table>\n",
       "<p>143 rows × 1 columns</p>\n",
       "</div>"
      ],
      "text/plain": [
       "            Weekly_Sales\n",
       "Sales_Date              \n",
       "2010-02-05   49750740.50\n",
       "2010-02-12   48336677.63\n",
       "2010-02-19   48276993.78\n",
       "2010-02-26   43968571.13\n",
       "2010-03-05   46871470.30\n",
       "...                  ...\n",
       "2012-09-28   43734899.40\n",
       "2012-10-05   47566639.31\n",
       "2012-10-12   46128514.25\n",
       "2012-10-19   45122410.57\n",
       "2012-10-26   45544116.29\n",
       "\n",
       "[143 rows x 1 columns]"
      ]
     },
     "execution_count": 16,
     "metadata": {},
     "output_type": "execute_result"
    }
   ],
   "source": [
    "data2"
   ]
  },
  {
   "cell_type": "code",
   "execution_count": 17,
   "id": "8c38c1b9",
   "metadata": {
    "scrolled": true
   },
   "outputs": [],
   "source": [
    "#data2.info()"
   ]
  },
  {
   "cell_type": "code",
   "execution_count": 18,
   "id": "38f40139",
   "metadata": {},
   "outputs": [],
   "source": [
    "#for backup\n",
    "#ts.to_csv('C:/Users/pooja/OneDrive/Desktop/We cloud/ML/Project #2/test2.csv')"
   ]
  },
  {
   "cell_type": "code",
   "execution_count": 19,
   "id": "618f5bb1",
   "metadata": {},
   "outputs": [
    {
     "name": "stderr",
     "output_type": "stream",
     "text": [
      "C:\\Users\\pooja\\anaconda3\\lib\\site-packages\\statsmodels\\tsa\\base\\tsa_model.py:7: FutureWarning: pandas.Int64Index is deprecated and will be removed from pandas in a future version. Use pandas.Index with the appropriate dtype instead.\n",
      "  from pandas import (to_datetime, Int64Index, DatetimeIndex, Period,\n",
      "C:\\Users\\pooja\\anaconda3\\lib\\site-packages\\statsmodels\\tsa\\base\\tsa_model.py:7: FutureWarning: pandas.Float64Index is deprecated and will be removed from pandas in a future version. Use pandas.Index with the appropriate dtype instead.\n",
      "  from pandas import (to_datetime, Int64Index, DatetimeIndex, Period,\n"
     ]
    }
   ],
   "source": [
    "from statsmodels.tsa.stattools import adfuller"
   ]
  },
  {
   "cell_type": "markdown",
   "id": "5f095cb6",
   "metadata": {},
   "source": [
    "#### Check dickey fuller test to see if the data is stationary or not"
   ]
  },
  {
   "cell_type": "code",
   "execution_count": 20,
   "id": "b0f572b2",
   "metadata": {},
   "outputs": [],
   "source": [
    "test_result = adfuller(data2['Weekly_Sales'])"
   ]
  },
  {
   "cell_type": "code",
   "execution_count": 21,
   "id": "7baaafac",
   "metadata": {},
   "outputs": [],
   "source": [
    "#Ho : it is not stationary\n",
    "#H1 : it is stationary\n",
    "\n",
    "def adfuller_test(Weekly_Sales):\n",
    "    result = adfuller(Weekly_Sales)\n",
    "    labels=['ADF Test Statistic','P-value','#lags used','Number of observation used']\n",
    "    for value,labels in zip(result,labels):\n",
    "        print(labels+' : '+str(value) )\n",
    "    if result[1]<=0.05:\n",
    "        print(\"Reject null hypothesis(- it is stationary) \")\n",
    "    else:\n",
    "        print(\"Accept null hypothesis (- it is not stationary)\")"
   ]
  },
  {
   "cell_type": "code",
   "execution_count": 22,
   "id": "63b7a830",
   "metadata": {},
   "outputs": [
    {
     "name": "stdout",
     "output_type": "stream",
     "text": [
      "ADF Test Statistic : -5.908297957186334\n",
      "P-value : 2.675979158986027e-07\n",
      "#lags used : 4\n",
      "Number of observation used : 138\n",
      "Reject null hypothesis(- it is stationary) \n"
     ]
    }
   ],
   "source": [
    "adfuller_test(data2[\"Weekly_Sales\"])"
   ]
  },
  {
   "cell_type": "markdown",
   "id": "cf98f5f6",
   "metadata": {},
   "source": [
    "##### Based on above test we can see our data is stationary"
   ]
  },
  {
   "cell_type": "code",
   "execution_count": 23,
   "id": "1d16fc67",
   "metadata": {},
   "outputs": [],
   "source": [
    "#Spliting the dataset into train and test\n",
    "train = data2[:133]\n",
    "test = data2[-10:]"
   ]
  },
  {
   "cell_type": "code",
   "execution_count": 24,
   "id": "d87d3357",
   "metadata": {},
   "outputs": [
    {
     "data": {
      "text/plain": [
       "Text(0, 0.5, 'Weekly_Sales')"
      ]
     },
     "execution_count": 24,
     "metadata": {},
     "output_type": "execute_result"
    },
    {
     "data": {
      "image/png": "[encoded data removed]",
      "text/plain": [
       "<Figure size 864x576 with 1 Axes>"
      ]
     },
     "metadata": {
      "needs_background": "light"
     },
     "output_type": "display_data"
    }
   ],
   "source": [
    "plt.figure(figsize=(12,8))\n",
    "plt.plot(train)\n",
    "plt.plot(test)\n",
    "plt.xlabel('Sales_Date')\n",
    "plt.ylabel('Weekly_Sales')"
   ]
  },
  {
   "cell_type": "code",
   "execution_count": 25,
   "id": "e89f90bc",
   "metadata": {},
   "outputs": [],
   "source": [
    "import statsmodels.api as sm"
   ]
  },
  {
   "cell_type": "code",
   "execution_count": 26,
   "id": "9e6e728a",
   "metadata": {},
   "outputs": [
    {
     "name": "stderr",
     "output_type": "stream",
     "text": [
      "C:\\Users\\pooja\\anaconda3\\lib\\site-packages\\statsmodels\\tsa\\base\\tsa_model.py:524: ValueWarning: No frequency information was provided, so inferred frequency W-FRI will be used.\n",
      "  warnings.warn('No frequency information was'\n",
      "C:\\Users\\pooja\\anaconda3\\lib\\site-packages\\statsmodels\\tsa\\base\\tsa_model.py:524: ValueWarning: No frequency information was provided, so inferred frequency W-FRI will be used.\n",
      "  warnings.warn('No frequency information was'\n"
     ]
    }
   ],
   "source": [
    "#model = sm.tsa.statespace.SARIMAX(train,order=(0,1,1),seasonal_order=(1,0,0,12))\n",
    "#model1 = model.fit()\n",
    "model = sm.tsa.statespace.SARIMAX(data2['Weekly_Sales'],order=(1,1,1),seasonal_order=(1,0,0,12))\n",
    "result = model.fit()"
   ]
  },
  {
   "cell_type": "code",
   "execution_count": 27,
   "id": "0d23f4dd",
   "metadata": {},
   "outputs": [
    {
     "data": {
      "text/html": [
       "<table class=\"simpletable\">\n",
       "<caption>SARIMAX Results</caption>\n",
       "<tr>\n",
       "  <th>Dep. Variable:</th>            <td>Weekly_Sales</td>           <th>  No. Observations:  </th>    <td>143</td>   \n",
       "</tr>\n",
       "<tr>\n",
       "  <th>Model:</th>           <td>SARIMAX(1, 1, 1)x(1, 0, [], 12)</td> <th>  Log Likelihood     </th> <td>-2407.130</td>\n",
       "</tr>\n",
       "<tr>\n",
       "  <th>Date:</th>                   <td>Sat, 23 Apr 2022</td>         <th>  AIC                </th> <td>4822.259</td> \n",
       "</tr>\n",
       "<tr>\n",
       "  <th>Time:</th>                       <td>17:12:24</td>             <th>  BIC                </th> <td>4834.082</td> \n",
       "</tr>\n",
       "<tr>\n",
       "  <th>Sample:</th>                    <td>02-05-2010</td>            <th>  HQIC               </th> <td>4827.064</td> \n",
       "</tr>\n",
       "<tr>\n",
       "  <th></th>                          <td>- 10-26-2012</td>           <th>                     </th>     <td> </td>    \n",
       "</tr>\n",
       "<tr>\n",
       "  <th>Covariance Type:</th>               <td>opg</td>               <th>                     </th>     <td> </td>    \n",
       "</tr>\n",
       "</table>\n",
       "<table class=\"simpletable\">\n",
       "<tr>\n",
       "      <td></td>        <th>coef</th>     <th>std err</th>      <th>z</th>      <th>P>|z|</th>  <th>[0.025</th>    <th>0.975]</th>  \n",
       "</tr>\n",
       "<tr>\n",
       "  <th>ar.L1</th>    <td>    0.4540</td> <td>    0.067</td> <td>    6.795</td> <td> 0.000</td> <td>    0.323</td> <td>    0.585</td>\n",
       "</tr>\n",
       "<tr>\n",
       "  <th>ma.L1</th>    <td>   -0.9757</td> <td>    0.039</td> <td>  -24.996</td> <td> 0.000</td> <td>   -1.052</td> <td>   -0.899</td>\n",
       "</tr>\n",
       "<tr>\n",
       "  <th>ar.S.L12</th> <td>   -0.0280</td> <td>    0.165</td> <td>   -0.170</td> <td> 0.865</td> <td>   -0.351</td> <td>    0.295</td>\n",
       "</tr>\n",
       "<tr>\n",
       "  <th>sigma2</th>   <td> 3.067e+13</td> <td> 6.27e-15</td> <td> 4.89e+27</td> <td> 0.000</td> <td> 3.07e+13</td> <td> 3.07e+13</td>\n",
       "</tr>\n",
       "</table>\n",
       "<table class=\"simpletable\">\n",
       "<tr>\n",
       "  <th>Ljung-Box (L1) (Q):</th>     <td>1.07</td> <th>  Jarque-Bera (JB):  </th> <td>519.62</td>\n",
       "</tr>\n",
       "<tr>\n",
       "  <th>Prob(Q):</th>                <td>0.30</td> <th>  Prob(JB):          </th>  <td>0.00</td> \n",
       "</tr>\n",
       "<tr>\n",
       "  <th>Heteroskedasticity (H):</th> <td>0.47</td> <th>  Skew:              </th>  <td>1.36</td> \n",
       "</tr>\n",
       "<tr>\n",
       "  <th>Prob(H) (two-sided):</th>    <td>0.01</td> <th>  Kurtosis:          </th>  <td>11.97</td>\n",
       "</tr>\n",
       "</table><br/><br/>Warnings:<br/>[1] Covariance matrix calculated using the outer product of gradients (complex-step).<br/>[2] Covariance matrix is singular or near-singular, with condition number 4.96e+42. Standard errors may be unstable."
      ],
      "text/plain": [
       "<class 'statsmodels.iolib.summary.Summary'>\n",
       "\"\"\"\n",
       "                                      SARIMAX Results                                      \n",
       "===========================================================================================\n",
       "Dep. Variable:                        Weekly_Sales   No. Observations:                  143\n",
       "Model:             SARIMAX(1, 1, 1)x(1, 0, [], 12)   Log Likelihood               -2407.130\n",
       "Date:                             Sat, 23 Apr 2022   AIC                           4822.259\n",
       "Time:                                     17:12:24   BIC                           4834.082\n",
       "Sample:                                 02-05-2010   HQIC                          4827.064\n",
       "                                      - 10-26-2012                                         \n",
       "Covariance Type:                               opg                                         \n",
       "==============================================================================\n",
       "                 coef    std err          z      P>|z|      [0.025      0.975]\n",
       "------------------------------------------------------------------------------\n",
       "ar.L1          0.4540      0.067      6.795      0.000       0.323       0.585\n",
       "ma.L1         -0.9757      0.039    -24.996      0.000      -1.052      -0.899\n",
       "ar.S.L12      -0.0280      0.165     -0.170      0.865      -0.351       0.295\n",
       "sigma2      3.067e+13   6.27e-15   4.89e+27      0.000    3.07e+13    3.07e+13\n",
       "===================================================================================\n",
       "Ljung-Box (L1) (Q):                   1.07   Jarque-Bera (JB):               519.62\n",
       "Prob(Q):                              0.30   Prob(JB):                         0.00\n",
       "Heteroskedasticity (H):               0.47   Skew:                             1.36\n",
       "Prob(H) (two-sided):                  0.01   Kurtosis:                        11.97\n",
       "===================================================================================\n",
       "\n",
       "Warnings:\n",
       "[1] Covariance matrix calculated using the outer product of gradients (complex-step).\n",
       "[2] Covariance matrix is singular or near-singular, with condition number 4.96e+42. Standard errors may be unstable.\n",
       "\"\"\""
      ]
     },
     "execution_count": 27,
     "metadata": {},
     "output_type": "execute_result"
    }
   ],
   "source": [
    "#Summary of the model\n",
    "result.summary()"
   ]
  },
  {
   "cell_type": "code",
   "execution_count": 28,
   "id": "f393297a",
   "metadata": {},
   "outputs": [
    {
     "data": {
      "text/plain": [
       "2010-02-05    0.000000e+00\n",
       "2010-02-12    3.618978e+07\n",
       "2010-02-19    3.816043e+07\n",
       "2010-02-26    3.992887e+07\n",
       "2010-03-05    3.858484e+07\n",
       "                  ...     \n",
       "2012-09-28    4.574247e+07\n",
       "2012-10-05    4.561560e+07\n",
       "2012-10-12    4.733843e+07\n",
       "2012-10-19    4.671045e+07\n",
       "2012-10-26    4.609537e+07\n",
       "Freq: W-FRI, Name: predicted_mean, Length: 143, dtype: float64"
      ]
     },
     "execution_count": 28,
     "metadata": {},
     "output_type": "execute_result"
    }
   ],
   "source": [
    "result.predict()"
   ]
  },
  {
   "cell_type": "code",
   "execution_count": 29,
   "id": "6188c1e4",
   "metadata": {},
   "outputs": [
    {
     "data": {
      "text/html": [
       "<div>\n",
       "<style scoped>\n",
       "    .dataframe tbody tr th:only-of-type {\n",
       "        vertical-align: middle;\n",
       "    }\n",
       "\n",
       "    .dataframe tbody tr th {\n",
       "        vertical-align: top;\n",
       "    }\n",
       "\n",
       "    .dataframe thead th {\n",
       "        text-align: right;\n",
       "    }\n",
       "</style>\n",
       "<table border=\"1\" class=\"dataframe\">\n",
       "  <thead>\n",
       "    <tr style=\"text-align: right;\">\n",
       "      <th></th>\n",
       "      <th>predicted_sales</th>\n",
       "    </tr>\n",
       "    <tr>\n",
       "      <th>Sales_Date</th>\n",
       "      <th></th>\n",
       "    </tr>\n",
       "  </thead>\n",
       "  <tbody>\n",
       "    <tr>\n",
       "      <th>2012-08-24</th>\n",
       "      <td>4.730096e+07</td>\n",
       "    </tr>\n",
       "    <tr>\n",
       "      <th>2012-08-31</th>\n",
       "      <td>4.731333e+07</td>\n",
       "    </tr>\n",
       "    <tr>\n",
       "      <th>2012-09-07</th>\n",
       "      <td>4.723102e+07</td>\n",
       "    </tr>\n",
       "    <tr>\n",
       "      <th>2012-09-14</th>\n",
       "      <td>4.779421e+07</td>\n",
       "    </tr>\n",
       "    <tr>\n",
       "      <th>2012-09-21</th>\n",
       "      <td>4.586464e+07</td>\n",
       "    </tr>\n",
       "    <tr>\n",
       "      <th>2012-09-28</th>\n",
       "      <td>4.574247e+07</td>\n",
       "    </tr>\n",
       "    <tr>\n",
       "      <th>2012-10-05</th>\n",
       "      <td>4.561560e+07</td>\n",
       "    </tr>\n",
       "    <tr>\n",
       "      <th>2012-10-12</th>\n",
       "      <td>4.733843e+07</td>\n",
       "    </tr>\n",
       "    <tr>\n",
       "      <th>2012-10-19</th>\n",
       "      <td>4.671045e+07</td>\n",
       "    </tr>\n",
       "    <tr>\n",
       "      <th>2012-10-26</th>\n",
       "      <td>4.609537e+07</td>\n",
       "    </tr>\n",
       "  </tbody>\n",
       "</table>\n",
       "</div>"
      ],
      "text/plain": [
       "            predicted_sales\n",
       "Sales_Date                 \n",
       "2012-08-24     4.730096e+07\n",
       "2012-08-31     4.731333e+07\n",
       "2012-09-07     4.723102e+07\n",
       "2012-09-14     4.779421e+07\n",
       "2012-09-21     4.586464e+07\n",
       "2012-09-28     4.574247e+07\n",
       "2012-10-05     4.561560e+07\n",
       "2012-10-12     4.733843e+07\n",
       "2012-10-19     4.671045e+07\n",
       "2012-10-26     4.609537e+07"
      ]
     },
     "execution_count": 29,
     "metadata": {},
     "output_type": "execute_result"
    }
   ],
   "source": [
    "#prediction of the provided sales date\n",
    "prediction = pd.DataFrame(result.predict(),index=test.index)\n",
    "prediction.columns = ['predicted_sales']\n",
    "prediction"
   ]
  },
  {
   "cell_type": "code",
   "execution_count": 30,
   "id": "06b6ae8e",
   "metadata": {},
   "outputs": [
    {
     "data": {
      "image/png": "[encoded data removed]",
      "text/plain": [
       "<Figure size 864x576 with 1 Axes>"
      ]
     },
     "metadata": {
      "needs_background": "light"
     },
     "output_type": "display_data"
    }
   ],
   "source": [
    "plt.figure(figsize=(12,8))\n",
    "plt.plot(train,label=\"Training\")\n",
    "plt.plot(test,label=\"Test\")\n",
    "plt.plot(prediction,label=\"Predicted\")\n",
    "plt.legend(loc = 'upper left')\n",
    "plt.show()"
   ]
  },
  {
   "cell_type": "code",
   "execution_count": 31,
   "id": "e2660c1c",
   "metadata": {},
   "outputs": [],
   "source": [
    "from statsmodels.tsa.stattools import adfuller\n",
    "from statsmodels.tsa.stattools import acf, pacf\n",
    "from statsmodels.tsa.seasonal import seasonal_decompose\n",
    "from statsmodels.tsa.arima_model import ARIMA\n",
    "from matplotlib.pylab import rcParams\n",
    "rcParams['figure.figsize'] = 10, 6\n",
    "\n",
    "from statsmodels.tsa.arima.model import ARIMA"
   ]
  },
  {
   "cell_type": "code",
   "execution_count": 32,
   "id": "9f8c12ed",
   "metadata": {},
   "outputs": [
    {
     "name": "stderr",
     "output_type": "stream",
     "text": [
      "C:\\Users\\pooja\\anaconda3\\lib\\site-packages\\statsmodels\\tsa\\base\\tsa_model.py:524: ValueWarning: No frequency information was provided, so inferred frequency W-FRI will be used.\n",
      "  warnings.warn('No frequency information was'\n",
      "C:\\Users\\pooja\\anaconda3\\lib\\site-packages\\statsmodels\\tsa\\base\\tsa_model.py:524: ValueWarning: No frequency information was provided, so inferred frequency W-FRI will be used.\n",
      "  warnings.warn('No frequency information was'\n"
     ]
    },
    {
     "data": {
      "text/plain": [
       "[<matplotlib.lines.Line2D at 0x22ab366c4c0>]"
      ]
     },
     "execution_count": 32,
     "metadata": {},
     "output_type": "execute_result"
    },
    {
     "data": {
      "image/png": "[encoded data removed]",
      "text/plain": [
       "<Figure size 720x432 with 1 Axes>"
      ]
     },
     "metadata": {
      "needs_background": "light"
     },
     "output_type": "display_data"
    }
   ],
   "source": [
    "# AR+I+MA = ARIMA model\n",
    "\n",
    "model = sm.tsa.statespace.SARIMAX(data2['Weekly_Sales'],order=(1,1,1),seasonal_order=(1,0,0,12))\n",
    "result_sarimax = model.fit()\n",
    "\n",
    "\n",
    "\n",
    "#model = ARIMA(data2, order=(1,1,0))\n",
    "#results_ARIMA = model.fit()\n",
    "plt.plot(data2)\n",
    "plt.plot(result_sarimax.fittedvalues, color='red')\n",
    "#plt.title('RSS: %.4f'%sum((results_ARIMA.fittedvalues - datasetLogDiffShifting['#Passengers'])**2))\n",
    "#print('Plotting ARIMA model')"
   ]
  },
  {
   "cell_type": "code",
   "execution_count": 33,
   "id": "97d3b1fa",
   "metadata": {},
   "outputs": [
    {
     "name": "stdout",
     "output_type": "stream",
     "text": [
      "Sales_Date\n",
      "2010-02-05    0.000000e+00\n",
      "2010-02-12    3.618978e+07\n",
      "2010-02-19    3.816043e+07\n",
      "2010-02-26    3.992887e+07\n",
      "2010-03-05    3.858484e+07\n",
      "dtype: float64\n"
     ]
    }
   ],
   "source": [
    "predictions_SARIMAX_diff = pd.Series(result_sarimax.fittedvalues, copy=True)\n",
    "print(predictions_SARIMAX_diff.head())"
   ]
  },
  {
   "cell_type": "code",
   "execution_count": 34,
   "id": "a3d1270e",
   "metadata": {},
   "outputs": [
    {
     "name": "stdout",
     "output_type": "stream",
     "text": [
      "Sales_Date\n",
      "2010-02-05    0.000000e+00\n",
      "2010-02-12    3.618978e+07\n",
      "2010-02-19    7.435021e+07\n",
      "2010-02-26    1.142791e+08\n",
      "2010-03-05    1.528639e+08\n",
      "                  ...     \n",
      "2012-09-28    6.349143e+09\n",
      "2012-10-05    6.394759e+09\n",
      "2012-10-12    6.442097e+09\n",
      "2012-10-19    6.488807e+09\n",
      "2012-10-26    6.534903e+09\n",
      "Length: 143, dtype: float64\n"
     ]
    }
   ],
   "source": [
    "#Convert to cumulative sum\n",
    "predictions_SARIMAX_diff_cumsum = predictions_SARIMAX_diff.cumsum()\n",
    "print(predictions_SARIMAX_diff_cumsum)"
   ]
  },
  {
   "cell_type": "code",
   "execution_count": 35,
   "id": "eba5a81f",
   "metadata": {},
   "outputs": [
    {
     "data": {
      "text/plain": [
       "Sales_Date\n",
       "2012-09-28    6.398894e+09\n",
       "2012-10-05    6.444509e+09\n",
       "2012-10-12    6.491848e+09\n",
       "2012-10-19    6.538558e+09\n",
       "2012-10-26    6.584654e+09\n",
       "dtype: float64"
      ]
     },
     "execution_count": 35,
     "metadata": {},
     "output_type": "execute_result"
    }
   ],
   "source": [
    "predictions_SARIMAX_log = pd.Series(data2['Weekly_Sales'].iloc[0], index=data2.index)\n",
    "predictions_SARIMAX_log = predictions_SARIMAX_log.add(predictions_SARIMAX_diff_cumsum, fill_value=0)\n",
    "predictions_SARIMAX_log.tail()"
   ]
  },
  {
   "cell_type": "code",
   "execution_count": 36,
   "id": "57b8085b",
   "metadata": {},
   "outputs": [
    {
     "name": "stderr",
     "output_type": "stream",
     "text": [
      "C:\\Users\\pooja\\anaconda3\\lib\\site-packages\\pandas\\core\\arraylike.py:397: RuntimeWarning: overflow encountered in exp\n",
      "  result = getattr(ufunc, method)(*inputs, **kwargs)\n"
     ]
    },
    {
     "data": {
      "text/plain": [
       "[<matplotlib.lines.Line2D at 0x22ac2ae0730>]"
      ]
     },
     "execution_count": 36,
     "metadata": {},
     "output_type": "execute_result"
    },
    {
     "data": {
      "image/png": "[encoded data removed]",
      "text/plain": [
       "<Figure size 720x432 with 1 Axes>"
      ]
     },
     "metadata": {
      "needs_background": "light"
     },
     "output_type": "display_data"
    }
   ],
   "source": [
    "# Inverse of log is exp.\n",
    "predictions_SARIMAX = np.exp(predictions_SARIMAX_log)\n",
    "plt.plot(data2)\n",
    "plt.plot(predictions_SARIMAX)"
   ]
  },
  {
   "cell_type": "code",
   "execution_count": 37,
   "id": "b1939ffc",
   "metadata": {},
   "outputs": [
    {
     "name": "stdout",
     "output_type": "stream",
     "text": [
      "2012-11-04    4.379484e+07\n",
      "2012-11-11    4.674360e+07\n",
      "2012-11-18    4.801561e+07\n",
      "2012-11-25    4.889128e+07\n",
      "2012-12-02    4.641456e+07\n",
      "2012-12-09    4.687197e+07\n",
      "2012-12-16    4.675254e+07\n",
      "2012-12-23    4.757385e+07\n",
      "2012-12-30    4.628196e+07\n",
      "2013-01-06    4.645222e+07\n",
      "2013-01-13    5.032195e+07\n",
      "2013-01-20    4.717478e+07\n",
      "2013-01-27    4.621333e+07\n",
      "2013-02-03    4.550652e+07\n",
      "2013-02-10    4.713762e+07\n",
      "2013-02-17    4.716857e+07\n",
      "Freq: W-SUN, Name: predicted_mean, dtype: float64\n"
     ]
    }
   ],
   "source": [
    "#predict forecast values\n",
    "\n",
    "index_future_dates = pd.date_range(start='2012-11-02', end='2013-02-19',freq='W')\n",
    "pred = result_sarimax.predict(start=104,end=119,typ='levels')\n",
    "pred.index = index_future_dates\n",
    "print(pred)"
   ]
  },
  {
   "cell_type": "code",
   "execution_count": 38,
   "id": "1a3bd963",
   "metadata": {},
   "outputs": [
    {
     "data": {
      "text/html": [
       "<div>\n",
       "<style scoped>\n",
       "    .dataframe tbody tr th:only-of-type {\n",
       "        vertical-align: middle;\n",
       "    }\n",
       "\n",
       "    .dataframe tbody tr th {\n",
       "        vertical-align: top;\n",
       "    }\n",
       "\n",
       "    .dataframe thead th {\n",
       "        text-align: right;\n",
       "    }\n",
       "</style>\n",
       "<table border=\"1\" class=\"dataframe\">\n",
       "  <thead>\n",
       "    <tr style=\"text-align: right;\">\n",
       "      <th></th>\n",
       "      <th>Weekly_Sales</th>\n",
       "      <th>predict</th>\n",
       "    </tr>\n",
       "  </thead>\n",
       "  <tbody>\n",
       "    <tr>\n",
       "      <th>2010-02-05</th>\n",
       "      <td>49750740.50</td>\n",
       "      <td>NaN</td>\n",
       "    </tr>\n",
       "    <tr>\n",
       "      <th>2010-02-12</th>\n",
       "      <td>48336677.63</td>\n",
       "      <td>NaN</td>\n",
       "    </tr>\n",
       "    <tr>\n",
       "      <th>2010-02-19</th>\n",
       "      <td>48276993.78</td>\n",
       "      <td>NaN</td>\n",
       "    </tr>\n",
       "    <tr>\n",
       "      <th>2010-02-26</th>\n",
       "      <td>43968571.13</td>\n",
       "      <td>NaN</td>\n",
       "    </tr>\n",
       "    <tr>\n",
       "      <th>2010-03-05</th>\n",
       "      <td>46871470.30</td>\n",
       "      <td>NaN</td>\n",
       "    </tr>\n",
       "    <tr>\n",
       "      <th>...</th>\n",
       "      <td>...</td>\n",
       "      <td>...</td>\n",
       "    </tr>\n",
       "    <tr>\n",
       "      <th>2013-01-20</th>\n",
       "      <td>NaN</td>\n",
       "      <td>4.717478e+07</td>\n",
       "    </tr>\n",
       "    <tr>\n",
       "      <th>2013-01-27</th>\n",
       "      <td>NaN</td>\n",
       "      <td>4.621333e+07</td>\n",
       "    </tr>\n",
       "    <tr>\n",
       "      <th>2013-02-03</th>\n",
       "      <td>NaN</td>\n",
       "      <td>4.550652e+07</td>\n",
       "    </tr>\n",
       "    <tr>\n",
       "      <th>2013-02-10</th>\n",
       "      <td>NaN</td>\n",
       "      <td>4.713762e+07</td>\n",
       "    </tr>\n",
       "    <tr>\n",
       "      <th>2013-02-17</th>\n",
       "      <td>NaN</td>\n",
       "      <td>4.716857e+07</td>\n",
       "    </tr>\n",
       "  </tbody>\n",
       "</table>\n",
       "<p>159 rows × 2 columns</p>\n",
       "</div>"
      ],
      "text/plain": [
       "            Weekly_Sales       predict\n",
       "2010-02-05   49750740.50           NaN\n",
       "2010-02-12   48336677.63           NaN\n",
       "2010-02-19   48276993.78           NaN\n",
       "2010-02-26   43968571.13           NaN\n",
       "2010-03-05   46871470.30           NaN\n",
       "...                  ...           ...\n",
       "2013-01-20           NaN  4.717478e+07\n",
       "2013-01-27           NaN  4.621333e+07\n",
       "2013-02-03           NaN  4.550652e+07\n",
       "2013-02-10           NaN  4.713762e+07\n",
       "2013-02-17           NaN  4.716857e+07\n",
       "\n",
       "[159 rows x 2 columns]"
      ]
     },
     "execution_count": 38,
     "metadata": {},
     "output_type": "execute_result"
    }
   ],
   "source": [
    "#predict forecast values and actual value combine\n",
    "\n",
    "future_df=pd.concat([data2,pred])\n",
    "future_df.rename(columns={0:\"predict\"},inplace=True)\n",
    "future_df"
   ]
  },
  {
   "cell_type": "code",
   "execution_count": 39,
   "id": "40eba844",
   "metadata": {},
   "outputs": [
    {
     "data": {
      "text/plain": [
       "<AxesSubplot:>"
      ]
     },
     "execution_count": 39,
     "metadata": {},
     "output_type": "execute_result"
    },
    {
     "data": {
      "image/png": "[encoded data removed]",
      "text/plain": [
       "<Figure size 864x576 with 1 Axes>"
      ]
     },
     "metadata": {
      "needs_background": "light"
     },
     "output_type": "display_data"
    }
   ],
   "source": [
    "#Actual and forecast predictions\n",
    "\n",
    "future_df[['Weekly_Sales', 'predict']].plot(figsize=(12, 8))"
   ]
  },
  {
   "cell_type": "code",
   "execution_count": null,
   "id": "614c6a41",
   "metadata": {},
   "outputs": [],
   "source": []
  }
 ],
 "metadata": {
  "kernelspec": {
   "display_name": "Python 3 (ipykernel)",
   "language": "python",
   "name": "python3"
  },
  "language_info": {
   "codemirror_mode": {
    "name": "ipython",
    "version": 3
   },
   "file_extension": ".py",
   "mimetype": "text/x-python",
   "name": "python",
   "nbconvert_exporter": "python",
   "pygments_lexer": "ipython3",
   "version": "3.9.7"
  }
 },
 "nbformat": 4,
 "nbformat_minor": 5
}
